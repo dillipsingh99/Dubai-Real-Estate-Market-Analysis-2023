{
 "cells": [
  {
   "cell_type": "code",
   "execution_count": 2,
   "id": "bfdb7b89-cfde-4d64-87c1-119f343bbc40",
   "metadata": {},
   "outputs": [],
   "source": [
    "#Still working , Not completed yet\n",
    "\n",
    "\n",
    "import pandas as pd\n",
    "import numpy as np\n",
    "import plotly.express as px\n",
    "\n",
    "from datetime import datetime, timedelta,date\n",
    "%matplotlib inline\n",
    "import matplotlib.pyplot as plt\n",
    "from __future__ import division\n",
    "\n",
    "import warnings\n",
    "warnings.filterwarnings(\"ignore\")\n",
    "\n",
    "\n",
    "import plotly.offline as pyoff\n",
    "import plotly.graph_objs as go\n",
    "\n",
    "#import Keras\n",
    "from keras.models import Sequential\n",
    "from keras.layers import Dense, Dropout\n",
    "from keras.optimizers import Adam \n",
    "from keras.callbacks import EarlyStopping\n",
    "from keras.layers import LSTM\n",
    "from sklearn.model_selection import KFold, cross_val_score, train_test_split\n",
    "from tensorflow.keras.utils import to_categorical  # Updated import\n",
    "from tensorflow.keras.utils import to_categorical\n",
    "\n",
    "# Example usage\n",
    "# y_binary = to_categorical(y)"
   ]
  },
  {
   "cell_type": "code",
   "execution_count": 1,
   "id": "3027841c-f44f-4941-aaa2-dfbbd2de2600",
   "metadata": {},
   "outputs": [
    {
     "ename": "NameError",
     "evalue": "name 'pd' is not defined",
     "output_type": "error",
     "traceback": [
      "\u001b[1;31m---------------------------------------------------------------------------\u001b[0m",
      "\u001b[1;31mNameError\u001b[0m                                 Traceback (most recent call last)",
      "Cell \u001b[1;32mIn[1], line 1\u001b[0m\n\u001b[1;32m----> 1\u001b[0m df \u001b[38;5;241m=\u001b[39m \u001b[43mpd\u001b[49m\u001b[38;5;241m.\u001b[39mread_csv(\u001b[38;5;124m'\u001b[39m\u001b[38;5;124mTransactions.csv\u001b[39m\u001b[38;5;124m'\u001b[39m)\n\u001b[0;32m      2\u001b[0m df\u001b[38;5;241m.\u001b[39mhead(\u001b[38;5;241m20\u001b[39m)\n",
      "\u001b[1;31mNameError\u001b[0m: name 'pd' is not defined"
     ]
    }
   ],
   "source": [
    "df = pd.read_csv('Transactions.csv')\n",
    "df.head(20)"
   ]
  },
  {
   "cell_type": "code",
   "execution_count": 103,
   "id": "e859591b-7c8d-4096-a9fc-74259be576f4",
   "metadata": {},
   "outputs": [],
   "source": [
    "d_col = ['transaction_id','trans_group_ar','procedure_name_ar',\n",
    "       'property_type_ar', 'property_sub_type_ar','property_usage_ar',\n",
    "       'reg_type_ar', 'area_name_ar',\n",
    "       'building_name_ar', 'building_name_en',\n",
    "       'project_number', 'project_name_ar', 'project_name_en',\n",
    "       'master_project_en', 'master_project_ar', 'nearest_landmark_ar','rooms_en',\n",
    "       'nearest_landmark_en', 'nearest_metro_ar', 'nearest_metro_en',\n",
    "       'nearest_mall_ar', 'nearest_mall_en', 'rooms_ar','property_usage_en', 'reg_type_id', 'area_id', 'area_name_en',\n",
    "       'has_parking','procedure_area','meter_sale_price',\n",
    "       'rent_value', 'meter_rent_price', 'no_of_parties_role_1','property_type_id', 'property_type_en',\n",
    "       'no_of_parties_role_2', 'no_of_parties_role_3','property_sub_type_id', 'property_sub_type_en', 'reg_type_en', 'procedure_id', 'trans_group_id', 'trans_group_en', 'procedure_name_en',]\n",
    "data = df.drop(columns=d_col, axis=1)"
   ]
  },
  {
   "cell_type": "code",
   "execution_count": 104,
   "id": "d0b983f1-bdf8-423f-a50e-e4bf669f813e",
   "metadata": {},
   "outputs": [
    {
     "data": {
      "text/html": [
       "<div>\n",
       "<style scoped>\n",
       "    .dataframe tbody tr th:only-of-type {\n",
       "        vertical-align: middle;\n",
       "    }\n",
       "\n",
       "    .dataframe tbody tr th {\n",
       "        vertical-align: top;\n",
       "    }\n",
       "\n",
       "    .dataframe thead th {\n",
       "        text-align: right;\n",
       "    }\n",
       "</style>\n",
       "<table border=\"1\" class=\"dataframe\">\n",
       "  <thead>\n",
       "    <tr style=\"text-align: right;\">\n",
       "      <th></th>\n",
       "      <th>instance_date</th>\n",
       "      <th>actual_worth</th>\n",
       "    </tr>\n",
       "  </thead>\n",
       "  <tbody>\n",
       "    <tr>\n",
       "      <th>464116</th>\n",
       "      <td>2012-01-02</td>\n",
       "      <td>2050000.0</td>\n",
       "    </tr>\n",
       "    <tr>\n",
       "      <th>257115</th>\n",
       "      <td>2012-01-02</td>\n",
       "      <td>1105000.0</td>\n",
       "    </tr>\n",
       "    <tr>\n",
       "      <th>5711</th>\n",
       "      <td>2012-01-02</td>\n",
       "      <td>1674300.0</td>\n",
       "    </tr>\n",
       "    <tr>\n",
       "      <th>768651</th>\n",
       "      <td>2012-01-02</td>\n",
       "      <td>4500000.0</td>\n",
       "    </tr>\n",
       "    <tr>\n",
       "      <th>1084494</th>\n",
       "      <td>2012-01-02</td>\n",
       "      <td>2450000.0</td>\n",
       "    </tr>\n",
       "    <tr>\n",
       "      <th>...</th>\n",
       "      <td>...</td>\n",
       "      <td>...</td>\n",
       "    </tr>\n",
       "    <tr>\n",
       "      <th>248649</th>\n",
       "      <td>2023-12-29</td>\n",
       "      <td>1647888.0</td>\n",
       "    </tr>\n",
       "    <tr>\n",
       "      <th>465113</th>\n",
       "      <td>2023-12-29</td>\n",
       "      <td>1069888.0</td>\n",
       "    </tr>\n",
       "    <tr>\n",
       "      <th>974588</th>\n",
       "      <td>2023-12-29</td>\n",
       "      <td>2164400.0</td>\n",
       "    </tr>\n",
       "    <tr>\n",
       "      <th>666404</th>\n",
       "      <td>2023-12-29</td>\n",
       "      <td>1833300.0</td>\n",
       "    </tr>\n",
       "    <tr>\n",
       "      <th>32297</th>\n",
       "      <td>2023-12-29</td>\n",
       "      <td>2754888.0</td>\n",
       "    </tr>\n",
       "  </tbody>\n",
       "</table>\n",
       "<p>899613 rows × 2 columns</p>\n",
       "</div>"
      ],
      "text/plain": [
       "        instance_date  actual_worth\n",
       "464116     2012-01-02     2050000.0\n",
       "257115     2012-01-02     1105000.0\n",
       "5711       2012-01-02     1674300.0\n",
       "768651     2012-01-02     4500000.0\n",
       "1084494    2012-01-02     2450000.0\n",
       "...               ...           ...\n",
       "248649     2023-12-29     1647888.0\n",
       "465113     2023-12-29     1069888.0\n",
       "974588     2023-12-29     2164400.0\n",
       "666404     2023-12-29     1833300.0\n",
       "32297      2023-12-29     2754888.0\n",
       "\n",
       "[899613 rows x 2 columns]"
      ]
     },
     "execution_count": 104,
     "metadata": {},
     "output_type": "execute_result"
    }
   ],
   "source": [
    "data['instance_date'] = pd.to_datetime(data['instance_date'], errors='coerce') \n",
    "\n",
    "data = data.loc[( data['instance_date'] >= '2012-01-01')]\n",
    "data = data.loc[( data['instance_date'] < '2024-01-01')]\n",
    "data.sort_values(by=['instance_date'], inplace=True)\n",
    "data"
   ]
  },
  {
   "cell_type": "code",
   "execution_count": 105,
   "id": "a691c3e0-15e3-4668-bffd-d19027ca6c5c",
   "metadata": {},
   "outputs": [],
   "source": [
    "# Extract year and month if needed\n",
    "data['instance_date'] = pd.to_datetime(data['instance_date'], errors='coerce')  # Convert to datetime\n",
    "data['year'] = data['instance_date'].dt.year\n",
    "data['month'] = data['instance_date'].dt.month\n",
    "\n",
    "# preform grouping\n",
    "# Group by year and month, then sum the desired columns\n",
    "monthly_sum = data.groupby(['year', 'month']).actual_worth.sum().reset_index()\n",
    "# monthly_sum"
   ]
  },
  {
   "cell_type": "code",
   "execution_count": 106,
   "id": "eda37d2c-7d62-44d2-82fa-020d87fc56a9",
   "metadata": {},
   "outputs": [
    {
     "data": {
      "text/html": [
       "<div>\n",
       "<style scoped>\n",
       "    .dataframe tbody tr th:only-of-type {\n",
       "        vertical-align: middle;\n",
       "    }\n",
       "\n",
       "    .dataframe tbody tr th {\n",
       "        vertical-align: top;\n",
       "    }\n",
       "\n",
       "    .dataframe thead th {\n",
       "        text-align: right;\n",
       "    }\n",
       "</style>\n",
       "<table border=\"1\" class=\"dataframe\">\n",
       "  <thead>\n",
       "    <tr style=\"text-align: right;\">\n",
       "      <th></th>\n",
       "      <th>year</th>\n",
       "      <th>month</th>\n",
       "      <th>actual_worth</th>\n",
       "      <th>date</th>\n",
       "    </tr>\n",
       "  </thead>\n",
       "  <tbody>\n",
       "    <tr>\n",
       "      <th>0</th>\n",
       "      <td>2012</td>\n",
       "      <td>1</td>\n",
       "      <td>8.941117e+09</td>\n",
       "      <td>2012-01-01</td>\n",
       "    </tr>\n",
       "    <tr>\n",
       "      <th>1</th>\n",
       "      <td>2012</td>\n",
       "      <td>2</td>\n",
       "      <td>9.480180e+09</td>\n",
       "      <td>2012-02-01</td>\n",
       "    </tr>\n",
       "    <tr>\n",
       "      <th>2</th>\n",
       "      <td>2012</td>\n",
       "      <td>3</td>\n",
       "      <td>8.641262e+09</td>\n",
       "      <td>2012-03-01</td>\n",
       "    </tr>\n",
       "    <tr>\n",
       "      <th>3</th>\n",
       "      <td>2012</td>\n",
       "      <td>4</td>\n",
       "      <td>1.790517e+10</td>\n",
       "      <td>2012-04-01</td>\n",
       "    </tr>\n",
       "    <tr>\n",
       "      <th>4</th>\n",
       "      <td>2012</td>\n",
       "      <td>5</td>\n",
       "      <td>1.506620e+10</td>\n",
       "      <td>2012-05-01</td>\n",
       "    </tr>\n",
       "    <tr>\n",
       "      <th>...</th>\n",
       "      <td>...</td>\n",
       "      <td>...</td>\n",
       "      <td>...</td>\n",
       "      <td>...</td>\n",
       "    </tr>\n",
       "    <tr>\n",
       "      <th>139</th>\n",
       "      <td>2023</td>\n",
       "      <td>8</td>\n",
       "      <td>5.997043e+10</td>\n",
       "      <td>2023-08-01</td>\n",
       "    </tr>\n",
       "    <tr>\n",
       "      <th>140</th>\n",
       "      <td>2023</td>\n",
       "      <td>9</td>\n",
       "      <td>4.920779e+10</td>\n",
       "      <td>2023-09-01</td>\n",
       "    </tr>\n",
       "    <tr>\n",
       "      <th>141</th>\n",
       "      <td>2023</td>\n",
       "      <td>10</td>\n",
       "      <td>6.717473e+10</td>\n",
       "      <td>2023-10-01</td>\n",
       "    </tr>\n",
       "    <tr>\n",
       "      <th>142</th>\n",
       "      <td>2023</td>\n",
       "      <td>11</td>\n",
       "      <td>6.819068e+10</td>\n",
       "      <td>2023-11-01</td>\n",
       "    </tr>\n",
       "    <tr>\n",
       "      <th>143</th>\n",
       "      <td>2023</td>\n",
       "      <td>12</td>\n",
       "      <td>5.705523e+10</td>\n",
       "      <td>2023-12-01</td>\n",
       "    </tr>\n",
       "  </tbody>\n",
       "</table>\n",
       "<p>144 rows × 4 columns</p>\n",
       "</div>"
      ],
      "text/plain": [
       "     year  month  actual_worth       date\n",
       "0    2012      1  8.941117e+09 2012-01-01\n",
       "1    2012      2  9.480180e+09 2012-02-01\n",
       "2    2012      3  8.641262e+09 2012-03-01\n",
       "3    2012      4  1.790517e+10 2012-04-01\n",
       "4    2012      5  1.506620e+10 2012-05-01\n",
       "..    ...    ...           ...        ...\n",
       "139  2023      8  5.997043e+10 2023-08-01\n",
       "140  2023      9  4.920779e+10 2023-09-01\n",
       "141  2023     10  6.717473e+10 2023-10-01\n",
       "142  2023     11  6.819068e+10 2023-11-01\n",
       "143  2023     12  5.705523e+10 2023-12-01\n",
       "\n",
       "[144 rows x 4 columns]"
      ]
     },
     "execution_count": 106,
     "metadata": {},
     "output_type": "execute_result"
    }
   ],
   "source": [
    "monthly_sum['date'] = monthly_sum['year'].astype('str') + '-' + monthly_sum['month'].astype('str') + '-' + '01'\n",
    "monthly_sum['date'] = pd.to_datetime(monthly_sum['date'])\n",
    "monthly_sum"
   ]
  },
  {
   "cell_type": "code",
   "execution_count": 107,
   "id": "b680db6a-bb6f-4df1-ba09-adba2069ec39",
   "metadata": {},
   "outputs": [
    {
     "data": {
      "text/html": [
       "<div>\n",
       "<style scoped>\n",
       "    .dataframe tbody tr th:only-of-type {\n",
       "        vertical-align: middle;\n",
       "    }\n",
       "\n",
       "    .dataframe tbody tr th {\n",
       "        vertical-align: top;\n",
       "    }\n",
       "\n",
       "    .dataframe thead th {\n",
       "        text-align: right;\n",
       "    }\n",
       "</style>\n",
       "<table border=\"1\" class=\"dataframe\">\n",
       "  <thead>\n",
       "    <tr style=\"text-align: right;\">\n",
       "      <th></th>\n",
       "      <th>actual_worth</th>\n",
       "      <th>date</th>\n",
       "    </tr>\n",
       "  </thead>\n",
       "  <tbody>\n",
       "    <tr>\n",
       "      <th>0</th>\n",
       "      <td>8.941117e+09</td>\n",
       "      <td>2012-01-01</td>\n",
       "    </tr>\n",
       "    <tr>\n",
       "      <th>1</th>\n",
       "      <td>9.480180e+09</td>\n",
       "      <td>2012-02-01</td>\n",
       "    </tr>\n",
       "    <tr>\n",
       "      <th>2</th>\n",
       "      <td>8.641262e+09</td>\n",
       "      <td>2012-03-01</td>\n",
       "    </tr>\n",
       "    <tr>\n",
       "      <th>3</th>\n",
       "      <td>1.790517e+10</td>\n",
       "      <td>2012-04-01</td>\n",
       "    </tr>\n",
       "    <tr>\n",
       "      <th>4</th>\n",
       "      <td>1.506620e+10</td>\n",
       "      <td>2012-05-01</td>\n",
       "    </tr>\n",
       "    <tr>\n",
       "      <th>...</th>\n",
       "      <td>...</td>\n",
       "      <td>...</td>\n",
       "    </tr>\n",
       "    <tr>\n",
       "      <th>139</th>\n",
       "      <td>5.997043e+10</td>\n",
       "      <td>2023-08-01</td>\n",
       "    </tr>\n",
       "    <tr>\n",
       "      <th>140</th>\n",
       "      <td>4.920779e+10</td>\n",
       "      <td>2023-09-01</td>\n",
       "    </tr>\n",
       "    <tr>\n",
       "      <th>141</th>\n",
       "      <td>6.717473e+10</td>\n",
       "      <td>2023-10-01</td>\n",
       "    </tr>\n",
       "    <tr>\n",
       "      <th>142</th>\n",
       "      <td>6.819068e+10</td>\n",
       "      <td>2023-11-01</td>\n",
       "    </tr>\n",
       "    <tr>\n",
       "      <th>143</th>\n",
       "      <td>5.705523e+10</td>\n",
       "      <td>2023-12-01</td>\n",
       "    </tr>\n",
       "  </tbody>\n",
       "</table>\n",
       "<p>144 rows × 2 columns</p>\n",
       "</div>"
      ],
      "text/plain": [
       "     actual_worth       date\n",
       "0    8.941117e+09 2012-01-01\n",
       "1    9.480180e+09 2012-02-01\n",
       "2    8.641262e+09 2012-03-01\n",
       "3    1.790517e+10 2012-04-01\n",
       "4    1.506620e+10 2012-05-01\n",
       "..            ...        ...\n",
       "139  5.997043e+10 2023-08-01\n",
       "140  4.920779e+10 2023-09-01\n",
       "141  6.717473e+10 2023-10-01\n",
       "142  6.819068e+10 2023-11-01\n",
       "143  5.705523e+10 2023-12-01\n",
       "\n",
       "[144 rows x 2 columns]"
      ]
     },
     "execution_count": 107,
     "metadata": {},
     "output_type": "execute_result"
    }
   ],
   "source": [
    "dr_col = ['year', 'month']\n",
    "monthly_sum.drop(columns=dr_col, axis=1)"
   ]
  },
  {
   "cell_type": "code",
   "execution_count": 108,
   "id": "8de74045-4282-47e1-a9be-965078cfaa40",
   "metadata": {},
   "outputs": [
    {
     "data": {
      "application/vnd.plotly.v1+json": {
       "config": {
        "linkText": "Export to plot.ly",
        "plotlyServerURL": "https://plot.ly",
        "showLink": false
       },
       "data": [
        {
         "type": "scatter",
         "x": [
          "2012-01-01T00:00:00",
          "2012-02-01T00:00:00",
          "2012-03-01T00:00:00",
          "2012-04-01T00:00:00",
          "2012-05-01T00:00:00",
          "2012-06-01T00:00:00",
          "2012-07-01T00:00:00",
          "2012-08-01T00:00:00",
          "2012-09-01T00:00:00",
          "2012-10-01T00:00:00",
          "2012-11-01T00:00:00",
          "2012-12-01T00:00:00",
          "2013-01-01T00:00:00",
          "2013-02-01T00:00:00",
          "2013-03-01T00:00:00",
          "2013-04-01T00:00:00",
          "2013-05-01T00:00:00",
          "2013-06-01T00:00:00",
          "2013-07-01T00:00:00",
          "2013-08-01T00:00:00",
          "2013-09-01T00:00:00",
          "2013-10-01T00:00:00",
          "2013-11-01T00:00:00",
          "2013-12-01T00:00:00",
          "2014-01-01T00:00:00",
          "2014-02-01T00:00:00",
          "2014-03-01T00:00:00",
          "2014-04-01T00:00:00",
          "2014-05-01T00:00:00",
          "2014-06-01T00:00:00",
          "2014-07-01T00:00:00",
          "2014-08-01T00:00:00",
          "2014-09-01T00:00:00",
          "2014-10-01T00:00:00",
          "2014-11-01T00:00:00",
          "2014-12-01T00:00:00",
          "2015-01-01T00:00:00",
          "2015-02-01T00:00:00",
          "2015-03-01T00:00:00",
          "2015-04-01T00:00:00",
          "2015-05-01T00:00:00",
          "2015-06-01T00:00:00",
          "2015-07-01T00:00:00",
          "2015-08-01T00:00:00",
          "2015-09-01T00:00:00",
          "2015-10-01T00:00:00",
          "2015-11-01T00:00:00",
          "2015-12-01T00:00:00",
          "2016-01-01T00:00:00",
          "2016-02-01T00:00:00",
          "2016-03-01T00:00:00",
          "2016-04-01T00:00:00",
          "2016-05-01T00:00:00",
          "2016-06-01T00:00:00",
          "2016-07-01T00:00:00",
          "2016-08-01T00:00:00",
          "2016-09-01T00:00:00",
          "2016-10-01T00:00:00",
          "2016-11-01T00:00:00",
          "2016-12-01T00:00:00",
          "2017-01-01T00:00:00",
          "2017-02-01T00:00:00",
          "2017-03-01T00:00:00",
          "2017-04-01T00:00:00",
          "2017-05-01T00:00:00",
          "2017-06-01T00:00:00",
          "2017-07-01T00:00:00",
          "2017-08-01T00:00:00",
          "2017-09-01T00:00:00",
          "2017-10-01T00:00:00",
          "2017-11-01T00:00:00",
          "2017-12-01T00:00:00",
          "2018-01-01T00:00:00",
          "2018-02-01T00:00:00",
          "2018-03-01T00:00:00",
          "2018-04-01T00:00:00",
          "2018-05-01T00:00:00",
          "2018-06-01T00:00:00",
          "2018-07-01T00:00:00",
          "2018-08-01T00:00:00",
          "2018-09-01T00:00:00",
          "2018-10-01T00:00:00",
          "2018-11-01T00:00:00",
          "2018-12-01T00:00:00",
          "2019-01-01T00:00:00",
          "2019-02-01T00:00:00",
          "2019-03-01T00:00:00",
          "2019-04-01T00:00:00",
          "2019-05-01T00:00:00",
          "2019-06-01T00:00:00",
          "2019-07-01T00:00:00",
          "2019-08-01T00:00:00",
          "2019-09-01T00:00:00",
          "2019-10-01T00:00:00",
          "2019-11-01T00:00:00",
          "2019-12-01T00:00:00",
          "2020-01-01T00:00:00",
          "2020-02-01T00:00:00",
          "2020-03-01T00:00:00",
          "2020-04-01T00:00:00",
          "2020-05-01T00:00:00",
          "2020-06-01T00:00:00",
          "2020-07-01T00:00:00",
          "2020-08-01T00:00:00",
          "2020-09-01T00:00:00",
          "2020-10-01T00:00:00",
          "2020-11-01T00:00:00",
          "2020-12-01T00:00:00",
          "2021-01-01T00:00:00",
          "2021-02-01T00:00:00",
          "2021-03-01T00:00:00",
          "2021-04-01T00:00:00",
          "2021-05-01T00:00:00",
          "2021-06-01T00:00:00",
          "2021-07-01T00:00:00",
          "2021-08-01T00:00:00",
          "2021-09-01T00:00:00",
          "2021-10-01T00:00:00",
          "2021-11-01T00:00:00",
          "2021-12-01T00:00:00",
          "2022-01-01T00:00:00",
          "2022-02-01T00:00:00",
          "2022-03-01T00:00:00",
          "2022-04-01T00:00:00",
          "2022-05-01T00:00:00",
          "2022-06-01T00:00:00",
          "2022-07-01T00:00:00",
          "2022-08-01T00:00:00",
          "2022-09-01T00:00:00",
          "2022-10-01T00:00:00",
          "2022-11-01T00:00:00",
          "2022-12-01T00:00:00",
          "2023-01-01T00:00:00",
          "2023-02-01T00:00:00",
          "2023-03-01T00:00:00",
          "2023-04-01T00:00:00",
          "2023-05-01T00:00:00",
          "2023-06-01T00:00:00",
          "2023-07-01T00:00:00",
          "2023-08-01T00:00:00",
          "2023-09-01T00:00:00",
          "2023-10-01T00:00:00",
          "2023-11-01T00:00:00",
          "2023-12-01T00:00:00"
         ],
         "y": [
          8941117280,
          9480179765,
          8641261828,
          17905174931,
          15066203049,
          34680026944,
          20032251065,
          7023233987,
          9308104436,
          23506817186,
          20273197983,
          11999559204,
          15562869235,
          18322245256,
          19503752778,
          17993169330,
          18219738297,
          24732404835,
          26324454442,
          16212488882,
          21712081269,
          22311561657,
          18577057723,
          46825513012,
          21682558361,
          24366076854,
          23736310368,
          23511898710,
          16920922612,
          19680765142,
          17857103157,
          17297795782,
          22457310575,
          18441651718,
          18676256703,
          28915835934,
          22439200782,
          16555205797,
          31647627661,
          25708999021,
          19306135231,
          21345601891,
          16705560813,
          19029813648,
          27822843169,
          16448186083,
          21973007462,
          22092816220,
          21683144340,
          19128748992,
          20042389444,
          20990569044,
          21646925710,
          25872150922,
          16451073189,
          23266300262,
          12077015157,
          37748527919,
          25078223109,
          20902105607,
          24321067816,
          23810852537,
          23890477948,
          21612631657,
          23160681031,
          13712047995,
          18014518032,
          27254249728,
          15241949914,
          20331029340,
          26276813784,
          31571903509,
          16911604720,
          18926051719,
          20246980241,
          17177321238,
          19478248502,
          14977234558,
          21620171058,
          13097368480,
          11959671350,
          19383902557,
          13638185895,
          29070962725,
          12990957411,
          24935601324,
          13701356500,
          29380519062,
          16672826272,
          11882578332,
          17550379741,
          9054248078,
          15206292692,
          22377187632,
          17344734301,
          23240991146,
          13933633567,
          17135558385,
          15779080358,
          5709205172,
          5963140130,
          11694896733,
          27145474757,
          11139072257,
          18389000360,
          14383712349,
          13837578602,
          15484542080,
          28096323869,
          15895718393,
          24140549459,
          21742003332,
          18518177274,
          30248467154,
          18527789914,
          25602612911,
          30512191925,
          24510180627,
          28447698973,
          27410750815,
          21787454879,
          22390108585,
          42230216807,
          27081203603,
          26810050050,
          37955778518,
          50426453951,
          35560741723,
          49000019494,
          33583872072,
          131408858619,
          41965601058,
          51388620565,
          55055802728,
          49649000685,
          37588656148,
          45675503831,
          43303209884,
          49511659647,
          59970434143,
          49207785206,
          67174728232,
          68190677630,
          57055228149
         ]
        }
       ],
       "layout": {
        "autosize": true,
        "template": {
         "data": {
          "bar": [
           {
            "error_x": {
             "color": "#2a3f5f"
            },
            "error_y": {
             "color": "#2a3f5f"
            },
            "marker": {
             "line": {
              "color": "#E5ECF6",
              "width": 0.5
             },
             "pattern": {
              "fillmode": "overlay",
              "size": 10,
              "solidity": 0.2
             }
            },
            "type": "bar"
           }
          ],
          "barpolar": [
           {
            "marker": {
             "line": {
              "color": "#E5ECF6",
              "width": 0.5
             },
             "pattern": {
              "fillmode": "overlay",
              "size": 10,
              "solidity": 0.2
             }
            },
            "type": "barpolar"
           }
          ],
          "carpet": [
           {
            "aaxis": {
             "endlinecolor": "#2a3f5f",
             "gridcolor": "white",
             "linecolor": "white",
             "minorgridcolor": "white",
             "startlinecolor": "#2a3f5f"
            },
            "baxis": {
             "endlinecolor": "#2a3f5f",
             "gridcolor": "white",
             "linecolor": "white",
             "minorgridcolor": "white",
             "startlinecolor": "#2a3f5f"
            },
            "type": "carpet"
           }
          ],
          "choropleth": [
           {
            "colorbar": {
             "outlinewidth": 0,
             "ticks": ""
            },
            "type": "choropleth"
           }
          ],
          "contour": [
           {
            "colorbar": {
             "outlinewidth": 0,
             "ticks": ""
            },
            "colorscale": [
             [
              0,
              "#0d0887"
             ],
             [
              0.1111111111111111,
              "#46039f"
             ],
             [
              0.2222222222222222,
              "#7201a8"
             ],
             [
              0.3333333333333333,
              "#9c179e"
             ],
             [
              0.4444444444444444,
              "#bd3786"
             ],
             [
              0.5555555555555556,
              "#d8576b"
             ],
             [
              0.6666666666666666,
              "#ed7953"
             ],
             [
              0.7777777777777778,
              "#fb9f3a"
             ],
             [
              0.8888888888888888,
              "#fdca26"
             ],
             [
              1,
              "#f0f921"
             ]
            ],
            "type": "contour"
           }
          ],
          "contourcarpet": [
           {
            "colorbar": {
             "outlinewidth": 0,
             "ticks": ""
            },
            "type": "contourcarpet"
           }
          ],
          "heatmap": [
           {
            "colorbar": {
             "outlinewidth": 0,
             "ticks": ""
            },
            "colorscale": [
             [
              0,
              "#0d0887"
             ],
             [
              0.1111111111111111,
              "#46039f"
             ],
             [
              0.2222222222222222,
              "#7201a8"
             ],
             [
              0.3333333333333333,
              "#9c179e"
             ],
             [
              0.4444444444444444,
              "#bd3786"
             ],
             [
              0.5555555555555556,
              "#d8576b"
             ],
             [
              0.6666666666666666,
              "#ed7953"
             ],
             [
              0.7777777777777778,
              "#fb9f3a"
             ],
             [
              0.8888888888888888,
              "#fdca26"
             ],
             [
              1,
              "#f0f921"
             ]
            ],
            "type": "heatmap"
           }
          ],
          "heatmapgl": [
           {
            "colorbar": {
             "outlinewidth": 0,
             "ticks": ""
            },
            "colorscale": [
             [
              0,
              "#0d0887"
             ],
             [
              0.1111111111111111,
              "#46039f"
             ],
             [
              0.2222222222222222,
              "#7201a8"
             ],
             [
              0.3333333333333333,
              "#9c179e"
             ],
             [
              0.4444444444444444,
              "#bd3786"
             ],
             [
              0.5555555555555556,
              "#d8576b"
             ],
             [
              0.6666666666666666,
              "#ed7953"
             ],
             [
              0.7777777777777778,
              "#fb9f3a"
             ],
             [
              0.8888888888888888,
              "#fdca26"
             ],
             [
              1,
              "#f0f921"
             ]
            ],
            "type": "heatmapgl"
           }
          ],
          "histogram": [
           {
            "marker": {
             "pattern": {
              "fillmode": "overlay",
              "size": 10,
              "solidity": 0.2
             }
            },
            "type": "histogram"
           }
          ],
          "histogram2d": [
           {
            "colorbar": {
             "outlinewidth": 0,
             "ticks": ""
            },
            "colorscale": [
             [
              0,
              "#0d0887"
             ],
             [
              0.1111111111111111,
              "#46039f"
             ],
             [
              0.2222222222222222,
              "#7201a8"
             ],
             [
              0.3333333333333333,
              "#9c179e"
             ],
             [
              0.4444444444444444,
              "#bd3786"
             ],
             [
              0.5555555555555556,
              "#d8576b"
             ],
             [
              0.6666666666666666,
              "#ed7953"
             ],
             [
              0.7777777777777778,
              "#fb9f3a"
             ],
             [
              0.8888888888888888,
              "#fdca26"
             ],
             [
              1,
              "#f0f921"
             ]
            ],
            "type": "histogram2d"
           }
          ],
          "histogram2dcontour": [
           {
            "colorbar": {
             "outlinewidth": 0,
             "ticks": ""
            },
            "colorscale": [
             [
              0,
              "#0d0887"
             ],
             [
              0.1111111111111111,
              "#46039f"
             ],
             [
              0.2222222222222222,
              "#7201a8"
             ],
             [
              0.3333333333333333,
              "#9c179e"
             ],
             [
              0.4444444444444444,
              "#bd3786"
             ],
             [
              0.5555555555555556,
              "#d8576b"
             ],
             [
              0.6666666666666666,
              "#ed7953"
             ],
             [
              0.7777777777777778,
              "#fb9f3a"
             ],
             [
              0.8888888888888888,
              "#fdca26"
             ],
             [
              1,
              "#f0f921"
             ]
            ],
            "type": "histogram2dcontour"
           }
          ],
          "mesh3d": [
           {
            "colorbar": {
             "outlinewidth": 0,
             "ticks": ""
            },
            "type": "mesh3d"
           }
          ],
          "parcoords": [
           {
            "line": {
             "colorbar": {
              "outlinewidth": 0,
              "ticks": ""
             }
            },
            "type": "parcoords"
           }
          ],
          "pie": [
           {
            "automargin": true,
            "type": "pie"
           }
          ],
          "scatter": [
           {
            "fillpattern": {
             "fillmode": "overlay",
             "size": 10,
             "solidity": 0.2
            },
            "type": "scatter"
           }
          ],
          "scatter3d": [
           {
            "line": {
             "colorbar": {
              "outlinewidth": 0,
              "ticks": ""
             }
            },
            "marker": {
             "colorbar": {
              "outlinewidth": 0,
              "ticks": ""
             }
            },
            "type": "scatter3d"
           }
          ],
          "scattercarpet": [
           {
            "marker": {
             "colorbar": {
              "outlinewidth": 0,
              "ticks": ""
             }
            },
            "type": "scattercarpet"
           }
          ],
          "scattergeo": [
           {
            "marker": {
             "colorbar": {
              "outlinewidth": 0,
              "ticks": ""
             }
            },
            "type": "scattergeo"
           }
          ],
          "scattergl": [
           {
            "marker": {
             "colorbar": {
              "outlinewidth": 0,
              "ticks": ""
             }
            },
            "type": "scattergl"
           }
          ],
          "scattermapbox": [
           {
            "marker": {
             "colorbar": {
              "outlinewidth": 0,
              "ticks": ""
             }
            },
            "type": "scattermapbox"
           }
          ],
          "scatterpolar": [
           {
            "marker": {
             "colorbar": {
              "outlinewidth": 0,
              "ticks": ""
             }
            },
            "type": "scatterpolar"
           }
          ],
          "scatterpolargl": [
           {
            "marker": {
             "colorbar": {
              "outlinewidth": 0,
              "ticks": ""
             }
            },
            "type": "scatterpolargl"
           }
          ],
          "scatterternary": [
           {
            "marker": {
             "colorbar": {
              "outlinewidth": 0,
              "ticks": ""
             }
            },
            "type": "scatterternary"
           }
          ],
          "surface": [
           {
            "colorbar": {
             "outlinewidth": 0,
             "ticks": ""
            },
            "colorscale": [
             [
              0,
              "#0d0887"
             ],
             [
              0.1111111111111111,
              "#46039f"
             ],
             [
              0.2222222222222222,
              "#7201a8"
             ],
             [
              0.3333333333333333,
              "#9c179e"
             ],
             [
              0.4444444444444444,
              "#bd3786"
             ],
             [
              0.5555555555555556,
              "#d8576b"
             ],
             [
              0.6666666666666666,
              "#ed7953"
             ],
             [
              0.7777777777777778,
              "#fb9f3a"
             ],
             [
              0.8888888888888888,
              "#fdca26"
             ],
             [
              1,
              "#f0f921"
             ]
            ],
            "type": "surface"
           }
          ],
          "table": [
           {
            "cells": {
             "fill": {
              "color": "#EBF0F8"
             },
             "line": {
              "color": "white"
             }
            },
            "header": {
             "fill": {
              "color": "#C8D4E3"
             },
             "line": {
              "color": "white"
             }
            },
            "type": "table"
           }
          ]
         },
         "layout": {
          "annotationdefaults": {
           "arrowcolor": "#2a3f5f",
           "arrowhead": 0,
           "arrowwidth": 1
          },
          "autotypenumbers": "strict",
          "coloraxis": {
           "colorbar": {
            "outlinewidth": 0,
            "ticks": ""
           }
          },
          "colorscale": {
           "diverging": [
            [
             0,
             "#8e0152"
            ],
            [
             0.1,
             "#c51b7d"
            ],
            [
             0.2,
             "#de77ae"
            ],
            [
             0.3,
             "#f1b6da"
            ],
            [
             0.4,
             "#fde0ef"
            ],
            [
             0.5,
             "#f7f7f7"
            ],
            [
             0.6,
             "#e6f5d0"
            ],
            [
             0.7,
             "#b8e186"
            ],
            [
             0.8,
             "#7fbc41"
            ],
            [
             0.9,
             "#4d9221"
            ],
            [
             1,
             "#276419"
            ]
           ],
           "sequential": [
            [
             0,
             "#0d0887"
            ],
            [
             0.1111111111111111,
             "#46039f"
            ],
            [
             0.2222222222222222,
             "#7201a8"
            ],
            [
             0.3333333333333333,
             "#9c179e"
            ],
            [
             0.4444444444444444,
             "#bd3786"
            ],
            [
             0.5555555555555556,
             "#d8576b"
            ],
            [
             0.6666666666666666,
             "#ed7953"
            ],
            [
             0.7777777777777778,
             "#fb9f3a"
            ],
            [
             0.8888888888888888,
             "#fdca26"
            ],
            [
             1,
             "#f0f921"
            ]
           ],
           "sequentialminus": [
            [
             0,
             "#0d0887"
            ],
            [
             0.1111111111111111,
             "#46039f"
            ],
            [
             0.2222222222222222,
             "#7201a8"
            ],
            [
             0.3333333333333333,
             "#9c179e"
            ],
            [
             0.4444444444444444,
             "#bd3786"
            ],
            [
             0.5555555555555556,
             "#d8576b"
            ],
            [
             0.6666666666666666,
             "#ed7953"
            ],
            [
             0.7777777777777778,
             "#fb9f3a"
            ],
            [
             0.8888888888888888,
             "#fdca26"
            ],
            [
             1,
             "#f0f921"
            ]
           ]
          },
          "colorway": [
           "#636efa",
           "#EF553B",
           "#00cc96",
           "#ab63fa",
           "#FFA15A",
           "#19d3f3",
           "#FF6692",
           "#B6E880",
           "#FF97FF",
           "#FECB52"
          ],
          "font": {
           "color": "#2a3f5f"
          },
          "geo": {
           "bgcolor": "white",
           "lakecolor": "white",
           "landcolor": "#E5ECF6",
           "showlakes": true,
           "showland": true,
           "subunitcolor": "white"
          },
          "hoverlabel": {
           "align": "left"
          },
          "hovermode": "closest",
          "mapbox": {
           "style": "light"
          },
          "paper_bgcolor": "white",
          "plot_bgcolor": "#E5ECF6",
          "polar": {
           "angularaxis": {
            "gridcolor": "white",
            "linecolor": "white",
            "ticks": ""
           },
           "bgcolor": "#E5ECF6",
           "radialaxis": {
            "gridcolor": "white",
            "linecolor": "white",
            "ticks": ""
           }
          },
          "scene": {
           "xaxis": {
            "backgroundcolor": "#E5ECF6",
            "gridcolor": "white",
            "gridwidth": 2,
            "linecolor": "white",
            "showbackground": true,
            "ticks": "",
            "zerolinecolor": "white"
           },
           "yaxis": {
            "backgroundcolor": "#E5ECF6",
            "gridcolor": "white",
            "gridwidth": 2,
            "linecolor": "white",
            "showbackground": true,
            "ticks": "",
            "zerolinecolor": "white"
           },
           "zaxis": {
            "backgroundcolor": "#E5ECF6",
            "gridcolor": "white",
            "gridwidth": 2,
            "linecolor": "white",
            "showbackground": true,
            "ticks": "",
            "zerolinecolor": "white"
           }
          },
          "shapedefaults": {
           "line": {
            "color": "#2a3f5f"
           }
          },
          "ternary": {
           "aaxis": {
            "gridcolor": "white",
            "linecolor": "white",
            "ticks": ""
           },
           "baxis": {
            "gridcolor": "white",
            "linecolor": "white",
            "ticks": ""
           },
           "bgcolor": "#E5ECF6",
           "caxis": {
            "gridcolor": "white",
            "linecolor": "white",
            "ticks": ""
           }
          },
          "title": {
           "x": 0.05
          },
          "xaxis": {
           "automargin": true,
           "gridcolor": "white",
           "linecolor": "white",
           "ticks": "",
           "title": {
            "standoff": 15
           },
           "zerolinecolor": "white",
           "zerolinewidth": 2
          },
          "yaxis": {
           "automargin": true,
           "gridcolor": "white",
           "linecolor": "white",
           "ticks": "",
           "title": {
            "standoff": 15
           },
           "zerolinecolor": "white",
           "zerolinewidth": 2
          }
         }
        },
        "title": {
         "text": "Montly Sales"
        },
        "xaxis": {
         "autorange": true,
         "range": [
          "2012-01-01",
          "2023-12-01"
         ],
         "type": "date"
        },
        "yaxis": {
         "autorange": true,
         "range": [
          -1274108908.3888893,
          138392172699.3889
         ],
         "type": "linear"
        }
       }
      },
      "text/html": [
       "<div>                            <div id=\"bec0e05f-f3ff-4947-9e2b-06a6bc6fdb46\" class=\"plotly-graph-div\" style=\"height:525px; width:100%;\"></div>            <script type=\"text/javascript\">                require([\"plotly\"], function(Plotly) {                    window.PLOTLYENV=window.PLOTLYENV || {};                                    if (document.getElementById(\"bec0e05f-f3ff-4947-9e2b-06a6bc6fdb46\")) {                    Plotly.newPlot(                        \"bec0e05f-f3ff-4947-9e2b-06a6bc6fdb46\",                        [{\"x\":[\"2012-01-01T00:00:00\",\"2012-02-01T00:00:00\",\"2012-03-01T00:00:00\",\"2012-04-01T00:00:00\",\"2012-05-01T00:00:00\",\"2012-06-01T00:00:00\",\"2012-07-01T00:00:00\",\"2012-08-01T00:00:00\",\"2012-09-01T00:00:00\",\"2012-10-01T00:00:00\",\"2012-11-01T00:00:00\",\"2012-12-01T00:00:00\",\"2013-01-01T00:00:00\",\"2013-02-01T00:00:00\",\"2013-03-01T00:00:00\",\"2013-04-01T00:00:00\",\"2013-05-01T00:00:00\",\"2013-06-01T00:00:00\",\"2013-07-01T00:00:00\",\"2013-08-01T00:00:00\",\"2013-09-01T00:00:00\",\"2013-10-01T00:00:00\",\"2013-11-01T00:00:00\",\"2013-12-01T00:00:00\",\"2014-01-01T00:00:00\",\"2014-02-01T00:00:00\",\"2014-03-01T00:00:00\",\"2014-04-01T00:00:00\",\"2014-05-01T00:00:00\",\"2014-06-01T00:00:00\",\"2014-07-01T00:00:00\",\"2014-08-01T00:00:00\",\"2014-09-01T00:00:00\",\"2014-10-01T00:00:00\",\"2014-11-01T00:00:00\",\"2014-12-01T00:00:00\",\"2015-01-01T00:00:00\",\"2015-02-01T00:00:00\",\"2015-03-01T00:00:00\",\"2015-04-01T00:00:00\",\"2015-05-01T00:00:00\",\"2015-06-01T00:00:00\",\"2015-07-01T00:00:00\",\"2015-08-01T00:00:00\",\"2015-09-01T00:00:00\",\"2015-10-01T00:00:00\",\"2015-11-01T00:00:00\",\"2015-12-01T00:00:00\",\"2016-01-01T00:00:00\",\"2016-02-01T00:00:00\",\"2016-03-01T00:00:00\",\"2016-04-01T00:00:00\",\"2016-05-01T00:00:00\",\"2016-06-01T00:00:00\",\"2016-07-01T00:00:00\",\"2016-08-01T00:00:00\",\"2016-09-01T00:00:00\",\"2016-10-01T00:00:00\",\"2016-11-01T00:00:00\",\"2016-12-01T00:00:00\",\"2017-01-01T00:00:00\",\"2017-02-01T00:00:00\",\"2017-03-01T00:00:00\",\"2017-04-01T00:00:00\",\"2017-05-01T00:00:00\",\"2017-06-01T00:00:00\",\"2017-07-01T00:00:00\",\"2017-08-01T00:00:00\",\"2017-09-01T00:00:00\",\"2017-10-01T00:00:00\",\"2017-11-01T00:00:00\",\"2017-12-01T00:00:00\",\"2018-01-01T00:00:00\",\"2018-02-01T00:00:00\",\"2018-03-01T00:00:00\",\"2018-04-01T00:00:00\",\"2018-05-01T00:00:00\",\"2018-06-01T00:00:00\",\"2018-07-01T00:00:00\",\"2018-08-01T00:00:00\",\"2018-09-01T00:00:00\",\"2018-10-01T00:00:00\",\"2018-11-01T00:00:00\",\"2018-12-01T00:00:00\",\"2019-01-01T00:00:00\",\"2019-02-01T00:00:00\",\"2019-03-01T00:00:00\",\"2019-04-01T00:00:00\",\"2019-05-01T00:00:00\",\"2019-06-01T00:00:00\",\"2019-07-01T00:00:00\",\"2019-08-01T00:00:00\",\"2019-09-01T00:00:00\",\"2019-10-01T00:00:00\",\"2019-11-01T00:00:00\",\"2019-12-01T00:00:00\",\"2020-01-01T00:00:00\",\"2020-02-01T00:00:00\",\"2020-03-01T00:00:00\",\"2020-04-01T00:00:00\",\"2020-05-01T00:00:00\",\"2020-06-01T00:00:00\",\"2020-07-01T00:00:00\",\"2020-08-01T00:00:00\",\"2020-09-01T00:00:00\",\"2020-10-01T00:00:00\",\"2020-11-01T00:00:00\",\"2020-12-01T00:00:00\",\"2021-01-01T00:00:00\",\"2021-02-01T00:00:00\",\"2021-03-01T00:00:00\",\"2021-04-01T00:00:00\",\"2021-05-01T00:00:00\",\"2021-06-01T00:00:00\",\"2021-07-01T00:00:00\",\"2021-08-01T00:00:00\",\"2021-09-01T00:00:00\",\"2021-10-01T00:00:00\",\"2021-11-01T00:00:00\",\"2021-12-01T00:00:00\",\"2022-01-01T00:00:00\",\"2022-02-01T00:00:00\",\"2022-03-01T00:00:00\",\"2022-04-01T00:00:00\",\"2022-05-01T00:00:00\",\"2022-06-01T00:00:00\",\"2022-07-01T00:00:00\",\"2022-08-01T00:00:00\",\"2022-09-01T00:00:00\",\"2022-10-01T00:00:00\",\"2022-11-01T00:00:00\",\"2022-12-01T00:00:00\",\"2023-01-01T00:00:00\",\"2023-02-01T00:00:00\",\"2023-03-01T00:00:00\",\"2023-04-01T00:00:00\",\"2023-05-01T00:00:00\",\"2023-06-01T00:00:00\",\"2023-07-01T00:00:00\",\"2023-08-01T00:00:00\",\"2023-09-01T00:00:00\",\"2023-10-01T00:00:00\",\"2023-11-01T00:00:00\",\"2023-12-01T00:00:00\"],\"y\":[8941117280.0,9480179765.0,8641261828.0,17905174931.0,15066203049.0,34680026944.0,20032251065.0,7023233987.0,9308104436.0,23506817186.0,20273197983.0,11999559204.0,15562869235.0,18322245256.0,19503752778.0,17993169330.0,18219738297.0,24732404835.0,26324454442.0,16212488882.0,21712081269.0,22311561657.0,18577057723.0,46825513012.0,21682558361.0,24366076854.0,23736310368.0,23511898710.0,16920922612.0,19680765142.0,17857103157.0,17297795782.0,22457310575.0,18441651718.0,18676256703.0,28915835934.0,22439200782.0,16555205797.0,31647627661.0,25708999021.0,19306135231.0,21345601891.0,16705560813.0,19029813648.0,27822843169.0,16448186083.0,21973007462.0,22092816220.0,21683144340.0,19128748992.0,20042389444.0,20990569044.0,21646925710.0,25872150922.0,16451073189.0,23266300262.0,12077015157.0,37748527919.0,25078223109.0,20902105607.0,24321067816.0,23810852537.0,23890477948.0,21612631657.0,23160681031.0,13712047995.0,18014518032.0,27254249728.0,15241949914.0,20331029340.0,26276813784.0,31571903509.0,16911604720.0,18926051719.0,20246980241.0,17177321238.0,19478248502.0,14977234558.0,21620171058.0,13097368480.0,11959671350.0,19383902557.0,13638185895.0,29070962725.0,12990957411.0,24935601324.0,13701356500.0,29380519062.0,16672826272.0,11882578332.0,17550379741.0,9054248078.0,15206292692.0,22377187632.0,17344734301.0,23240991146.0,13933633567.0,17135558385.0,15779080358.0,5709205172.0,5963140130.0,11694896733.0,27145474757.0,11139072257.0,18389000360.0,14383712349.0,13837578602.0,15484542080.0,28096323869.0,15895718393.0,24140549459.0,21742003332.0,18518177274.0,30248467154.0,18527789914.0,25602612911.0,30512191925.0,24510180627.0,28447698973.0,27410750815.0,21787454879.0,22390108585.0,42230216807.0,27081203603.0,26810050050.0,37955778518.0,50426453951.0,35560741723.0,49000019494.0,33583872072.0,131408858619.0,41965601058.0,51388620565.0,55055802728.0,49649000685.0,37588656148.0,45675503831.0,43303209884.0,49511659647.0,59970434143.0,49207785206.0,67174728232.0,68190677630.0,57055228149.0],\"type\":\"scatter\"}],                        {\"template\":{\"data\":{\"barpolar\":[{\"marker\":{\"line\":{\"color\":\"#E5ECF6\",\"width\":0.5},\"pattern\":{\"fillmode\":\"overlay\",\"size\":10,\"solidity\":0.2}},\"type\":\"barpolar\"}],\"bar\":[{\"error_x\":{\"color\":\"#2a3f5f\"},\"error_y\":{\"color\":\"#2a3f5f\"},\"marker\":{\"line\":{\"color\":\"#E5ECF6\",\"width\":0.5},\"pattern\":{\"fillmode\":\"overlay\",\"size\":10,\"solidity\":0.2}},\"type\":\"bar\"}],\"carpet\":[{\"aaxis\":{\"endlinecolor\":\"#2a3f5f\",\"gridcolor\":\"white\",\"linecolor\":\"white\",\"minorgridcolor\":\"white\",\"startlinecolor\":\"#2a3f5f\"},\"baxis\":{\"endlinecolor\":\"#2a3f5f\",\"gridcolor\":\"white\",\"linecolor\":\"white\",\"minorgridcolor\":\"white\",\"startlinecolor\":\"#2a3f5f\"},\"type\":\"carpet\"}],\"choropleth\":[{\"colorbar\":{\"outlinewidth\":0,\"ticks\":\"\"},\"type\":\"choropleth\"}],\"contourcarpet\":[{\"colorbar\":{\"outlinewidth\":0,\"ticks\":\"\"},\"type\":\"contourcarpet\"}],\"contour\":[{\"colorbar\":{\"outlinewidth\":0,\"ticks\":\"\"},\"colorscale\":[[0.0,\"#0d0887\"],[0.1111111111111111,\"#46039f\"],[0.2222222222222222,\"#7201a8\"],[0.3333333333333333,\"#9c179e\"],[0.4444444444444444,\"#bd3786\"],[0.5555555555555556,\"#d8576b\"],[0.6666666666666666,\"#ed7953\"],[0.7777777777777778,\"#fb9f3a\"],[0.8888888888888888,\"#fdca26\"],[1.0,\"#f0f921\"]],\"type\":\"contour\"}],\"heatmapgl\":[{\"colorbar\":{\"outlinewidth\":0,\"ticks\":\"\"},\"colorscale\":[[0.0,\"#0d0887\"],[0.1111111111111111,\"#46039f\"],[0.2222222222222222,\"#7201a8\"],[0.3333333333333333,\"#9c179e\"],[0.4444444444444444,\"#bd3786\"],[0.5555555555555556,\"#d8576b\"],[0.6666666666666666,\"#ed7953\"],[0.7777777777777778,\"#fb9f3a\"],[0.8888888888888888,\"#fdca26\"],[1.0,\"#f0f921\"]],\"type\":\"heatmapgl\"}],\"heatmap\":[{\"colorbar\":{\"outlinewidth\":0,\"ticks\":\"\"},\"colorscale\":[[0.0,\"#0d0887\"],[0.1111111111111111,\"#46039f\"],[0.2222222222222222,\"#7201a8\"],[0.3333333333333333,\"#9c179e\"],[0.4444444444444444,\"#bd3786\"],[0.5555555555555556,\"#d8576b\"],[0.6666666666666666,\"#ed7953\"],[0.7777777777777778,\"#fb9f3a\"],[0.8888888888888888,\"#fdca26\"],[1.0,\"#f0f921\"]],\"type\":\"heatmap\"}],\"histogram2dcontour\":[{\"colorbar\":{\"outlinewidth\":0,\"ticks\":\"\"},\"colorscale\":[[0.0,\"#0d0887\"],[0.1111111111111111,\"#46039f\"],[0.2222222222222222,\"#7201a8\"],[0.3333333333333333,\"#9c179e\"],[0.4444444444444444,\"#bd3786\"],[0.5555555555555556,\"#d8576b\"],[0.6666666666666666,\"#ed7953\"],[0.7777777777777778,\"#fb9f3a\"],[0.8888888888888888,\"#fdca26\"],[1.0,\"#f0f921\"]],\"type\":\"histogram2dcontour\"}],\"histogram2d\":[{\"colorbar\":{\"outlinewidth\":0,\"ticks\":\"\"},\"colorscale\":[[0.0,\"#0d0887\"],[0.1111111111111111,\"#46039f\"],[0.2222222222222222,\"#7201a8\"],[0.3333333333333333,\"#9c179e\"],[0.4444444444444444,\"#bd3786\"],[0.5555555555555556,\"#d8576b\"],[0.6666666666666666,\"#ed7953\"],[0.7777777777777778,\"#fb9f3a\"],[0.8888888888888888,\"#fdca26\"],[1.0,\"#f0f921\"]],\"type\":\"histogram2d\"}],\"histogram\":[{\"marker\":{\"pattern\":{\"fillmode\":\"overlay\",\"size\":10,\"solidity\":0.2}},\"type\":\"histogram\"}],\"mesh3d\":[{\"colorbar\":{\"outlinewidth\":0,\"ticks\":\"\"},\"type\":\"mesh3d\"}],\"parcoords\":[{\"line\":{\"colorbar\":{\"outlinewidth\":0,\"ticks\":\"\"}},\"type\":\"parcoords\"}],\"pie\":[{\"automargin\":true,\"type\":\"pie\"}],\"scatter3d\":[{\"line\":{\"colorbar\":{\"outlinewidth\":0,\"ticks\":\"\"}},\"marker\":{\"colorbar\":{\"outlinewidth\":0,\"ticks\":\"\"}},\"type\":\"scatter3d\"}],\"scattercarpet\":[{\"marker\":{\"colorbar\":{\"outlinewidth\":0,\"ticks\":\"\"}},\"type\":\"scattercarpet\"}],\"scattergeo\":[{\"marker\":{\"colorbar\":{\"outlinewidth\":0,\"ticks\":\"\"}},\"type\":\"scattergeo\"}],\"scattergl\":[{\"marker\":{\"colorbar\":{\"outlinewidth\":0,\"ticks\":\"\"}},\"type\":\"scattergl\"}],\"scattermapbox\":[{\"marker\":{\"colorbar\":{\"outlinewidth\":0,\"ticks\":\"\"}},\"type\":\"scattermapbox\"}],\"scatterpolargl\":[{\"marker\":{\"colorbar\":{\"outlinewidth\":0,\"ticks\":\"\"}},\"type\":\"scatterpolargl\"}],\"scatterpolar\":[{\"marker\":{\"colorbar\":{\"outlinewidth\":0,\"ticks\":\"\"}},\"type\":\"scatterpolar\"}],\"scatter\":[{\"fillpattern\":{\"fillmode\":\"overlay\",\"size\":10,\"solidity\":0.2},\"type\":\"scatter\"}],\"scatterternary\":[{\"marker\":{\"colorbar\":{\"outlinewidth\":0,\"ticks\":\"\"}},\"type\":\"scatterternary\"}],\"surface\":[{\"colorbar\":{\"outlinewidth\":0,\"ticks\":\"\"},\"colorscale\":[[0.0,\"#0d0887\"],[0.1111111111111111,\"#46039f\"],[0.2222222222222222,\"#7201a8\"],[0.3333333333333333,\"#9c179e\"],[0.4444444444444444,\"#bd3786\"],[0.5555555555555556,\"#d8576b\"],[0.6666666666666666,\"#ed7953\"],[0.7777777777777778,\"#fb9f3a\"],[0.8888888888888888,\"#fdca26\"],[1.0,\"#f0f921\"]],\"type\":\"surface\"}],\"table\":[{\"cells\":{\"fill\":{\"color\":\"#EBF0F8\"},\"line\":{\"color\":\"white\"}},\"header\":{\"fill\":{\"color\":\"#C8D4E3\"},\"line\":{\"color\":\"white\"}},\"type\":\"table\"}]},\"layout\":{\"annotationdefaults\":{\"arrowcolor\":\"#2a3f5f\",\"arrowhead\":0,\"arrowwidth\":1},\"autotypenumbers\":\"strict\",\"coloraxis\":{\"colorbar\":{\"outlinewidth\":0,\"ticks\":\"\"}},\"colorscale\":{\"diverging\":[[0,\"#8e0152\"],[0.1,\"#c51b7d\"],[0.2,\"#de77ae\"],[0.3,\"#f1b6da\"],[0.4,\"#fde0ef\"],[0.5,\"#f7f7f7\"],[0.6,\"#e6f5d0\"],[0.7,\"#b8e186\"],[0.8,\"#7fbc41\"],[0.9,\"#4d9221\"],[1,\"#276419\"]],\"sequential\":[[0.0,\"#0d0887\"],[0.1111111111111111,\"#46039f\"],[0.2222222222222222,\"#7201a8\"],[0.3333333333333333,\"#9c179e\"],[0.4444444444444444,\"#bd3786\"],[0.5555555555555556,\"#d8576b\"],[0.6666666666666666,\"#ed7953\"],[0.7777777777777778,\"#fb9f3a\"],[0.8888888888888888,\"#fdca26\"],[1.0,\"#f0f921\"]],\"sequentialminus\":[[0.0,\"#0d0887\"],[0.1111111111111111,\"#46039f\"],[0.2222222222222222,\"#7201a8\"],[0.3333333333333333,\"#9c179e\"],[0.4444444444444444,\"#bd3786\"],[0.5555555555555556,\"#d8576b\"],[0.6666666666666666,\"#ed7953\"],[0.7777777777777778,\"#fb9f3a\"],[0.8888888888888888,\"#fdca26\"],[1.0,\"#f0f921\"]]},\"colorway\":[\"#636efa\",\"#EF553B\",\"#00cc96\",\"#ab63fa\",\"#FFA15A\",\"#19d3f3\",\"#FF6692\",\"#B6E880\",\"#FF97FF\",\"#FECB52\"],\"font\":{\"color\":\"#2a3f5f\"},\"geo\":{\"bgcolor\":\"white\",\"lakecolor\":\"white\",\"landcolor\":\"#E5ECF6\",\"showlakes\":true,\"showland\":true,\"subunitcolor\":\"white\"},\"hoverlabel\":{\"align\":\"left\"},\"hovermode\":\"closest\",\"mapbox\":{\"style\":\"light\"},\"paper_bgcolor\":\"white\",\"plot_bgcolor\":\"#E5ECF6\",\"polar\":{\"angularaxis\":{\"gridcolor\":\"white\",\"linecolor\":\"white\",\"ticks\":\"\"},\"bgcolor\":\"#E5ECF6\",\"radialaxis\":{\"gridcolor\":\"white\",\"linecolor\":\"white\",\"ticks\":\"\"}},\"scene\":{\"xaxis\":{\"backgroundcolor\":\"#E5ECF6\",\"gridcolor\":\"white\",\"gridwidth\":2,\"linecolor\":\"white\",\"showbackground\":true,\"ticks\":\"\",\"zerolinecolor\":\"white\"},\"yaxis\":{\"backgroundcolor\":\"#E5ECF6\",\"gridcolor\":\"white\",\"gridwidth\":2,\"linecolor\":\"white\",\"showbackground\":true,\"ticks\":\"\",\"zerolinecolor\":\"white\"},\"zaxis\":{\"backgroundcolor\":\"#E5ECF6\",\"gridcolor\":\"white\",\"gridwidth\":2,\"linecolor\":\"white\",\"showbackground\":true,\"ticks\":\"\",\"zerolinecolor\":\"white\"}},\"shapedefaults\":{\"line\":{\"color\":\"#2a3f5f\"}},\"ternary\":{\"aaxis\":{\"gridcolor\":\"white\",\"linecolor\":\"white\",\"ticks\":\"\"},\"baxis\":{\"gridcolor\":\"white\",\"linecolor\":\"white\",\"ticks\":\"\"},\"bgcolor\":\"#E5ECF6\",\"caxis\":{\"gridcolor\":\"white\",\"linecolor\":\"white\",\"ticks\":\"\"}},\"title\":{\"x\":0.05},\"xaxis\":{\"automargin\":true,\"gridcolor\":\"white\",\"linecolor\":\"white\",\"ticks\":\"\",\"title\":{\"standoff\":15},\"zerolinecolor\":\"white\",\"zerolinewidth\":2},\"yaxis\":{\"automargin\":true,\"gridcolor\":\"white\",\"linecolor\":\"white\",\"ticks\":\"\",\"title\":{\"standoff\":15},\"zerolinecolor\":\"white\",\"zerolinewidth\":2}}},\"title\":{\"text\":\"Montly Sales\"}},                        {\"responsive\": true}                    ).then(function(){\n",
       "                            \n",
       "var gd = document.getElementById('bec0e05f-f3ff-4947-9e2b-06a6bc6fdb46');\n",
       "var x = new MutationObserver(function (mutations, observer) {{\n",
       "        var display = window.getComputedStyle(gd).display;\n",
       "        if (!display || display === 'none') {{\n",
       "            console.log([gd, 'removed!']);\n",
       "            Plotly.purge(gd);\n",
       "            observer.disconnect();\n",
       "        }}\n",
       "}});\n",
       "\n",
       "// Listen for the removal of the full notebook cells\n",
       "var notebookContainer = gd.closest('#notebook-container');\n",
       "if (notebookContainer) {{\n",
       "    x.observe(notebookContainer, {childList: true});\n",
       "}}\n",
       "\n",
       "// Listen for the clearing of the current output cell\n",
       "var outputEl = gd.closest('.output');\n",
       "if (outputEl) {{\n",
       "    x.observe(outputEl, {childList: true});\n",
       "}}\n",
       "\n",
       "                        })                };                });            </script>        </div>"
      ]
     },
     "metadata": {},
     "output_type": "display_data"
    }
   ],
   "source": [
    "#plot monthly sales\n",
    "plot_data = [\n",
    "    go.Scatter(\n",
    "        x=monthly_sum['date'],\n",
    "        y=monthly_sum['actual_worth'],\n",
    "    )]\n",
    "plot_layout = go.Layout(\n",
    "        title='Montly Sales'\n",
    "    )\n",
    "fig = go.Figure(data=plot_data, layout=plot_layout)\n",
    "pyoff.iplot(fig)"
   ]
  },
  {
   "cell_type": "code",
   "execution_count": 109,
   "id": "650289a6-0133-46a1-8691-c53abbaee991",
   "metadata": {},
   "outputs": [
    {
     "data": {
      "text/html": [
       "<div>\n",
       "<style scoped>\n",
       "    .dataframe tbody tr th:only-of-type {\n",
       "        vertical-align: middle;\n",
       "    }\n",
       "\n",
       "    .dataframe tbody tr th {\n",
       "        vertical-align: top;\n",
       "    }\n",
       "\n",
       "    .dataframe thead th {\n",
       "        text-align: right;\n",
       "    }\n",
       "</style>\n",
       "<table border=\"1\" class=\"dataframe\">\n",
       "  <thead>\n",
       "    <tr style=\"text-align: right;\">\n",
       "      <th></th>\n",
       "      <th>year</th>\n",
       "      <th>month</th>\n",
       "      <th>actual_worth</th>\n",
       "      <th>date</th>\n",
       "      <th>prev_sales</th>\n",
       "      <th>diff</th>\n",
       "    </tr>\n",
       "  </thead>\n",
       "  <tbody>\n",
       "    <tr>\n",
       "      <th>1</th>\n",
       "      <td>2012</td>\n",
       "      <td>2</td>\n",
       "      <td>9.480180e+09</td>\n",
       "      <td>2012-02-01</td>\n",
       "      <td>8.941117e+09</td>\n",
       "      <td>5.390625e+08</td>\n",
       "    </tr>\n",
       "    <tr>\n",
       "      <th>2</th>\n",
       "      <td>2012</td>\n",
       "      <td>3</td>\n",
       "      <td>8.641262e+09</td>\n",
       "      <td>2012-03-01</td>\n",
       "      <td>9.480180e+09</td>\n",
       "      <td>-8.389179e+08</td>\n",
       "    </tr>\n",
       "    <tr>\n",
       "      <th>3</th>\n",
       "      <td>2012</td>\n",
       "      <td>4</td>\n",
       "      <td>1.790517e+10</td>\n",
       "      <td>2012-04-01</td>\n",
       "      <td>8.641262e+09</td>\n",
       "      <td>9.263913e+09</td>\n",
       "    </tr>\n",
       "    <tr>\n",
       "      <th>4</th>\n",
       "      <td>2012</td>\n",
       "      <td>5</td>\n",
       "      <td>1.506620e+10</td>\n",
       "      <td>2012-05-01</td>\n",
       "      <td>1.790517e+10</td>\n",
       "      <td>-2.838972e+09</td>\n",
       "    </tr>\n",
       "    <tr>\n",
       "      <th>5</th>\n",
       "      <td>2012</td>\n",
       "      <td>6</td>\n",
       "      <td>3.468003e+10</td>\n",
       "      <td>2012-06-01</td>\n",
       "      <td>1.506620e+10</td>\n",
       "      <td>1.961382e+10</td>\n",
       "    </tr>\n",
       "    <tr>\n",
       "      <th>6</th>\n",
       "      <td>2012</td>\n",
       "      <td>7</td>\n",
       "      <td>2.003225e+10</td>\n",
       "      <td>2012-07-01</td>\n",
       "      <td>3.468003e+10</td>\n",
       "      <td>-1.464778e+10</td>\n",
       "    </tr>\n",
       "    <tr>\n",
       "      <th>7</th>\n",
       "      <td>2012</td>\n",
       "      <td>8</td>\n",
       "      <td>7.023234e+09</td>\n",
       "      <td>2012-08-01</td>\n",
       "      <td>2.003225e+10</td>\n",
       "      <td>-1.300902e+10</td>\n",
       "    </tr>\n",
       "    <tr>\n",
       "      <th>8</th>\n",
       "      <td>2012</td>\n",
       "      <td>9</td>\n",
       "      <td>9.308104e+09</td>\n",
       "      <td>2012-09-01</td>\n",
       "      <td>7.023234e+09</td>\n",
       "      <td>2.284870e+09</td>\n",
       "    </tr>\n",
       "    <tr>\n",
       "      <th>9</th>\n",
       "      <td>2012</td>\n",
       "      <td>10</td>\n",
       "      <td>2.350682e+10</td>\n",
       "      <td>2012-10-01</td>\n",
       "      <td>9.308104e+09</td>\n",
       "      <td>1.419871e+10</td>\n",
       "    </tr>\n",
       "    <tr>\n",
       "      <th>10</th>\n",
       "      <td>2012</td>\n",
       "      <td>11</td>\n",
       "      <td>2.027320e+10</td>\n",
       "      <td>2012-11-01</td>\n",
       "      <td>2.350682e+10</td>\n",
       "      <td>-3.233619e+09</td>\n",
       "    </tr>\n",
       "  </tbody>\n",
       "</table>\n",
       "</div>"
      ],
      "text/plain": [
       "    year  month  actual_worth       date    prev_sales          diff\n",
       "1   2012      2  9.480180e+09 2012-02-01  8.941117e+09  5.390625e+08\n",
       "2   2012      3  8.641262e+09 2012-03-01  9.480180e+09 -8.389179e+08\n",
       "3   2012      4  1.790517e+10 2012-04-01  8.641262e+09  9.263913e+09\n",
       "4   2012      5  1.506620e+10 2012-05-01  1.790517e+10 -2.838972e+09\n",
       "5   2012      6  3.468003e+10 2012-06-01  1.506620e+10  1.961382e+10\n",
       "6   2012      7  2.003225e+10 2012-07-01  3.468003e+10 -1.464778e+10\n",
       "7   2012      8  7.023234e+09 2012-08-01  2.003225e+10 -1.300902e+10\n",
       "8   2012      9  9.308104e+09 2012-09-01  7.023234e+09  2.284870e+09\n",
       "9   2012     10  2.350682e+10 2012-10-01  9.308104e+09  1.419871e+10\n",
       "10  2012     11  2.027320e+10 2012-11-01  2.350682e+10 -3.233619e+09"
      ]
     },
     "execution_count": 109,
     "metadata": {},
     "output_type": "execute_result"
    }
   ],
   "source": [
    "#create a new dataframe to model the difference\n",
    "df_diff = monthly_sum.copy()#add previous sales to the next row\n",
    "df_diff['prev_sales'] = df_diff['actual_worth'].shift(1)#drop the null values and calculate the difference\n",
    "df_diff = df_diff.dropna()\n",
    "df_diff['diff'] = (df_diff['actual_worth'] - df_diff['prev_sales'])\n",
    "df_diff.head(10)"
   ]
  },
  {
   "cell_type": "code",
   "execution_count": 110,
   "id": "359a0e18-c645-4125-8d64-454b9bc5993b",
   "metadata": {},
   "outputs": [
    {
     "data": {
      "application/vnd.plotly.v1+json": {
       "config": {
        "linkText": "Export to plot.ly",
        "plotlyServerURL": "https://plot.ly",
        "showLink": false
       },
       "data": [
        {
         "type": "scatter",
         "x": [
          "2012-02-01T00:00:00",
          "2012-03-01T00:00:00",
          "2012-04-01T00:00:00",
          "2012-05-01T00:00:00",
          "2012-06-01T00:00:00",
          "2012-07-01T00:00:00",
          "2012-08-01T00:00:00",
          "2012-09-01T00:00:00",
          "2012-10-01T00:00:00",
          "2012-11-01T00:00:00",
          "2012-12-01T00:00:00",
          "2013-01-01T00:00:00",
          "2013-02-01T00:00:00",
          "2013-03-01T00:00:00",
          "2013-04-01T00:00:00",
          "2013-05-01T00:00:00",
          "2013-06-01T00:00:00",
          "2013-07-01T00:00:00",
          "2013-08-01T00:00:00",
          "2013-09-01T00:00:00",
          "2013-10-01T00:00:00",
          "2013-11-01T00:00:00",
          "2013-12-01T00:00:00",
          "2014-01-01T00:00:00",
          "2014-02-01T00:00:00",
          "2014-03-01T00:00:00",
          "2014-04-01T00:00:00",
          "2014-05-01T00:00:00",
          "2014-06-01T00:00:00",
          "2014-07-01T00:00:00",
          "2014-08-01T00:00:00",
          "2014-09-01T00:00:00",
          "2014-10-01T00:00:00",
          "2014-11-01T00:00:00",
          "2014-12-01T00:00:00",
          "2015-01-01T00:00:00",
          "2015-02-01T00:00:00",
          "2015-03-01T00:00:00",
          "2015-04-01T00:00:00",
          "2015-05-01T00:00:00",
          "2015-06-01T00:00:00",
          "2015-07-01T00:00:00",
          "2015-08-01T00:00:00",
          "2015-09-01T00:00:00",
          "2015-10-01T00:00:00",
          "2015-11-01T00:00:00",
          "2015-12-01T00:00:00",
          "2016-01-01T00:00:00",
          "2016-02-01T00:00:00",
          "2016-03-01T00:00:00",
          "2016-04-01T00:00:00",
          "2016-05-01T00:00:00",
          "2016-06-01T00:00:00",
          "2016-07-01T00:00:00",
          "2016-08-01T00:00:00",
          "2016-09-01T00:00:00",
          "2016-10-01T00:00:00",
          "2016-11-01T00:00:00",
          "2016-12-01T00:00:00",
          "2017-01-01T00:00:00",
          "2017-02-01T00:00:00",
          "2017-03-01T00:00:00",
          "2017-04-01T00:00:00",
          "2017-05-01T00:00:00",
          "2017-06-01T00:00:00",
          "2017-07-01T00:00:00",
          "2017-08-01T00:00:00",
          "2017-09-01T00:00:00",
          "2017-10-01T00:00:00",
          "2017-11-01T00:00:00",
          "2017-12-01T00:00:00",
          "2018-01-01T00:00:00",
          "2018-02-01T00:00:00",
          "2018-03-01T00:00:00",
          "2018-04-01T00:00:00",
          "2018-05-01T00:00:00",
          "2018-06-01T00:00:00",
          "2018-07-01T00:00:00",
          "2018-08-01T00:00:00",
          "2018-09-01T00:00:00",
          "2018-10-01T00:00:00",
          "2018-11-01T00:00:00",
          "2018-12-01T00:00:00",
          "2019-01-01T00:00:00",
          "2019-02-01T00:00:00",
          "2019-03-01T00:00:00",
          "2019-04-01T00:00:00",
          "2019-05-01T00:00:00",
          "2019-06-01T00:00:00",
          "2019-07-01T00:00:00",
          "2019-08-01T00:00:00",
          "2019-09-01T00:00:00",
          "2019-10-01T00:00:00",
          "2019-11-01T00:00:00",
          "2019-12-01T00:00:00",
          "2020-01-01T00:00:00",
          "2020-02-01T00:00:00",
          "2020-03-01T00:00:00",
          "2020-04-01T00:00:00",
          "2020-05-01T00:00:00",
          "2020-06-01T00:00:00",
          "2020-07-01T00:00:00",
          "2020-08-01T00:00:00",
          "2020-09-01T00:00:00",
          "2020-10-01T00:00:00",
          "2020-11-01T00:00:00",
          "2020-12-01T00:00:00",
          "2021-01-01T00:00:00",
          "2021-02-01T00:00:00",
          "2021-03-01T00:00:00",
          "2021-04-01T00:00:00",
          "2021-05-01T00:00:00",
          "2021-06-01T00:00:00",
          "2021-07-01T00:00:00",
          "2021-08-01T00:00:00",
          "2021-09-01T00:00:00",
          "2021-10-01T00:00:00",
          "2021-11-01T00:00:00",
          "2021-12-01T00:00:00",
          "2022-01-01T00:00:00",
          "2022-02-01T00:00:00",
          "2022-03-01T00:00:00",
          "2022-04-01T00:00:00",
          "2022-05-01T00:00:00",
          "2022-06-01T00:00:00",
          "2022-07-01T00:00:00",
          "2022-08-01T00:00:00",
          "2022-09-01T00:00:00",
          "2022-10-01T00:00:00",
          "2022-11-01T00:00:00",
          "2022-12-01T00:00:00",
          "2023-01-01T00:00:00",
          "2023-02-01T00:00:00",
          "2023-03-01T00:00:00",
          "2023-04-01T00:00:00",
          "2023-05-01T00:00:00",
          "2023-06-01T00:00:00",
          "2023-07-01T00:00:00",
          "2023-08-01T00:00:00",
          "2023-09-01T00:00:00",
          "2023-10-01T00:00:00",
          "2023-11-01T00:00:00",
          "2023-12-01T00:00:00"
         ],
         "y": [
          539062485,
          -838917937,
          9263913103,
          -2838971882,
          19613823895,
          -14647775879,
          -13009017078,
          2284870449,
          14198712750,
          -3233619203,
          -8273638779,
          3563310031,
          2759376021,
          1181507522,
          -1510583448,
          226568967,
          6512666538,
          1592049607,
          -10111965560,
          5499592387,
          599480388,
          -3734503934,
          28248455289,
          -25142954651,
          2683518493,
          -629766486,
          -224411658,
          -6590976098,
          2759842530,
          -1823661985,
          -559307375,
          5159514793,
          -4015658857,
          234604985,
          10239579231,
          -6476635152,
          -5883994985,
          15092421864,
          -5938628640,
          -6402863790,
          2039466660,
          -4640041078,
          2324252835,
          8793029521,
          -11374657086,
          5524821379,
          119808758,
          -409671880,
          -2554395348,
          913640452,
          948179600,
          656356666,
          4225225212,
          -9421077733,
          6815227073,
          -11189285105,
          25671512762,
          -12670304810,
          -4176117502,
          3418962209,
          -510215279,
          79625411,
          -2277846291,
          1548049374,
          -9448633036,
          4302470037,
          9239731696,
          -12012299814,
          5089079426,
          5945784444,
          5295089725,
          -14660298789,
          2014446999,
          1320928522,
          -3069659003,
          2300927264,
          -4501013944,
          6642936500,
          -8522802578,
          -1137697130,
          7424231207,
          -5745716662,
          15432776830,
          -16080005314,
          11944643913,
          -11234244824,
          15679162562,
          -12707692790,
          -4790247940,
          5667801409,
          -8496131663,
          6152044614,
          7170894940,
          -5032453331,
          5896256845,
          -9307357579,
          3201924818,
          -1356478027,
          -10069875186,
          253934958,
          5731756603,
          15450578024,
          -16006402500,
          7249928103,
          -4005288011,
          -546133747,
          1646963478,
          12611781789,
          -12200605476,
          8244831066,
          -2398546127,
          -3223826058,
          11730289880,
          -11720677240,
          7074822997,
          4909579014,
          -6002011298,
          3937518346,
          -1036948158,
          -5623295936,
          602653706,
          19840108222,
          -15149013204,
          -271153553,
          11145728468,
          12470675433,
          -14865712228,
          13439277771,
          -15416147422,
          97824986547,
          -89443257561,
          9423019507,
          3667182163,
          -5406802043,
          -12060344537,
          8086847683,
          -2372293947,
          6208449763,
          10458774496,
          -10762648937,
          17966943026,
          1015949398,
          -11135449481
         ]
        }
       ],
       "layout": {
        "autosize": true,
        "template": {
         "data": {
          "bar": [
           {
            "error_x": {
             "color": "#2a3f5f"
            },
            "error_y": {
             "color": "#2a3f5f"
            },
            "marker": {
             "line": {
              "color": "#E5ECF6",
              "width": 0.5
             },
             "pattern": {
              "fillmode": "overlay",
              "size": 10,
              "solidity": 0.2
             }
            },
            "type": "bar"
           }
          ],
          "barpolar": [
           {
            "marker": {
             "line": {
              "color": "#E5ECF6",
              "width": 0.5
             },
             "pattern": {
              "fillmode": "overlay",
              "size": 10,
              "solidity": 0.2
             }
            },
            "type": "barpolar"
           }
          ],
          "carpet": [
           {
            "aaxis": {
             "endlinecolor": "#2a3f5f",
             "gridcolor": "white",
             "linecolor": "white",
             "minorgridcolor": "white",
             "startlinecolor": "#2a3f5f"
            },
            "baxis": {
             "endlinecolor": "#2a3f5f",
             "gridcolor": "white",
             "linecolor": "white",
             "minorgridcolor": "white",
             "startlinecolor": "#2a3f5f"
            },
            "type": "carpet"
           }
          ],
          "choropleth": [
           {
            "colorbar": {
             "outlinewidth": 0,
             "ticks": ""
            },
            "type": "choropleth"
           }
          ],
          "contour": [
           {
            "colorbar": {
             "outlinewidth": 0,
             "ticks": ""
            },
            "colorscale": [
             [
              0,
              "#0d0887"
             ],
             [
              0.1111111111111111,
              "#46039f"
             ],
             [
              0.2222222222222222,
              "#7201a8"
             ],
             [
              0.3333333333333333,
              "#9c179e"
             ],
             [
              0.4444444444444444,
              "#bd3786"
             ],
             [
              0.5555555555555556,
              "#d8576b"
             ],
             [
              0.6666666666666666,
              "#ed7953"
             ],
             [
              0.7777777777777778,
              "#fb9f3a"
             ],
             [
              0.8888888888888888,
              "#fdca26"
             ],
             [
              1,
              "#f0f921"
             ]
            ],
            "type": "contour"
           }
          ],
          "contourcarpet": [
           {
            "colorbar": {
             "outlinewidth": 0,
             "ticks": ""
            },
            "type": "contourcarpet"
           }
          ],
          "heatmap": [
           {
            "colorbar": {
             "outlinewidth": 0,
             "ticks": ""
            },
            "colorscale": [
             [
              0,
              "#0d0887"
             ],
             [
              0.1111111111111111,
              "#46039f"
             ],
             [
              0.2222222222222222,
              "#7201a8"
             ],
             [
              0.3333333333333333,
              "#9c179e"
             ],
             [
              0.4444444444444444,
              "#bd3786"
             ],
             [
              0.5555555555555556,
              "#d8576b"
             ],
             [
              0.6666666666666666,
              "#ed7953"
             ],
             [
              0.7777777777777778,
              "#fb9f3a"
             ],
             [
              0.8888888888888888,
              "#fdca26"
             ],
             [
              1,
              "#f0f921"
             ]
            ],
            "type": "heatmap"
           }
          ],
          "heatmapgl": [
           {
            "colorbar": {
             "outlinewidth": 0,
             "ticks": ""
            },
            "colorscale": [
             [
              0,
              "#0d0887"
             ],
             [
              0.1111111111111111,
              "#46039f"
             ],
             [
              0.2222222222222222,
              "#7201a8"
             ],
             [
              0.3333333333333333,
              "#9c179e"
             ],
             [
              0.4444444444444444,
              "#bd3786"
             ],
             [
              0.5555555555555556,
              "#d8576b"
             ],
             [
              0.6666666666666666,
              "#ed7953"
             ],
             [
              0.7777777777777778,
              "#fb9f3a"
             ],
             [
              0.8888888888888888,
              "#fdca26"
             ],
             [
              1,
              "#f0f921"
             ]
            ],
            "type": "heatmapgl"
           }
          ],
          "histogram": [
           {
            "marker": {
             "pattern": {
              "fillmode": "overlay",
              "size": 10,
              "solidity": 0.2
             }
            },
            "type": "histogram"
           }
          ],
          "histogram2d": [
           {
            "colorbar": {
             "outlinewidth": 0,
             "ticks": ""
            },
            "colorscale": [
             [
              0,
              "#0d0887"
             ],
             [
              0.1111111111111111,
              "#46039f"
             ],
             [
              0.2222222222222222,
              "#7201a8"
             ],
             [
              0.3333333333333333,
              "#9c179e"
             ],
             [
              0.4444444444444444,
              "#bd3786"
             ],
             [
              0.5555555555555556,
              "#d8576b"
             ],
             [
              0.6666666666666666,
              "#ed7953"
             ],
             [
              0.7777777777777778,
              "#fb9f3a"
             ],
             [
              0.8888888888888888,
              "#fdca26"
             ],
             [
              1,
              "#f0f921"
             ]
            ],
            "type": "histogram2d"
           }
          ],
          "histogram2dcontour": [
           {
            "colorbar": {
             "outlinewidth": 0,
             "ticks": ""
            },
            "colorscale": [
             [
              0,
              "#0d0887"
             ],
             [
              0.1111111111111111,
              "#46039f"
             ],
             [
              0.2222222222222222,
              "#7201a8"
             ],
             [
              0.3333333333333333,
              "#9c179e"
             ],
             [
              0.4444444444444444,
              "#bd3786"
             ],
             [
              0.5555555555555556,
              "#d8576b"
             ],
             [
              0.6666666666666666,
              "#ed7953"
             ],
             [
              0.7777777777777778,
              "#fb9f3a"
             ],
             [
              0.8888888888888888,
              "#fdca26"
             ],
             [
              1,
              "#f0f921"
             ]
            ],
            "type": "histogram2dcontour"
           }
          ],
          "mesh3d": [
           {
            "colorbar": {
             "outlinewidth": 0,
             "ticks": ""
            },
            "type": "mesh3d"
           }
          ],
          "parcoords": [
           {
            "line": {
             "colorbar": {
              "outlinewidth": 0,
              "ticks": ""
             }
            },
            "type": "parcoords"
           }
          ],
          "pie": [
           {
            "automargin": true,
            "type": "pie"
           }
          ],
          "scatter": [
           {
            "fillpattern": {
             "fillmode": "overlay",
             "size": 10,
             "solidity": 0.2
            },
            "type": "scatter"
           }
          ],
          "scatter3d": [
           {
            "line": {
             "colorbar": {
              "outlinewidth": 0,
              "ticks": ""
             }
            },
            "marker": {
             "colorbar": {
              "outlinewidth": 0,
              "ticks": ""
             }
            },
            "type": "scatter3d"
           }
          ],
          "scattercarpet": [
           {
            "marker": {
             "colorbar": {
              "outlinewidth": 0,
              "ticks": ""
             }
            },
            "type": "scattercarpet"
           }
          ],
          "scattergeo": [
           {
            "marker": {
             "colorbar": {
              "outlinewidth": 0,
              "ticks": ""
             }
            },
            "type": "scattergeo"
           }
          ],
          "scattergl": [
           {
            "marker": {
             "colorbar": {
              "outlinewidth": 0,
              "ticks": ""
             }
            },
            "type": "scattergl"
           }
          ],
          "scattermapbox": [
           {
            "marker": {
             "colorbar": {
              "outlinewidth": 0,
              "ticks": ""
             }
            },
            "type": "scattermapbox"
           }
          ],
          "scatterpolar": [
           {
            "marker": {
             "colorbar": {
              "outlinewidth": 0,
              "ticks": ""
             }
            },
            "type": "scatterpolar"
           }
          ],
          "scatterpolargl": [
           {
            "marker": {
             "colorbar": {
              "outlinewidth": 0,
              "ticks": ""
             }
            },
            "type": "scatterpolargl"
           }
          ],
          "scatterternary": [
           {
            "marker": {
             "colorbar": {
              "outlinewidth": 0,
              "ticks": ""
             }
            },
            "type": "scatterternary"
           }
          ],
          "surface": [
           {
            "colorbar": {
             "outlinewidth": 0,
             "ticks": ""
            },
            "colorscale": [
             [
              0,
              "#0d0887"
             ],
             [
              0.1111111111111111,
              "#46039f"
             ],
             [
              0.2222222222222222,
              "#7201a8"
             ],
             [
              0.3333333333333333,
              "#9c179e"
             ],
             [
              0.4444444444444444,
              "#bd3786"
             ],
             [
              0.5555555555555556,
              "#d8576b"
             ],
             [
              0.6666666666666666,
              "#ed7953"
             ],
             [
              0.7777777777777778,
              "#fb9f3a"
             ],
             [
              0.8888888888888888,
              "#fdca26"
             ],
             [
              1,
              "#f0f921"
             ]
            ],
            "type": "surface"
           }
          ],
          "table": [
           {
            "cells": {
             "fill": {
              "color": "#EBF0F8"
             },
             "line": {
              "color": "white"
             }
            },
            "header": {
             "fill": {
              "color": "#C8D4E3"
             },
             "line": {
              "color": "white"
             }
            },
            "type": "table"
           }
          ]
         },
         "layout": {
          "annotationdefaults": {
           "arrowcolor": "#2a3f5f",
           "arrowhead": 0,
           "arrowwidth": 1
          },
          "autotypenumbers": "strict",
          "coloraxis": {
           "colorbar": {
            "outlinewidth": 0,
            "ticks": ""
           }
          },
          "colorscale": {
           "diverging": [
            [
             0,
             "#8e0152"
            ],
            [
             0.1,
             "#c51b7d"
            ],
            [
             0.2,
             "#de77ae"
            ],
            [
             0.3,
             "#f1b6da"
            ],
            [
             0.4,
             "#fde0ef"
            ],
            [
             0.5,
             "#f7f7f7"
            ],
            [
             0.6,
             "#e6f5d0"
            ],
            [
             0.7,
             "#b8e186"
            ],
            [
             0.8,
             "#7fbc41"
            ],
            [
             0.9,
             "#4d9221"
            ],
            [
             1,
             "#276419"
            ]
           ],
           "sequential": [
            [
             0,
             "#0d0887"
            ],
            [
             0.1111111111111111,
             "#46039f"
            ],
            [
             0.2222222222222222,
             "#7201a8"
            ],
            [
             0.3333333333333333,
             "#9c179e"
            ],
            [
             0.4444444444444444,
             "#bd3786"
            ],
            [
             0.5555555555555556,
             "#d8576b"
            ],
            [
             0.6666666666666666,
             "#ed7953"
            ],
            [
             0.7777777777777778,
             "#fb9f3a"
            ],
            [
             0.8888888888888888,
             "#fdca26"
            ],
            [
             1,
             "#f0f921"
            ]
           ],
           "sequentialminus": [
            [
             0,
             "#0d0887"
            ],
            [
             0.1111111111111111,
             "#46039f"
            ],
            [
             0.2222222222222222,
             "#7201a8"
            ],
            [
             0.3333333333333333,
             "#9c179e"
            ],
            [
             0.4444444444444444,
             "#bd3786"
            ],
            [
             0.5555555555555556,
             "#d8576b"
            ],
            [
             0.6666666666666666,
             "#ed7953"
            ],
            [
             0.7777777777777778,
             "#fb9f3a"
            ],
            [
             0.8888888888888888,
             "#fdca26"
            ],
            [
             1,
             "#f0f921"
            ]
           ]
          },
          "colorway": [
           "#636efa",
           "#EF553B",
           "#00cc96",
           "#ab63fa",
           "#FFA15A",
           "#19d3f3",
           "#FF6692",
           "#B6E880",
           "#FF97FF",
           "#FECB52"
          ],
          "font": {
           "color": "#2a3f5f"
          },
          "geo": {
           "bgcolor": "white",
           "lakecolor": "white",
           "landcolor": "#E5ECF6",
           "showlakes": true,
           "showland": true,
           "subunitcolor": "white"
          },
          "hoverlabel": {
           "align": "left"
          },
          "hovermode": "closest",
          "mapbox": {
           "style": "light"
          },
          "paper_bgcolor": "white",
          "plot_bgcolor": "#E5ECF6",
          "polar": {
           "angularaxis": {
            "gridcolor": "white",
            "linecolor": "white",
            "ticks": ""
           },
           "bgcolor": "#E5ECF6",
           "radialaxis": {
            "gridcolor": "white",
            "linecolor": "white",
            "ticks": ""
           }
          },
          "scene": {
           "xaxis": {
            "backgroundcolor": "#E5ECF6",
            "gridcolor": "white",
            "gridwidth": 2,
            "linecolor": "white",
            "showbackground": true,
            "ticks": "",
            "zerolinecolor": "white"
           },
           "yaxis": {
            "backgroundcolor": "#E5ECF6",
            "gridcolor": "white",
            "gridwidth": 2,
            "linecolor": "white",
            "showbackground": true,
            "ticks": "",
            "zerolinecolor": "white"
           },
           "zaxis": {
            "backgroundcolor": "#E5ECF6",
            "gridcolor": "white",
            "gridwidth": 2,
            "linecolor": "white",
            "showbackground": true,
            "ticks": "",
            "zerolinecolor": "white"
           }
          },
          "shapedefaults": {
           "line": {
            "color": "#2a3f5f"
           }
          },
          "ternary": {
           "aaxis": {
            "gridcolor": "white",
            "linecolor": "white",
            "ticks": ""
           },
           "baxis": {
            "gridcolor": "white",
            "linecolor": "white",
            "ticks": ""
           },
           "bgcolor": "#E5ECF6",
           "caxis": {
            "gridcolor": "white",
            "linecolor": "white",
            "ticks": ""
           }
          },
          "title": {
           "x": 0.05
          },
          "xaxis": {
           "automargin": true,
           "gridcolor": "white",
           "linecolor": "white",
           "ticks": "",
           "title": {
            "standoff": 15
           },
           "zerolinecolor": "white",
           "zerolinewidth": 2
          },
          "yaxis": {
           "automargin": true,
           "gridcolor": "white",
           "linecolor": "white",
           "ticks": "",
           "title": {
            "standoff": 15
           },
           "zerolinecolor": "white",
           "zerolinewidth": 2
          }
         }
        },
        "title": {
         "text": "Montly Sales Diff"
        },
        "xaxis": {
         "autorange": true,
         "range": [
          "2012-02-01",
          "2023-12-01"
         ],
         "type": "date"
        },
        "yaxis": {
         "autorange": true,
         "range": [
          -99847048900.33333,
          108228777886.33333
         ],
         "type": "linear"
        }
       }
      },
      "text/html": [
       "<div>                            <div id=\"af6d6850-d2a8-4435-a5c6-315fa693394b\" class=\"plotly-graph-div\" style=\"height:525px; width:100%;\"></div>            <script type=\"text/javascript\">                require([\"plotly\"], function(Plotly) {                    window.PLOTLYENV=window.PLOTLYENV || {};                                    if (document.getElementById(\"af6d6850-d2a8-4435-a5c6-315fa693394b\")) {                    Plotly.newPlot(                        \"af6d6850-d2a8-4435-a5c6-315fa693394b\",                        [{\"x\":[\"2012-02-01T00:00:00\",\"2012-03-01T00:00:00\",\"2012-04-01T00:00:00\",\"2012-05-01T00:00:00\",\"2012-06-01T00:00:00\",\"2012-07-01T00:00:00\",\"2012-08-01T00:00:00\",\"2012-09-01T00:00:00\",\"2012-10-01T00:00:00\",\"2012-11-01T00:00:00\",\"2012-12-01T00:00:00\",\"2013-01-01T00:00:00\",\"2013-02-01T00:00:00\",\"2013-03-01T00:00:00\",\"2013-04-01T00:00:00\",\"2013-05-01T00:00:00\",\"2013-06-01T00:00:00\",\"2013-07-01T00:00:00\",\"2013-08-01T00:00:00\",\"2013-09-01T00:00:00\",\"2013-10-01T00:00:00\",\"2013-11-01T00:00:00\",\"2013-12-01T00:00:00\",\"2014-01-01T00:00:00\",\"2014-02-01T00:00:00\",\"2014-03-01T00:00:00\",\"2014-04-01T00:00:00\",\"2014-05-01T00:00:00\",\"2014-06-01T00:00:00\",\"2014-07-01T00:00:00\",\"2014-08-01T00:00:00\",\"2014-09-01T00:00:00\",\"2014-10-01T00:00:00\",\"2014-11-01T00:00:00\",\"2014-12-01T00:00:00\",\"2015-01-01T00:00:00\",\"2015-02-01T00:00:00\",\"2015-03-01T00:00:00\",\"2015-04-01T00:00:00\",\"2015-05-01T00:00:00\",\"2015-06-01T00:00:00\",\"2015-07-01T00:00:00\",\"2015-08-01T00:00:00\",\"2015-09-01T00:00:00\",\"2015-10-01T00:00:00\",\"2015-11-01T00:00:00\",\"2015-12-01T00:00:00\",\"2016-01-01T00:00:00\",\"2016-02-01T00:00:00\",\"2016-03-01T00:00:00\",\"2016-04-01T00:00:00\",\"2016-05-01T00:00:00\",\"2016-06-01T00:00:00\",\"2016-07-01T00:00:00\",\"2016-08-01T00:00:00\",\"2016-09-01T00:00:00\",\"2016-10-01T00:00:00\",\"2016-11-01T00:00:00\",\"2016-12-01T00:00:00\",\"2017-01-01T00:00:00\",\"2017-02-01T00:00:00\",\"2017-03-01T00:00:00\",\"2017-04-01T00:00:00\",\"2017-05-01T00:00:00\",\"2017-06-01T00:00:00\",\"2017-07-01T00:00:00\",\"2017-08-01T00:00:00\",\"2017-09-01T00:00:00\",\"2017-10-01T00:00:00\",\"2017-11-01T00:00:00\",\"2017-12-01T00:00:00\",\"2018-01-01T00:00:00\",\"2018-02-01T00:00:00\",\"2018-03-01T00:00:00\",\"2018-04-01T00:00:00\",\"2018-05-01T00:00:00\",\"2018-06-01T00:00:00\",\"2018-07-01T00:00:00\",\"2018-08-01T00:00:00\",\"2018-09-01T00:00:00\",\"2018-10-01T00:00:00\",\"2018-11-01T00:00:00\",\"2018-12-01T00:00:00\",\"2019-01-01T00:00:00\",\"2019-02-01T00:00:00\",\"2019-03-01T00:00:00\",\"2019-04-01T00:00:00\",\"2019-05-01T00:00:00\",\"2019-06-01T00:00:00\",\"2019-07-01T00:00:00\",\"2019-08-01T00:00:00\",\"2019-09-01T00:00:00\",\"2019-10-01T00:00:00\",\"2019-11-01T00:00:00\",\"2019-12-01T00:00:00\",\"2020-01-01T00:00:00\",\"2020-02-01T00:00:00\",\"2020-03-01T00:00:00\",\"2020-04-01T00:00:00\",\"2020-05-01T00:00:00\",\"2020-06-01T00:00:00\",\"2020-07-01T00:00:00\",\"2020-08-01T00:00:00\",\"2020-09-01T00:00:00\",\"2020-10-01T00:00:00\",\"2020-11-01T00:00:00\",\"2020-12-01T00:00:00\",\"2021-01-01T00:00:00\",\"2021-02-01T00:00:00\",\"2021-03-01T00:00:00\",\"2021-04-01T00:00:00\",\"2021-05-01T00:00:00\",\"2021-06-01T00:00:00\",\"2021-07-01T00:00:00\",\"2021-08-01T00:00:00\",\"2021-09-01T00:00:00\",\"2021-10-01T00:00:00\",\"2021-11-01T00:00:00\",\"2021-12-01T00:00:00\",\"2022-01-01T00:00:00\",\"2022-02-01T00:00:00\",\"2022-03-01T00:00:00\",\"2022-04-01T00:00:00\",\"2022-05-01T00:00:00\",\"2022-06-01T00:00:00\",\"2022-07-01T00:00:00\",\"2022-08-01T00:00:00\",\"2022-09-01T00:00:00\",\"2022-10-01T00:00:00\",\"2022-11-01T00:00:00\",\"2022-12-01T00:00:00\",\"2023-01-01T00:00:00\",\"2023-02-01T00:00:00\",\"2023-03-01T00:00:00\",\"2023-04-01T00:00:00\",\"2023-05-01T00:00:00\",\"2023-06-01T00:00:00\",\"2023-07-01T00:00:00\",\"2023-08-01T00:00:00\",\"2023-09-01T00:00:00\",\"2023-10-01T00:00:00\",\"2023-11-01T00:00:00\",\"2023-12-01T00:00:00\"],\"y\":[539062485.0,-838917937.0,9263913103.0,-2838971882.0,19613823895.0,-14647775879.0,-13009017078.0,2284870449.0,14198712750.0,-3233619203.0,-8273638779.0,3563310031.0,2759376021.0,1181507522.0,-1510583448.0,226568967.0,6512666538.0,1592049607.0,-10111965560.0,5499592387.0,599480388.0,-3734503934.0,28248455289.0,-25142954651.0,2683518493.0,-629766486.0,-224411658.0,-6590976098.0,2759842530.0,-1823661985.0,-559307375.0,5159514793.0,-4015658857.0,234604985.0,10239579231.0,-6476635152.0,-5883994985.0,15092421864.0,-5938628640.0,-6402863790.0,2039466660.0,-4640041078.0,2324252835.0,8793029521.0,-11374657086.0,5524821379.0,119808758.0,-409671880.0,-2554395348.0,913640452.0,948179600.0,656356666.0,4225225212.0,-9421077733.0,6815227073.0,-11189285105.0,25671512762.0,-12670304810.0,-4176117502.0,3418962209.0,-510215279.0,79625411.0,-2277846291.0,1548049374.0,-9448633036.0,4302470037.0,9239731696.0,-12012299814.0,5089079426.0,5945784444.0,5295089725.0,-14660298789.0,2014446999.0,1320928522.0,-3069659003.0,2300927264.0,-4501013944.0,6642936500.0,-8522802578.0,-1137697130.0,7424231207.0,-5745716662.0,15432776830.0,-16080005314.0,11944643913.0,-11234244824.0,15679162562.0,-12707692790.0,-4790247940.0,5667801409.0,-8496131663.0,6152044614.0,7170894940.0,-5032453331.0,5896256845.0,-9307357579.0,3201924818.0,-1356478027.0,-10069875186.0,253934958.0,5731756603.0,15450578024.0,-16006402500.0,7249928103.0,-4005288011.0,-546133747.0,1646963478.0,12611781789.0,-12200605476.0,8244831066.0,-2398546127.0,-3223826058.0,11730289880.0,-11720677240.0,7074822997.0,4909579014.0,-6002011298.0,3937518346.0,-1036948158.0,-5623295936.0,602653706.0,19840108222.0,-15149013204.0,-271153553.0,11145728468.0,12470675433.0,-14865712228.0,13439277771.0,-15416147422.0,97824986547.0,-89443257561.0,9423019507.0,3667182163.0,-5406802043.0,-12060344537.0,8086847683.0,-2372293947.0,6208449763.0,10458774496.0,-10762648937.0,17966943026.0,1015949398.0,-11135449481.0],\"type\":\"scatter\"}],                        {\"template\":{\"data\":{\"barpolar\":[{\"marker\":{\"line\":{\"color\":\"#E5ECF6\",\"width\":0.5},\"pattern\":{\"fillmode\":\"overlay\",\"size\":10,\"solidity\":0.2}},\"type\":\"barpolar\"}],\"bar\":[{\"error_x\":{\"color\":\"#2a3f5f\"},\"error_y\":{\"color\":\"#2a3f5f\"},\"marker\":{\"line\":{\"color\":\"#E5ECF6\",\"width\":0.5},\"pattern\":{\"fillmode\":\"overlay\",\"size\":10,\"solidity\":0.2}},\"type\":\"bar\"}],\"carpet\":[{\"aaxis\":{\"endlinecolor\":\"#2a3f5f\",\"gridcolor\":\"white\",\"linecolor\":\"white\",\"minorgridcolor\":\"white\",\"startlinecolor\":\"#2a3f5f\"},\"baxis\":{\"endlinecolor\":\"#2a3f5f\",\"gridcolor\":\"white\",\"linecolor\":\"white\",\"minorgridcolor\":\"white\",\"startlinecolor\":\"#2a3f5f\"},\"type\":\"carpet\"}],\"choropleth\":[{\"colorbar\":{\"outlinewidth\":0,\"ticks\":\"\"},\"type\":\"choropleth\"}],\"contourcarpet\":[{\"colorbar\":{\"outlinewidth\":0,\"ticks\":\"\"},\"type\":\"contourcarpet\"}],\"contour\":[{\"colorbar\":{\"outlinewidth\":0,\"ticks\":\"\"},\"colorscale\":[[0.0,\"#0d0887\"],[0.1111111111111111,\"#46039f\"],[0.2222222222222222,\"#7201a8\"],[0.3333333333333333,\"#9c179e\"],[0.4444444444444444,\"#bd3786\"],[0.5555555555555556,\"#d8576b\"],[0.6666666666666666,\"#ed7953\"],[0.7777777777777778,\"#fb9f3a\"],[0.8888888888888888,\"#fdca26\"],[1.0,\"#f0f921\"]],\"type\":\"contour\"}],\"heatmapgl\":[{\"colorbar\":{\"outlinewidth\":0,\"ticks\":\"\"},\"colorscale\":[[0.0,\"#0d0887\"],[0.1111111111111111,\"#46039f\"],[0.2222222222222222,\"#7201a8\"],[0.3333333333333333,\"#9c179e\"],[0.4444444444444444,\"#bd3786\"],[0.5555555555555556,\"#d8576b\"],[0.6666666666666666,\"#ed7953\"],[0.7777777777777778,\"#fb9f3a\"],[0.8888888888888888,\"#fdca26\"],[1.0,\"#f0f921\"]],\"type\":\"heatmapgl\"}],\"heatmap\":[{\"colorbar\":{\"outlinewidth\":0,\"ticks\":\"\"},\"colorscale\":[[0.0,\"#0d0887\"],[0.1111111111111111,\"#46039f\"],[0.2222222222222222,\"#7201a8\"],[0.3333333333333333,\"#9c179e\"],[0.4444444444444444,\"#bd3786\"],[0.5555555555555556,\"#d8576b\"],[0.6666666666666666,\"#ed7953\"],[0.7777777777777778,\"#fb9f3a\"],[0.8888888888888888,\"#fdca26\"],[1.0,\"#f0f921\"]],\"type\":\"heatmap\"}],\"histogram2dcontour\":[{\"colorbar\":{\"outlinewidth\":0,\"ticks\":\"\"},\"colorscale\":[[0.0,\"#0d0887\"],[0.1111111111111111,\"#46039f\"],[0.2222222222222222,\"#7201a8\"],[0.3333333333333333,\"#9c179e\"],[0.4444444444444444,\"#bd3786\"],[0.5555555555555556,\"#d8576b\"],[0.6666666666666666,\"#ed7953\"],[0.7777777777777778,\"#fb9f3a\"],[0.8888888888888888,\"#fdca26\"],[1.0,\"#f0f921\"]],\"type\":\"histogram2dcontour\"}],\"histogram2d\":[{\"colorbar\":{\"outlinewidth\":0,\"ticks\":\"\"},\"colorscale\":[[0.0,\"#0d0887\"],[0.1111111111111111,\"#46039f\"],[0.2222222222222222,\"#7201a8\"],[0.3333333333333333,\"#9c179e\"],[0.4444444444444444,\"#bd3786\"],[0.5555555555555556,\"#d8576b\"],[0.6666666666666666,\"#ed7953\"],[0.7777777777777778,\"#fb9f3a\"],[0.8888888888888888,\"#fdca26\"],[1.0,\"#f0f921\"]],\"type\":\"histogram2d\"}],\"histogram\":[{\"marker\":{\"pattern\":{\"fillmode\":\"overlay\",\"size\":10,\"solidity\":0.2}},\"type\":\"histogram\"}],\"mesh3d\":[{\"colorbar\":{\"outlinewidth\":0,\"ticks\":\"\"},\"type\":\"mesh3d\"}],\"parcoords\":[{\"line\":{\"colorbar\":{\"outlinewidth\":0,\"ticks\":\"\"}},\"type\":\"parcoords\"}],\"pie\":[{\"automargin\":true,\"type\":\"pie\"}],\"scatter3d\":[{\"line\":{\"colorbar\":{\"outlinewidth\":0,\"ticks\":\"\"}},\"marker\":{\"colorbar\":{\"outlinewidth\":0,\"ticks\":\"\"}},\"type\":\"scatter3d\"}],\"scattercarpet\":[{\"marker\":{\"colorbar\":{\"outlinewidth\":0,\"ticks\":\"\"}},\"type\":\"scattercarpet\"}],\"scattergeo\":[{\"marker\":{\"colorbar\":{\"outlinewidth\":0,\"ticks\":\"\"}},\"type\":\"scattergeo\"}],\"scattergl\":[{\"marker\":{\"colorbar\":{\"outlinewidth\":0,\"ticks\":\"\"}},\"type\":\"scattergl\"}],\"scattermapbox\":[{\"marker\":{\"colorbar\":{\"outlinewidth\":0,\"ticks\":\"\"}},\"type\":\"scattermapbox\"}],\"scatterpolargl\":[{\"marker\":{\"colorbar\":{\"outlinewidth\":0,\"ticks\":\"\"}},\"type\":\"scatterpolargl\"}],\"scatterpolar\":[{\"marker\":{\"colorbar\":{\"outlinewidth\":0,\"ticks\":\"\"}},\"type\":\"scatterpolar\"}],\"scatter\":[{\"fillpattern\":{\"fillmode\":\"overlay\",\"size\":10,\"solidity\":0.2},\"type\":\"scatter\"}],\"scatterternary\":[{\"marker\":{\"colorbar\":{\"outlinewidth\":0,\"ticks\":\"\"}},\"type\":\"scatterternary\"}],\"surface\":[{\"colorbar\":{\"outlinewidth\":0,\"ticks\":\"\"},\"colorscale\":[[0.0,\"#0d0887\"],[0.1111111111111111,\"#46039f\"],[0.2222222222222222,\"#7201a8\"],[0.3333333333333333,\"#9c179e\"],[0.4444444444444444,\"#bd3786\"],[0.5555555555555556,\"#d8576b\"],[0.6666666666666666,\"#ed7953\"],[0.7777777777777778,\"#fb9f3a\"],[0.8888888888888888,\"#fdca26\"],[1.0,\"#f0f921\"]],\"type\":\"surface\"}],\"table\":[{\"cells\":{\"fill\":{\"color\":\"#EBF0F8\"},\"line\":{\"color\":\"white\"}},\"header\":{\"fill\":{\"color\":\"#C8D4E3\"},\"line\":{\"color\":\"white\"}},\"type\":\"table\"}]},\"layout\":{\"annotationdefaults\":{\"arrowcolor\":\"#2a3f5f\",\"arrowhead\":0,\"arrowwidth\":1},\"autotypenumbers\":\"strict\",\"coloraxis\":{\"colorbar\":{\"outlinewidth\":0,\"ticks\":\"\"}},\"colorscale\":{\"diverging\":[[0,\"#8e0152\"],[0.1,\"#c51b7d\"],[0.2,\"#de77ae\"],[0.3,\"#f1b6da\"],[0.4,\"#fde0ef\"],[0.5,\"#f7f7f7\"],[0.6,\"#e6f5d0\"],[0.7,\"#b8e186\"],[0.8,\"#7fbc41\"],[0.9,\"#4d9221\"],[1,\"#276419\"]],\"sequential\":[[0.0,\"#0d0887\"],[0.1111111111111111,\"#46039f\"],[0.2222222222222222,\"#7201a8\"],[0.3333333333333333,\"#9c179e\"],[0.4444444444444444,\"#bd3786\"],[0.5555555555555556,\"#d8576b\"],[0.6666666666666666,\"#ed7953\"],[0.7777777777777778,\"#fb9f3a\"],[0.8888888888888888,\"#fdca26\"],[1.0,\"#f0f921\"]],\"sequentialminus\":[[0.0,\"#0d0887\"],[0.1111111111111111,\"#46039f\"],[0.2222222222222222,\"#7201a8\"],[0.3333333333333333,\"#9c179e\"],[0.4444444444444444,\"#bd3786\"],[0.5555555555555556,\"#d8576b\"],[0.6666666666666666,\"#ed7953\"],[0.7777777777777778,\"#fb9f3a\"],[0.8888888888888888,\"#fdca26\"],[1.0,\"#f0f921\"]]},\"colorway\":[\"#636efa\",\"#EF553B\",\"#00cc96\",\"#ab63fa\",\"#FFA15A\",\"#19d3f3\",\"#FF6692\",\"#B6E880\",\"#FF97FF\",\"#FECB52\"],\"font\":{\"color\":\"#2a3f5f\"},\"geo\":{\"bgcolor\":\"white\",\"lakecolor\":\"white\",\"landcolor\":\"#E5ECF6\",\"showlakes\":true,\"showland\":true,\"subunitcolor\":\"white\"},\"hoverlabel\":{\"align\":\"left\"},\"hovermode\":\"closest\",\"mapbox\":{\"style\":\"light\"},\"paper_bgcolor\":\"white\",\"plot_bgcolor\":\"#E5ECF6\",\"polar\":{\"angularaxis\":{\"gridcolor\":\"white\",\"linecolor\":\"white\",\"ticks\":\"\"},\"bgcolor\":\"#E5ECF6\",\"radialaxis\":{\"gridcolor\":\"white\",\"linecolor\":\"white\",\"ticks\":\"\"}},\"scene\":{\"xaxis\":{\"backgroundcolor\":\"#E5ECF6\",\"gridcolor\":\"white\",\"gridwidth\":2,\"linecolor\":\"white\",\"showbackground\":true,\"ticks\":\"\",\"zerolinecolor\":\"white\"},\"yaxis\":{\"backgroundcolor\":\"#E5ECF6\",\"gridcolor\":\"white\",\"gridwidth\":2,\"linecolor\":\"white\",\"showbackground\":true,\"ticks\":\"\",\"zerolinecolor\":\"white\"},\"zaxis\":{\"backgroundcolor\":\"#E5ECF6\",\"gridcolor\":\"white\",\"gridwidth\":2,\"linecolor\":\"white\",\"showbackground\":true,\"ticks\":\"\",\"zerolinecolor\":\"white\"}},\"shapedefaults\":{\"line\":{\"color\":\"#2a3f5f\"}},\"ternary\":{\"aaxis\":{\"gridcolor\":\"white\",\"linecolor\":\"white\",\"ticks\":\"\"},\"baxis\":{\"gridcolor\":\"white\",\"linecolor\":\"white\",\"ticks\":\"\"},\"bgcolor\":\"#E5ECF6\",\"caxis\":{\"gridcolor\":\"white\",\"linecolor\":\"white\",\"ticks\":\"\"}},\"title\":{\"x\":0.05},\"xaxis\":{\"automargin\":true,\"gridcolor\":\"white\",\"linecolor\":\"white\",\"ticks\":\"\",\"title\":{\"standoff\":15},\"zerolinecolor\":\"white\",\"zerolinewidth\":2},\"yaxis\":{\"automargin\":true,\"gridcolor\":\"white\",\"linecolor\":\"white\",\"ticks\":\"\",\"title\":{\"standoff\":15},\"zerolinecolor\":\"white\",\"zerolinewidth\":2}}},\"title\":{\"text\":\"Montly Sales Diff\"}},                        {\"responsive\": true}                    ).then(function(){\n",
       "                            \n",
       "var gd = document.getElementById('af6d6850-d2a8-4435-a5c6-315fa693394b');\n",
       "var x = new MutationObserver(function (mutations, observer) {{\n",
       "        var display = window.getComputedStyle(gd).display;\n",
       "        if (!display || display === 'none') {{\n",
       "            console.log([gd, 'removed!']);\n",
       "            Plotly.purge(gd);\n",
       "            observer.disconnect();\n",
       "        }}\n",
       "}});\n",
       "\n",
       "// Listen for the removal of the full notebook cells\n",
       "var notebookContainer = gd.closest('#notebook-container');\n",
       "if (notebookContainer) {{\n",
       "    x.observe(notebookContainer, {childList: true});\n",
       "}}\n",
       "\n",
       "// Listen for the clearing of the current output cell\n",
       "var outputEl = gd.closest('.output');\n",
       "if (outputEl) {{\n",
       "    x.observe(outputEl, {childList: true});\n",
       "}}\n",
       "\n",
       "                        })                };                });            </script>        </div>"
      ]
     },
     "metadata": {},
     "output_type": "display_data"
    }
   ],
   "source": [
    "#plot sales diff\n",
    "plot_data = [\n",
    "    go.Scatter(\n",
    "        x=df_diff['date'],\n",
    "        y=df_diff['diff'],\n",
    "    )]\n",
    "plot_layout = go.Layout(\n",
    "        title='Montly Sales Diff'\n",
    "    )\n",
    "fig = go.Figure(data=plot_data, layout=plot_layout)\n",
    "pyoff.iplot(fig)"
   ]
  },
  {
   "cell_type": "code",
   "execution_count": 111,
   "id": "1c412211-5ddd-44c2-a262-669148dacecb",
   "metadata": {},
   "outputs": [],
   "source": [
    "#create dataframe for transformation from time series to supervised\n",
    "df_supervised = df_diff.drop(['prev_sales'],axis=1)#adding lags\n",
    "for inc in range(1,13):\n",
    "    field_name = 'lag_' + str(inc)\n",
    "    df_supervised[field_name] = df_supervised['diff'].shift(inc)\n",
    "\n",
    "df_supervised = df_supervised.dropna().reset_index(drop=True)"
   ]
  },
  {
   "cell_type": "code",
   "execution_count": 122,
   "id": "4d2b066b-aa35-4f64-9480-130617e27880",
   "metadata": {},
   "outputs": [
    {
     "data": {
      "text/html": [
       "<div>\n",
       "<style scoped>\n",
       "    .dataframe tbody tr th:only-of-type {\n",
       "        vertical-align: middle;\n",
       "    }\n",
       "\n",
       "    .dataframe tbody tr th {\n",
       "        vertical-align: top;\n",
       "    }\n",
       "\n",
       "    .dataframe thead th {\n",
       "        text-align: right;\n",
       "    }\n",
       "</style>\n",
       "<table border=\"1\" class=\"dataframe\">\n",
       "  <thead>\n",
       "    <tr style=\"text-align: right;\">\n",
       "      <th></th>\n",
       "      <th>year</th>\n",
       "      <th>month</th>\n",
       "      <th>actual_worth</th>\n",
       "      <th>date</th>\n",
       "      <th>diff</th>\n",
       "      <th>lag_1</th>\n",
       "      <th>lag_2</th>\n",
       "      <th>lag_3</th>\n",
       "      <th>lag_4</th>\n",
       "      <th>lag_5</th>\n",
       "      <th>lag_6</th>\n",
       "      <th>lag_7</th>\n",
       "      <th>lag_8</th>\n",
       "      <th>lag_9</th>\n",
       "      <th>lag_10</th>\n",
       "      <th>lag_11</th>\n",
       "      <th>lag_12</th>\n",
       "    </tr>\n",
       "  </thead>\n",
       "  <tbody>\n",
       "    <tr>\n",
       "      <th>0</th>\n",
       "      <td>2013</td>\n",
       "      <td>2</td>\n",
       "      <td>1.832225e+10</td>\n",
       "      <td>2013-02-01</td>\n",
       "      <td>2.759376e+09</td>\n",
       "      <td>3.563310e+09</td>\n",
       "      <td>-8.273639e+09</td>\n",
       "      <td>-3.233619e+09</td>\n",
       "      <td>1.419871e+10</td>\n",
       "      <td>2.284870e+09</td>\n",
       "      <td>-1.300902e+10</td>\n",
       "      <td>-1.464778e+10</td>\n",
       "      <td>1.961382e+10</td>\n",
       "      <td>-2.838972e+09</td>\n",
       "      <td>9.263913e+09</td>\n",
       "      <td>-8.389179e+08</td>\n",
       "      <td>5.390625e+08</td>\n",
       "    </tr>\n",
       "    <tr>\n",
       "      <th>1</th>\n",
       "      <td>2013</td>\n",
       "      <td>3</td>\n",
       "      <td>1.950375e+10</td>\n",
       "      <td>2013-03-01</td>\n",
       "      <td>1.181508e+09</td>\n",
       "      <td>2.759376e+09</td>\n",
       "      <td>3.563310e+09</td>\n",
       "      <td>-8.273639e+09</td>\n",
       "      <td>-3.233619e+09</td>\n",
       "      <td>1.419871e+10</td>\n",
       "      <td>2.284870e+09</td>\n",
       "      <td>-1.300902e+10</td>\n",
       "      <td>-1.464778e+10</td>\n",
       "      <td>1.961382e+10</td>\n",
       "      <td>-2.838972e+09</td>\n",
       "      <td>9.263913e+09</td>\n",
       "      <td>-8.389179e+08</td>\n",
       "    </tr>\n",
       "    <tr>\n",
       "      <th>2</th>\n",
       "      <td>2013</td>\n",
       "      <td>4</td>\n",
       "      <td>1.799317e+10</td>\n",
       "      <td>2013-04-01</td>\n",
       "      <td>-1.510583e+09</td>\n",
       "      <td>1.181508e+09</td>\n",
       "      <td>2.759376e+09</td>\n",
       "      <td>3.563310e+09</td>\n",
       "      <td>-8.273639e+09</td>\n",
       "      <td>-3.233619e+09</td>\n",
       "      <td>1.419871e+10</td>\n",
       "      <td>2.284870e+09</td>\n",
       "      <td>-1.300902e+10</td>\n",
       "      <td>-1.464778e+10</td>\n",
       "      <td>1.961382e+10</td>\n",
       "      <td>-2.838972e+09</td>\n",
       "      <td>9.263913e+09</td>\n",
       "    </tr>\n",
       "    <tr>\n",
       "      <th>3</th>\n",
       "      <td>2013</td>\n",
       "      <td>5</td>\n",
       "      <td>1.821974e+10</td>\n",
       "      <td>2013-05-01</td>\n",
       "      <td>2.265690e+08</td>\n",
       "      <td>-1.510583e+09</td>\n",
       "      <td>1.181508e+09</td>\n",
       "      <td>2.759376e+09</td>\n",
       "      <td>3.563310e+09</td>\n",
       "      <td>-8.273639e+09</td>\n",
       "      <td>-3.233619e+09</td>\n",
       "      <td>1.419871e+10</td>\n",
       "      <td>2.284870e+09</td>\n",
       "      <td>-1.300902e+10</td>\n",
       "      <td>-1.464778e+10</td>\n",
       "      <td>1.961382e+10</td>\n",
       "      <td>-2.838972e+09</td>\n",
       "    </tr>\n",
       "    <tr>\n",
       "      <th>4</th>\n",
       "      <td>2013</td>\n",
       "      <td>6</td>\n",
       "      <td>2.473240e+10</td>\n",
       "      <td>2013-06-01</td>\n",
       "      <td>6.512667e+09</td>\n",
       "      <td>2.265690e+08</td>\n",
       "      <td>-1.510583e+09</td>\n",
       "      <td>1.181508e+09</td>\n",
       "      <td>2.759376e+09</td>\n",
       "      <td>3.563310e+09</td>\n",
       "      <td>-8.273639e+09</td>\n",
       "      <td>-3.233619e+09</td>\n",
       "      <td>1.419871e+10</td>\n",
       "      <td>2.284870e+09</td>\n",
       "      <td>-1.300902e+10</td>\n",
       "      <td>-1.464778e+10</td>\n",
       "      <td>1.961382e+10</td>\n",
       "    </tr>\n",
       "    <tr>\n",
       "      <th>5</th>\n",
       "      <td>2013</td>\n",
       "      <td>7</td>\n",
       "      <td>2.632445e+10</td>\n",
       "      <td>2013-07-01</td>\n",
       "      <td>1.592050e+09</td>\n",
       "      <td>6.512667e+09</td>\n",
       "      <td>2.265690e+08</td>\n",
       "      <td>-1.510583e+09</td>\n",
       "      <td>1.181508e+09</td>\n",
       "      <td>2.759376e+09</td>\n",
       "      <td>3.563310e+09</td>\n",
       "      <td>-8.273639e+09</td>\n",
       "      <td>-3.233619e+09</td>\n",
       "      <td>1.419871e+10</td>\n",
       "      <td>2.284870e+09</td>\n",
       "      <td>-1.300902e+10</td>\n",
       "      <td>-1.464778e+10</td>\n",
       "    </tr>\n",
       "    <tr>\n",
       "      <th>6</th>\n",
       "      <td>2013</td>\n",
       "      <td>8</td>\n",
       "      <td>1.621249e+10</td>\n",
       "      <td>2013-08-01</td>\n",
       "      <td>-1.011197e+10</td>\n",
       "      <td>1.592050e+09</td>\n",
       "      <td>6.512667e+09</td>\n",
       "      <td>2.265690e+08</td>\n",
       "      <td>-1.510583e+09</td>\n",
       "      <td>1.181508e+09</td>\n",
       "      <td>2.759376e+09</td>\n",
       "      <td>3.563310e+09</td>\n",
       "      <td>-8.273639e+09</td>\n",
       "      <td>-3.233619e+09</td>\n",
       "      <td>1.419871e+10</td>\n",
       "      <td>2.284870e+09</td>\n",
       "      <td>-1.300902e+10</td>\n",
       "    </tr>\n",
       "    <tr>\n",
       "      <th>7</th>\n",
       "      <td>2013</td>\n",
       "      <td>9</td>\n",
       "      <td>2.171208e+10</td>\n",
       "      <td>2013-09-01</td>\n",
       "      <td>5.499592e+09</td>\n",
       "      <td>-1.011197e+10</td>\n",
       "      <td>1.592050e+09</td>\n",
       "      <td>6.512667e+09</td>\n",
       "      <td>2.265690e+08</td>\n",
       "      <td>-1.510583e+09</td>\n",
       "      <td>1.181508e+09</td>\n",
       "      <td>2.759376e+09</td>\n",
       "      <td>3.563310e+09</td>\n",
       "      <td>-8.273639e+09</td>\n",
       "      <td>-3.233619e+09</td>\n",
       "      <td>1.419871e+10</td>\n",
       "      <td>2.284870e+09</td>\n",
       "    </tr>\n",
       "    <tr>\n",
       "      <th>8</th>\n",
       "      <td>2013</td>\n",
       "      <td>10</td>\n",
       "      <td>2.231156e+10</td>\n",
       "      <td>2013-10-01</td>\n",
       "      <td>5.994804e+08</td>\n",
       "      <td>5.499592e+09</td>\n",
       "      <td>-1.011197e+10</td>\n",
       "      <td>1.592050e+09</td>\n",
       "      <td>6.512667e+09</td>\n",
       "      <td>2.265690e+08</td>\n",
       "      <td>-1.510583e+09</td>\n",
       "      <td>1.181508e+09</td>\n",
       "      <td>2.759376e+09</td>\n",
       "      <td>3.563310e+09</td>\n",
       "      <td>-8.273639e+09</td>\n",
       "      <td>-3.233619e+09</td>\n",
       "      <td>1.419871e+10</td>\n",
       "    </tr>\n",
       "    <tr>\n",
       "      <th>9</th>\n",
       "      <td>2013</td>\n",
       "      <td>11</td>\n",
       "      <td>1.857706e+10</td>\n",
       "      <td>2013-11-01</td>\n",
       "      <td>-3.734504e+09</td>\n",
       "      <td>5.994804e+08</td>\n",
       "      <td>5.499592e+09</td>\n",
       "      <td>-1.011197e+10</td>\n",
       "      <td>1.592050e+09</td>\n",
       "      <td>6.512667e+09</td>\n",
       "      <td>2.265690e+08</td>\n",
       "      <td>-1.510583e+09</td>\n",
       "      <td>1.181508e+09</td>\n",
       "      <td>2.759376e+09</td>\n",
       "      <td>3.563310e+09</td>\n",
       "      <td>-8.273639e+09</td>\n",
       "      <td>-3.233619e+09</td>\n",
       "    </tr>\n",
       "    <tr>\n",
       "      <th>10</th>\n",
       "      <td>2013</td>\n",
       "      <td>12</td>\n",
       "      <td>4.682551e+10</td>\n",
       "      <td>2013-12-01</td>\n",
       "      <td>2.824846e+10</td>\n",
       "      <td>-3.734504e+09</td>\n",
       "      <td>5.994804e+08</td>\n",
       "      <td>5.499592e+09</td>\n",
       "      <td>-1.011197e+10</td>\n",
       "      <td>1.592050e+09</td>\n",
       "      <td>6.512667e+09</td>\n",
       "      <td>2.265690e+08</td>\n",
       "      <td>-1.510583e+09</td>\n",
       "      <td>1.181508e+09</td>\n",
       "      <td>2.759376e+09</td>\n",
       "      <td>3.563310e+09</td>\n",
       "      <td>-8.273639e+09</td>\n",
       "    </tr>\n",
       "    <tr>\n",
       "      <th>11</th>\n",
       "      <td>2014</td>\n",
       "      <td>1</td>\n",
       "      <td>2.168256e+10</td>\n",
       "      <td>2014-01-01</td>\n",
       "      <td>-2.514295e+10</td>\n",
       "      <td>2.824846e+10</td>\n",
       "      <td>-3.734504e+09</td>\n",
       "      <td>5.994804e+08</td>\n",
       "      <td>5.499592e+09</td>\n",
       "      <td>-1.011197e+10</td>\n",
       "      <td>1.592050e+09</td>\n",
       "      <td>6.512667e+09</td>\n",
       "      <td>2.265690e+08</td>\n",
       "      <td>-1.510583e+09</td>\n",
       "      <td>1.181508e+09</td>\n",
       "      <td>2.759376e+09</td>\n",
       "      <td>3.563310e+09</td>\n",
       "    </tr>\n",
       "    <tr>\n",
       "      <th>12</th>\n",
       "      <td>2014</td>\n",
       "      <td>2</td>\n",
       "      <td>2.436608e+10</td>\n",
       "      <td>2014-02-01</td>\n",
       "      <td>2.683518e+09</td>\n",
       "      <td>-2.514295e+10</td>\n",
       "      <td>2.824846e+10</td>\n",
       "      <td>-3.734504e+09</td>\n",
       "      <td>5.994804e+08</td>\n",
       "      <td>5.499592e+09</td>\n",
       "      <td>-1.011197e+10</td>\n",
       "      <td>1.592050e+09</td>\n",
       "      <td>6.512667e+09</td>\n",
       "      <td>2.265690e+08</td>\n",
       "      <td>-1.510583e+09</td>\n",
       "      <td>1.181508e+09</td>\n",
       "      <td>2.759376e+09</td>\n",
       "    </tr>\n",
       "    <tr>\n",
       "      <th>13</th>\n",
       "      <td>2014</td>\n",
       "      <td>3</td>\n",
       "      <td>2.373631e+10</td>\n",
       "      <td>2014-03-01</td>\n",
       "      <td>-6.297665e+08</td>\n",
       "      <td>2.683518e+09</td>\n",
       "      <td>-2.514295e+10</td>\n",
       "      <td>2.824846e+10</td>\n",
       "      <td>-3.734504e+09</td>\n",
       "      <td>5.994804e+08</td>\n",
       "      <td>5.499592e+09</td>\n",
       "      <td>-1.011197e+10</td>\n",
       "      <td>1.592050e+09</td>\n",
       "      <td>6.512667e+09</td>\n",
       "      <td>2.265690e+08</td>\n",
       "      <td>-1.510583e+09</td>\n",
       "      <td>1.181508e+09</td>\n",
       "    </tr>\n",
       "    <tr>\n",
       "      <th>14</th>\n",
       "      <td>2014</td>\n",
       "      <td>4</td>\n",
       "      <td>2.351190e+10</td>\n",
       "      <td>2014-04-01</td>\n",
       "      <td>-2.244117e+08</td>\n",
       "      <td>-6.297665e+08</td>\n",
       "      <td>2.683518e+09</td>\n",
       "      <td>-2.514295e+10</td>\n",
       "      <td>2.824846e+10</td>\n",
       "      <td>-3.734504e+09</td>\n",
       "      <td>5.994804e+08</td>\n",
       "      <td>5.499592e+09</td>\n",
       "      <td>-1.011197e+10</td>\n",
       "      <td>1.592050e+09</td>\n",
       "      <td>6.512667e+09</td>\n",
       "      <td>2.265690e+08</td>\n",
       "      <td>-1.510583e+09</td>\n",
       "    </tr>\n",
       "    <tr>\n",
       "      <th>15</th>\n",
       "      <td>2014</td>\n",
       "      <td>5</td>\n",
       "      <td>1.692092e+10</td>\n",
       "      <td>2014-05-01</td>\n",
       "      <td>-6.590976e+09</td>\n",
       "      <td>-2.244117e+08</td>\n",
       "      <td>-6.297665e+08</td>\n",
       "      <td>2.683518e+09</td>\n",
       "      <td>-2.514295e+10</td>\n",
       "      <td>2.824846e+10</td>\n",
       "      <td>-3.734504e+09</td>\n",
       "      <td>5.994804e+08</td>\n",
       "      <td>5.499592e+09</td>\n",
       "      <td>-1.011197e+10</td>\n",
       "      <td>1.592050e+09</td>\n",
       "      <td>6.512667e+09</td>\n",
       "      <td>2.265690e+08</td>\n",
       "    </tr>\n",
       "    <tr>\n",
       "      <th>16</th>\n",
       "      <td>2014</td>\n",
       "      <td>6</td>\n",
       "      <td>1.968077e+10</td>\n",
       "      <td>2014-06-01</td>\n",
       "      <td>2.759843e+09</td>\n",
       "      <td>-6.590976e+09</td>\n",
       "      <td>-2.244117e+08</td>\n",
       "      <td>-6.297665e+08</td>\n",
       "      <td>2.683518e+09</td>\n",
       "      <td>-2.514295e+10</td>\n",
       "      <td>2.824846e+10</td>\n",
       "      <td>-3.734504e+09</td>\n",
       "      <td>5.994804e+08</td>\n",
       "      <td>5.499592e+09</td>\n",
       "      <td>-1.011197e+10</td>\n",
       "      <td>1.592050e+09</td>\n",
       "      <td>6.512667e+09</td>\n",
       "    </tr>\n",
       "    <tr>\n",
       "      <th>17</th>\n",
       "      <td>2014</td>\n",
       "      <td>7</td>\n",
       "      <td>1.785710e+10</td>\n",
       "      <td>2014-07-01</td>\n",
       "      <td>-1.823662e+09</td>\n",
       "      <td>2.759843e+09</td>\n",
       "      <td>-6.590976e+09</td>\n",
       "      <td>-2.244117e+08</td>\n",
       "      <td>-6.297665e+08</td>\n",
       "      <td>2.683518e+09</td>\n",
       "      <td>-2.514295e+10</td>\n",
       "      <td>2.824846e+10</td>\n",
       "      <td>-3.734504e+09</td>\n",
       "      <td>5.994804e+08</td>\n",
       "      <td>5.499592e+09</td>\n",
       "      <td>-1.011197e+10</td>\n",
       "      <td>1.592050e+09</td>\n",
       "    </tr>\n",
       "    <tr>\n",
       "      <th>18</th>\n",
       "      <td>2014</td>\n",
       "      <td>8</td>\n",
       "      <td>1.729780e+10</td>\n",
       "      <td>2014-08-01</td>\n",
       "      <td>-5.593074e+08</td>\n",
       "      <td>-1.823662e+09</td>\n",
       "      <td>2.759843e+09</td>\n",
       "      <td>-6.590976e+09</td>\n",
       "      <td>-2.244117e+08</td>\n",
       "      <td>-6.297665e+08</td>\n",
       "      <td>2.683518e+09</td>\n",
       "      <td>-2.514295e+10</td>\n",
       "      <td>2.824846e+10</td>\n",
       "      <td>-3.734504e+09</td>\n",
       "      <td>5.994804e+08</td>\n",
       "      <td>5.499592e+09</td>\n",
       "      <td>-1.011197e+10</td>\n",
       "    </tr>\n",
       "    <tr>\n",
       "      <th>19</th>\n",
       "      <td>2014</td>\n",
       "      <td>9</td>\n",
       "      <td>2.245731e+10</td>\n",
       "      <td>2014-09-01</td>\n",
       "      <td>5.159515e+09</td>\n",
       "      <td>-5.593074e+08</td>\n",
       "      <td>-1.823662e+09</td>\n",
       "      <td>2.759843e+09</td>\n",
       "      <td>-6.590976e+09</td>\n",
       "      <td>-2.244117e+08</td>\n",
       "      <td>-6.297665e+08</td>\n",
       "      <td>2.683518e+09</td>\n",
       "      <td>-2.514295e+10</td>\n",
       "      <td>2.824846e+10</td>\n",
       "      <td>-3.734504e+09</td>\n",
       "      <td>5.994804e+08</td>\n",
       "      <td>5.499592e+09</td>\n",
       "    </tr>\n",
       "  </tbody>\n",
       "</table>\n",
       "</div>"
      ],
      "text/plain": [
       "    year  month  actual_worth       date          diff         lag_1  \\\n",
       "0   2013      2  1.832225e+10 2013-02-01  2.759376e+09  3.563310e+09   \n",
       "1   2013      3  1.950375e+10 2013-03-01  1.181508e+09  2.759376e+09   \n",
       "2   2013      4  1.799317e+10 2013-04-01 -1.510583e+09  1.181508e+09   \n",
       "3   2013      5  1.821974e+10 2013-05-01  2.265690e+08 -1.510583e+09   \n",
       "4   2013      6  2.473240e+10 2013-06-01  6.512667e+09  2.265690e+08   \n",
       "5   2013      7  2.632445e+10 2013-07-01  1.592050e+09  6.512667e+09   \n",
       "6   2013      8  1.621249e+10 2013-08-01 -1.011197e+10  1.592050e+09   \n",
       "7   2013      9  2.171208e+10 2013-09-01  5.499592e+09 -1.011197e+10   \n",
       "8   2013     10  2.231156e+10 2013-10-01  5.994804e+08  5.499592e+09   \n",
       "9   2013     11  1.857706e+10 2013-11-01 -3.734504e+09  5.994804e+08   \n",
       "10  2013     12  4.682551e+10 2013-12-01  2.824846e+10 -3.734504e+09   \n",
       "11  2014      1  2.168256e+10 2014-01-01 -2.514295e+10  2.824846e+10   \n",
       "12  2014      2  2.436608e+10 2014-02-01  2.683518e+09 -2.514295e+10   \n",
       "13  2014      3  2.373631e+10 2014-03-01 -6.297665e+08  2.683518e+09   \n",
       "14  2014      4  2.351190e+10 2014-04-01 -2.244117e+08 -6.297665e+08   \n",
       "15  2014      5  1.692092e+10 2014-05-01 -6.590976e+09 -2.244117e+08   \n",
       "16  2014      6  1.968077e+10 2014-06-01  2.759843e+09 -6.590976e+09   \n",
       "17  2014      7  1.785710e+10 2014-07-01 -1.823662e+09  2.759843e+09   \n",
       "18  2014      8  1.729780e+10 2014-08-01 -5.593074e+08 -1.823662e+09   \n",
       "19  2014      9  2.245731e+10 2014-09-01  5.159515e+09 -5.593074e+08   \n",
       "\n",
       "           lag_2         lag_3         lag_4         lag_5         lag_6  \\\n",
       "0  -8.273639e+09 -3.233619e+09  1.419871e+10  2.284870e+09 -1.300902e+10   \n",
       "1   3.563310e+09 -8.273639e+09 -3.233619e+09  1.419871e+10  2.284870e+09   \n",
       "2   2.759376e+09  3.563310e+09 -8.273639e+09 -3.233619e+09  1.419871e+10   \n",
       "3   1.181508e+09  2.759376e+09  3.563310e+09 -8.273639e+09 -3.233619e+09   \n",
       "4  -1.510583e+09  1.181508e+09  2.759376e+09  3.563310e+09 -8.273639e+09   \n",
       "5   2.265690e+08 -1.510583e+09  1.181508e+09  2.759376e+09  3.563310e+09   \n",
       "6   6.512667e+09  2.265690e+08 -1.510583e+09  1.181508e+09  2.759376e+09   \n",
       "7   1.592050e+09  6.512667e+09  2.265690e+08 -1.510583e+09  1.181508e+09   \n",
       "8  -1.011197e+10  1.592050e+09  6.512667e+09  2.265690e+08 -1.510583e+09   \n",
       "9   5.499592e+09 -1.011197e+10  1.592050e+09  6.512667e+09  2.265690e+08   \n",
       "10  5.994804e+08  5.499592e+09 -1.011197e+10  1.592050e+09  6.512667e+09   \n",
       "11 -3.734504e+09  5.994804e+08  5.499592e+09 -1.011197e+10  1.592050e+09   \n",
       "12  2.824846e+10 -3.734504e+09  5.994804e+08  5.499592e+09 -1.011197e+10   \n",
       "13 -2.514295e+10  2.824846e+10 -3.734504e+09  5.994804e+08  5.499592e+09   \n",
       "14  2.683518e+09 -2.514295e+10  2.824846e+10 -3.734504e+09  5.994804e+08   \n",
       "15 -6.297665e+08  2.683518e+09 -2.514295e+10  2.824846e+10 -3.734504e+09   \n",
       "16 -2.244117e+08 -6.297665e+08  2.683518e+09 -2.514295e+10  2.824846e+10   \n",
       "17 -6.590976e+09 -2.244117e+08 -6.297665e+08  2.683518e+09 -2.514295e+10   \n",
       "18  2.759843e+09 -6.590976e+09 -2.244117e+08 -6.297665e+08  2.683518e+09   \n",
       "19 -1.823662e+09  2.759843e+09 -6.590976e+09 -2.244117e+08 -6.297665e+08   \n",
       "\n",
       "           lag_7         lag_8         lag_9        lag_10        lag_11  \\\n",
       "0  -1.464778e+10  1.961382e+10 -2.838972e+09  9.263913e+09 -8.389179e+08   \n",
       "1  -1.300902e+10 -1.464778e+10  1.961382e+10 -2.838972e+09  9.263913e+09   \n",
       "2   2.284870e+09 -1.300902e+10 -1.464778e+10  1.961382e+10 -2.838972e+09   \n",
       "3   1.419871e+10  2.284870e+09 -1.300902e+10 -1.464778e+10  1.961382e+10   \n",
       "4  -3.233619e+09  1.419871e+10  2.284870e+09 -1.300902e+10 -1.464778e+10   \n",
       "5  -8.273639e+09 -3.233619e+09  1.419871e+10  2.284870e+09 -1.300902e+10   \n",
       "6   3.563310e+09 -8.273639e+09 -3.233619e+09  1.419871e+10  2.284870e+09   \n",
       "7   2.759376e+09  3.563310e+09 -8.273639e+09 -3.233619e+09  1.419871e+10   \n",
       "8   1.181508e+09  2.759376e+09  3.563310e+09 -8.273639e+09 -3.233619e+09   \n",
       "9  -1.510583e+09  1.181508e+09  2.759376e+09  3.563310e+09 -8.273639e+09   \n",
       "10  2.265690e+08 -1.510583e+09  1.181508e+09  2.759376e+09  3.563310e+09   \n",
       "11  6.512667e+09  2.265690e+08 -1.510583e+09  1.181508e+09  2.759376e+09   \n",
       "12  1.592050e+09  6.512667e+09  2.265690e+08 -1.510583e+09  1.181508e+09   \n",
       "13 -1.011197e+10  1.592050e+09  6.512667e+09  2.265690e+08 -1.510583e+09   \n",
       "14  5.499592e+09 -1.011197e+10  1.592050e+09  6.512667e+09  2.265690e+08   \n",
       "15  5.994804e+08  5.499592e+09 -1.011197e+10  1.592050e+09  6.512667e+09   \n",
       "16 -3.734504e+09  5.994804e+08  5.499592e+09 -1.011197e+10  1.592050e+09   \n",
       "17  2.824846e+10 -3.734504e+09  5.994804e+08  5.499592e+09 -1.011197e+10   \n",
       "18 -2.514295e+10  2.824846e+10 -3.734504e+09  5.994804e+08  5.499592e+09   \n",
       "19  2.683518e+09 -2.514295e+10  2.824846e+10 -3.734504e+09  5.994804e+08   \n",
       "\n",
       "          lag_12  \n",
       "0   5.390625e+08  \n",
       "1  -8.389179e+08  \n",
       "2   9.263913e+09  \n",
       "3  -2.838972e+09  \n",
       "4   1.961382e+10  \n",
       "5  -1.464778e+10  \n",
       "6  -1.300902e+10  \n",
       "7   2.284870e+09  \n",
       "8   1.419871e+10  \n",
       "9  -3.233619e+09  \n",
       "10 -8.273639e+09  \n",
       "11  3.563310e+09  \n",
       "12  2.759376e+09  \n",
       "13  1.181508e+09  \n",
       "14 -1.510583e+09  \n",
       "15  2.265690e+08  \n",
       "16  6.512667e+09  \n",
       "17  1.592050e+09  \n",
       "18 -1.011197e+10  \n",
       "19  5.499592e+09  "
      ]
     },
     "execution_count": 122,
     "metadata": {},
     "output_type": "execute_result"
    }
   ],
   "source": [
    "# df_supervised['date'] = pd.to_datetime(df_supervised['date'], errors='coerce')\n",
    "# df_supervised['date'] = df_supervised.loc[(df_supervised['date'] >= '2014-01-01')]\n",
    "df_supervised.head(20)"
   ]
  },
  {
   "cell_type": "code",
   "execution_count": 118,
   "id": "39f295a9-e198-4e9c-b553-6e044728f10e",
   "metadata": {},
   "outputs": [
    {
     "name": "stdout",
     "output_type": "stream",
     "text": [
      "0.35558244300715447\n"
     ]
    }
   ],
   "source": [
    "# Import statsmodels.formula.api\n",
    "import statsmodels.formula.api as smf# Define the regression formula\n",
    "model = smf.ols(formula='diff ~ lag_1', data=df_supervised)# Fit the regression\n",
    "model_fit = model.fit()# Extract the adjusted r-squared\n",
    "regression_adj_rsq = model_fit.rsquared_adj\n",
    "print(regression_adj_rsq)"
   ]
  },
  {
   "cell_type": "code",
   "execution_count": 119,
   "id": "7ca083e6-5fa0-4a27-a092-8847ac08c426",
   "metadata": {},
   "outputs": [
    {
     "name": "stdout",
     "output_type": "stream",
     "text": [
      "0.45470082479368\n"
     ]
    }
   ],
   "source": [
    "# Import statsmodels.formula.api\n",
    "import statsmodels.formula.api as smf# Define the regression formula\n",
    "model = smf.ols(formula='diff ~ lag_1 + lag_1 +\tlag_2   +\tlag_3 +\tlag_4 +\tlag_5', data=df_supervised)# Fit the regression\n",
    "model_fit = model.fit()# Extract the adjusted r-squared\n",
    "regression_adj_rsq = model_fit.rsquared_adj\n",
    "print(regression_adj_rsq)"
   ]
  },
  {
   "cell_type": "code",
   "execution_count": 121,
   "id": "439f221b-217a-41d1-b325-76b00a65e6cb",
   "metadata": {},
   "outputs": [
    {
     "name": "stdout",
     "output_type": "stream",
     "text": [
      "0.47264007788110396\n"
     ]
    }
   ],
   "source": [
    "# Import statsmodels.formula.api\n",
    "import statsmodels.formula.api as smf# Define the regression formula\n",
    "model = smf.ols(formula='diff ~ lag_1 + lag_1 +\tlag_2 + lag_3 +\tlag_4 +\tlag_5 + lag_6 + lag_7 + lag_8 + lag_9 + lag_10 + lag_11', data=df_supervised)# Fit the regression\n",
    "model_fit = model.fit()# Extract the adjusted r-squared\n",
    "regression_adj_rsq = model_fit.rsquared_adj\n",
    "print(regression_adj_rsq)"
   ]
  },
  {
   "cell_type": "code",
   "execution_count": 150,
   "id": "755c879c-2798-46d0-93fb-fa179e3a00df",
   "metadata": {},
   "outputs": [],
   "source": [
    "#import MinMaxScaler and create a new dataframe for LSTM model\n",
    "from sklearn.preprocessing import MinMaxScaler\n",
    "df_model = df_supervised.drop(['year', 'month','actual_worth','date'],axis=1)#split train and test set\n",
    "train_set, test_set = df_model[0:-6].values, df_model[-6:].values\n",
    "# df_model"
   ]
  },
  {
   "cell_type": "code",
   "execution_count": 151,
   "id": "0ca0e51c-200d-486d-8f59-b1e8cb74412c",
   "metadata": {},
   "outputs": [],
   "source": [
    "#apply Min Max Scaler\n",
    "scaler = MinMaxScaler(feature_range=(-1, 1))\n",
    "scaler = scaler.fit(train_set)\n",
    "# reshape training set\n",
    "train_set = train_set.reshape(train_set.shape[0], train_set.shape[1])\n",
    "train_set_scaled = scaler.transform(train_set)# reshape test set\n",
    "test_set = test_set.reshape(test_set.shape[0], test_set.shape[1])\n",
    "test_set_scaled = scaler.transform(test_set)"
   ]
  },
  {
   "cell_type": "code",
   "execution_count": 152,
   "id": "e6a72748-c37b-45f0-9514-557742e7aacd",
   "metadata": {},
   "outputs": [],
   "source": [
    "X_train, y_train = train_set_scaled[:, 1:], train_set_scaled[:, 0:1]\n",
    "X_train = X_train.reshape(X_train.shape[0], 1, X_train.shape[1])\n",
    "X_test, y_test = test_set_scaled[:, 1:], test_set_scaled[:, 0:1]\n",
    "X_test = X_test.reshape(X_test.shape[0], 1, X_test.shape[1])"
   ]
  },
  {
   "cell_type": "code",
   "execution_count": 153,
   "id": "b6e467c2-40b7-48ad-81cc-1b54a11c6bad",
   "metadata": {},
   "outputs": [
    {
     "name": "stdout",
     "output_type": "stream",
     "text": [
      "Epoch 1/100\n",
      "125/125 [==============================] - 2s 3ms/step - loss: 0.0367\n",
      "Epoch 2/100\n",
      "125/125 [==============================] - 0s 3ms/step - loss: 0.0287\n",
      "Epoch 3/100\n",
      "125/125 [==============================] - 0s 3ms/step - loss: 0.0275\n",
      "Epoch 4/100\n",
      "125/125 [==============================] - 0s 3ms/step - loss: 0.0265\n",
      "Epoch 5/100\n",
      "125/125 [==============================] - 0s 3ms/step - loss: 0.0258\n",
      "Epoch 6/100\n",
      "125/125 [==============================] - 0s 3ms/step - loss: 0.0252\n",
      "Epoch 7/100\n",
      "125/125 [==============================] - 0s 3ms/step - loss: 0.0247\n",
      "Epoch 8/100\n",
      "125/125 [==============================] - 0s 3ms/step - loss: 0.0242\n",
      "Epoch 9/100\n",
      "125/125 [==============================] - 0s 3ms/step - loss: 0.0237\n",
      "Epoch 10/100\n",
      "125/125 [==============================] - 0s 3ms/step - loss: 0.0233\n",
      "Epoch 11/100\n",
      "125/125 [==============================] - 0s 4ms/step - loss: 0.0229\n",
      "Epoch 12/100\n",
      "125/125 [==============================] - 0s 3ms/step - loss: 0.0225\n",
      "Epoch 13/100\n",
      "125/125 [==============================] - 0s 3ms/step - loss: 0.0221\n",
      "Epoch 14/100\n",
      "125/125 [==============================] - 0s 3ms/step - loss: 0.0217\n",
      "Epoch 15/100\n",
      "125/125 [==============================] - 0s 3ms/step - loss: 0.0213\n",
      "Epoch 16/100\n",
      "125/125 [==============================] - 0s 3ms/step - loss: 0.0209\n",
      "Epoch 17/100\n",
      "125/125 [==============================] - 0s 3ms/step - loss: 0.0205\n",
      "Epoch 18/100\n",
      "125/125 [==============================] - 0s 3ms/step - loss: 0.0201\n",
      "Epoch 19/100\n",
      "125/125 [==============================] - 0s 3ms/step - loss: 0.0198\n",
      "Epoch 20/100\n",
      "125/125 [==============================] - 0s 3ms/step - loss: 0.0194\n",
      "Epoch 21/100\n",
      "125/125 [==============================] - 0s 4ms/step - loss: 0.0190\n",
      "Epoch 22/100\n",
      "125/125 [==============================] - 0s 4ms/step - loss: 0.0186\n",
      "Epoch 23/100\n",
      "125/125 [==============================] - 0s 3ms/step - loss: 0.0182\n",
      "Epoch 24/100\n",
      "125/125 [==============================] - 0s 3ms/step - loss: 0.0178\n",
      "Epoch 25/100\n",
      "125/125 [==============================] - 0s 3ms/step - loss: 0.0174\n",
      "Epoch 26/100\n",
      "125/125 [==============================] - 0s 3ms/step - loss: 0.0170\n",
      "Epoch 27/100\n",
      "125/125 [==============================] - 0s 3ms/step - loss: 0.0166\n",
      "Epoch 28/100\n",
      "125/125 [==============================] - 0s 3ms/step - loss: 0.0162\n",
      "Epoch 29/100\n",
      "125/125 [==============================] - 0s 3ms/step - loss: 0.0158\n",
      "Epoch 30/100\n",
      "125/125 [==============================] - 0s 3ms/step - loss: 0.0154\n",
      "Epoch 31/100\n",
      "125/125 [==============================] - 0s 3ms/step - loss: 0.0150\n",
      "Epoch 32/100\n",
      "125/125 [==============================] - 0s 3ms/step - loss: 0.0147\n",
      "Epoch 33/100\n",
      "125/125 [==============================] - 0s 3ms/step - loss: 0.0143\n",
      "Epoch 34/100\n",
      "125/125 [==============================] - 0s 3ms/step - loss: 0.0140\n",
      "Epoch 35/100\n",
      "125/125 [==============================] - 0s 3ms/step - loss: 0.0137\n",
      "Epoch 36/100\n",
      "125/125 [==============================] - 0s 3ms/step - loss: 0.0134\n",
      "Epoch 37/100\n",
      "125/125 [==============================] - 0s 3ms/step - loss: 0.0132\n",
      "Epoch 38/100\n",
      "125/125 [==============================] - 0s 3ms/step - loss: 0.0129\n",
      "Epoch 39/100\n",
      "125/125 [==============================] - 0s 3ms/step - loss: 0.0127\n",
      "Epoch 40/100\n",
      "125/125 [==============================] - 0s 3ms/step - loss: 0.0125\n",
      "Epoch 41/100\n",
      "125/125 [==============================] - 0s 3ms/step - loss: 0.0124\n",
      "Epoch 42/100\n",
      "125/125 [==============================] - 0s 3ms/step - loss: 0.0122\n",
      "Epoch 43/100\n",
      "125/125 [==============================] - 0s 3ms/step - loss: 0.0121\n",
      "Epoch 44/100\n",
      "125/125 [==============================] - 0s 3ms/step - loss: 0.0120\n",
      "Epoch 45/100\n",
      "125/125 [==============================] - 0s 3ms/step - loss: 0.0118\n",
      "Epoch 46/100\n",
      "125/125 [==============================] - 0s 3ms/step - loss: 0.0118\n",
      "Epoch 47/100\n",
      "125/125 [==============================] - 0s 3ms/step - loss: 0.0117\n",
      "Epoch 48/100\n",
      "125/125 [==============================] - 0s 3ms/step - loss: 0.0116\n",
      "Epoch 49/100\n",
      "125/125 [==============================] - 0s 3ms/step - loss: 0.0115\n",
      "Epoch 50/100\n",
      "125/125 [==============================] - 0s 3ms/step - loss: 0.0114\n",
      "Epoch 51/100\n",
      "125/125 [==============================] - 0s 3ms/step - loss: 0.0114\n",
      "Epoch 52/100\n",
      "125/125 [==============================] - 0s 3ms/step - loss: 0.0113\n",
      "Epoch 53/100\n",
      "125/125 [==============================] - 0s 3ms/step - loss: 0.0113\n",
      "Epoch 54/100\n",
      "125/125 [==============================] - 0s 3ms/step - loss: 0.0112\n",
      "Epoch 55/100\n",
      "125/125 [==============================] - 0s 3ms/step - loss: 0.0112\n",
      "Epoch 56/100\n",
      "125/125 [==============================] - 0s 3ms/step - loss: 0.0111\n",
      "Epoch 57/100\n",
      "125/125 [==============================] - 0s 3ms/step - loss: 0.0110\n",
      "Epoch 58/100\n",
      "125/125 [==============================] - 0s 3ms/step - loss: 0.0110\n",
      "Epoch 59/100\n",
      "125/125 [==============================] - 0s 4ms/step - loss: 0.0109\n",
      "Epoch 60/100\n",
      "125/125 [==============================] - 0s 3ms/step - loss: 0.0109\n",
      "Epoch 61/100\n",
      "125/125 [==============================] - 0s 3ms/step - loss: 0.0108\n",
      "Epoch 62/100\n",
      "125/125 [==============================] - 0s 3ms/step - loss: 0.0108\n",
      "Epoch 63/100\n",
      "125/125 [==============================] - 0s 3ms/step - loss: 0.0107\n",
      "Epoch 64/100\n",
      "125/125 [==============================] - 0s 3ms/step - loss: 0.0107\n",
      "Epoch 65/100\n",
      "125/125 [==============================] - 0s 3ms/step - loss: 0.0106\n",
      "Epoch 66/100\n",
      "125/125 [==============================] - 0s 3ms/step - loss: 0.0106\n",
      "Epoch 67/100\n",
      "125/125 [==============================] - 0s 3ms/step - loss: 0.0105\n",
      "Epoch 68/100\n",
      "125/125 [==============================] - 0s 3ms/step - loss: 0.0105\n",
      "Epoch 69/100\n",
      "125/125 [==============================] - 0s 3ms/step - loss: 0.0104\n",
      "Epoch 70/100\n",
      "125/125 [==============================] - 0s 3ms/step - loss: 0.0104\n",
      "Epoch 71/100\n",
      "125/125 [==============================] - 0s 3ms/step - loss: 0.0103\n",
      "Epoch 72/100\n",
      "125/125 [==============================] - 0s 3ms/step - loss: 0.0103\n",
      "Epoch 73/100\n",
      "125/125 [==============================] - 0s 3ms/step - loss: 0.0102\n",
      "Epoch 74/100\n",
      "125/125 [==============================] - 0s 3ms/step - loss: 0.0102\n",
      "Epoch 75/100\n",
      "125/125 [==============================] - 0s 3ms/step - loss: 0.0101\n",
      "Epoch 76/100\n",
      "125/125 [==============================] - 0s 3ms/step - loss: 0.0101\n",
      "Epoch 77/100\n",
      "125/125 [==============================] - 0s 3ms/step - loss: 0.0100\n",
      "Epoch 78/100\n",
      "125/125 [==============================] - 0s 3ms/step - loss: 0.0100\n",
      "Epoch 79/100\n",
      "125/125 [==============================] - 0s 3ms/step - loss: 0.0099\n",
      "Epoch 80/100\n",
      "125/125 [==============================] - 0s 3ms/step - loss: 0.0099\n",
      "Epoch 81/100\n",
      "125/125 [==============================] - 0s 3ms/step - loss: 0.0098\n",
      "Epoch 82/100\n",
      "125/125 [==============================] - 0s 3ms/step - loss: 0.0098\n",
      "Epoch 83/100\n",
      "125/125 [==============================] - 0s 3ms/step - loss: 0.0097\n",
      "Epoch 84/100\n",
      "125/125 [==============================] - 0s 3ms/step - loss: 0.0097\n",
      "Epoch 85/100\n",
      "125/125 [==============================] - 0s 3ms/step - loss: 0.0096\n",
      "Epoch 86/100\n",
      "125/125 [==============================] - 0s 3ms/step - loss: 0.0096\n",
      "Epoch 87/100\n",
      "125/125 [==============================] - 0s 3ms/step - loss: 0.0095\n",
      "Epoch 88/100\n",
      "125/125 [==============================] - 0s 3ms/step - loss: 0.0095\n",
      "Epoch 89/100\n",
      "125/125 [==============================] - 0s 3ms/step - loss: 0.0094\n",
      "Epoch 90/100\n",
      "125/125 [==============================] - 0s 3ms/step - loss: 0.0094\n",
      "Epoch 91/100\n",
      "125/125 [==============================] - 0s 3ms/step - loss: 0.0093\n",
      "Epoch 92/100\n",
      "125/125 [==============================] - 0s 3ms/step - loss: 0.0093\n",
      "Epoch 93/100\n",
      "125/125 [==============================] - 0s 3ms/step - loss: 0.0092\n",
      "Epoch 94/100\n",
      "125/125 [==============================] - 0s 3ms/step - loss: 0.0091\n",
      "Epoch 95/100\n",
      "125/125 [==============================] - 0s 3ms/step - loss: 0.0091\n",
      "Epoch 96/100\n",
      "125/125 [==============================] - 0s 3ms/step - loss: 0.0090\n",
      "Epoch 97/100\n",
      "125/125 [==============================] - 0s 3ms/step - loss: 0.0090\n",
      "Epoch 98/100\n",
      "125/125 [==============================] - 0s 3ms/step - loss: 0.0089\n",
      "Epoch 99/100\n",
      "125/125 [==============================] - 0s 3ms/step - loss: 0.0089\n",
      "Epoch 100/100\n",
      "125/125 [==============================] - 0s 3ms/step - loss: 0.0088\n"
     ]
    },
    {
     "data": {
      "text/plain": [
       "<keras.src.callbacks.History at 0x241ffd08670>"
      ]
     },
     "execution_count": 153,
     "metadata": {},
     "output_type": "execute_result"
    }
   ],
   "source": [
    "model = Sequential()\n",
    "model.add(LSTM(4, batch_input_shape=(1, X_train.shape[1], X_train.shape[2]), stateful=True))\n",
    "model.add(Dense(1))\n",
    "model.compile(loss='mean_squared_error', optimizer='adam')\n",
    "# model.fit(X_train, y_train, nb_epoch=100, batch_size=1, verbose=1, shuffle=False)\n",
    "model.fit(X_train, y_train, epochs=100, batch_size=1, verbose=1, shuffle=False)"
   ]
  },
  {
   "cell_type": "code",
   "execution_count": 134,
   "id": "c56e0f26-a9ca-47e9-ac6c-dc6e5adfe965",
   "metadata": {},
   "outputs": [
    {
     "name": "stdout",
     "output_type": "stream",
     "text": [
      "6/6 [==============================] - 0s 3ms/step\n"
     ]
    }
   ],
   "source": [
    "y_pred = model.predict(X_test,batch_size=1)\n",
    "#for multistep prediction, you need to replace \n",
    "# X_test values with the predictions coming from t-1"
   ]
  },
  {
   "cell_type": "code",
   "execution_count": 156,
   "id": "15debd72-5234-4de1-be76-55534f0b90e0",
   "metadata": {},
   "outputs": [
    {
     "data": {
      "text/plain": [
       "array([[[ 1.1962488 ]],\n",
       "\n",
       "       [[-0.5297658 ]],\n",
       "\n",
       "       [[ 0.142844  ]],\n",
       "\n",
       "       [[ 0.38092187]],\n",
       "\n",
       "       [[-0.2030051 ]],\n",
       "\n",
       "       [[ 0.08925302]]], dtype=float32)"
      ]
     },
     "execution_count": 156,
     "metadata": {},
     "output_type": "execute_result"
    }
   ],
   "source": [
    "y_pred"
   ]
  },
  {
   "cell_type": "code",
   "execution_count": 157,
   "id": "1d49cbb3-517c-4e36-a03d-92120833ec06",
   "metadata": {},
   "outputs": [
    {
     "data": {
      "text/plain": [
       "array([[ 0.02154754],\n",
       "       [ 0.06694045],\n",
       "       [-0.15970154],\n",
       "       [ 0.14712669],\n",
       "       [-0.03390767],\n",
       "       [-0.163683  ]])"
      ]
     },
     "execution_count": 157,
     "metadata": {},
     "output_type": "execute_result"
    }
   ],
   "source": [
    "y_test"
   ]
  },
  {
   "cell_type": "code",
   "execution_count": 194,
   "id": "91c057c3-d549-42ef-9cb1-7fcb6df3197f",
   "metadata": {},
   "outputs": [
    {
     "name": "stdout",
     "output_type": "stream",
     "text": [
      "[[ 1.19624877 -0.07009366  0.04160858 -0.17356076 -0.10250181 -0.00559286\n",
      "   0.05587872 -2.04580596  3.60628185 -0.63564149  0.44525992 -0.61502263\n",
      "   0.40897684]]\n",
      "[[-0.52976578  0.02154754 -0.07009366  0.04160858 -0.17356076 -0.10250181\n",
      "  -0.00559286 -0.43780511 -3.40863851  3.60628185 -0.63564149  0.44525992\n",
      "  -0.61502263]]\n",
      "[[ 0.14284401  0.06694045  0.02154754 -0.07009366  0.04160858 -0.17356076\n",
      "  -0.10250181 -0.53142036  0.29481406 -3.40863851  3.60628185 -0.63564149\n",
      "   0.44525992]]\n",
      "[[ 0.38092187 -0.15970154  0.06694045  0.02154754 -0.07009366  0.04160858\n",
      "  -0.17356076 -0.67900328  0.07920495  0.29481406 -3.40863851  3.60628185\n",
      "  -0.63564149]]\n",
      "[[-0.20300511  0.14712669 -0.15970154  0.06694045  0.02154754 -0.07009366\n",
      "   0.04160858 -0.78721917 -0.26069933  0.07920495  0.29481406 -3.40863851\n",
      "   3.60628185]]\n",
      "[[ 0.08925302 -0.03390767  0.14712669 -0.15970154  0.06694045  0.02154754\n",
      "  -0.07009366 -0.45953714 -0.50993577 -0.26069933  0.07920495  0.29481406\n",
      "  -3.40863851]]\n"
     ]
    }
   ],
   "source": [
    "#reshape y_pred\n",
    "y_pred = y_pred.reshape(y_pred.shape[0], 1, y_pred.shape[1])\n",
    "#rebuild test set for inverse transform\n",
    "pred_test_set = []\n",
    "for index in range(0,len(y_pred)):\n",
    "    print(np.concatenate([y_pred[index],X_test[index]],axis=1))\n",
    "    pred_test_set.append(np.concatenate([y_pred[index],X_test[index]],axis=1))\n",
    "#reshape pred_test_set\n",
    "pred_test_set = np.array(pred_test_set)\n",
    "pred_test_set = pred_test_set.reshape(pred_test_set.shape[0], pred_test_set.shape[2])#inverse transform\n",
    "pred_test_set_inverted = scaler.inverse_transform(pred_test_set)\n"
   ]
  },
  {
   "cell_type": "code",
   "execution_count": 199,
   "id": "ab1823a0-0a77-4cfd-8a15-d71fb0b08673",
   "metadata": {},
   "outputs": [],
   "source": [
    "pred_test_set = np.array(pred_test_set)\n",
    "\n",
    "# Check if it's 2D\n",
    "if len(pred_test_set.shape) == 2:\n",
    "    pred_test_set = pred_test_set.reshape(pred_test_set.shape[0], pred_test_set.shape[1])\n",
    "else:\n",
    "    pred_test_set = pred_test_set.reshape(pred_test_set.shape[0], pred_test_set.shape[2])\n",
    "\n",
    "pred_test_set = np.array(pred_test_set)\n",
    "pred_test_set = pred_test_set.reshape(pred_test_set.shape[0], pred_test_set.shape[1])\n",
    "\n",
    "# pred_test_set = np.array(pred_test_set)\n",
    "# pred_test_set = pred_test_set.reshape(pred_test_set.shape[0], pred_test_set.shape[2])\n"
   ]
  },
  {
   "cell_type": "code",
   "execution_count": null,
   "id": "628db3df-9052-4a38-952e-4aa7895edaa6",
   "metadata": {},
   "outputs": [],
   "source": []
  },
  {
   "cell_type": "code",
   "execution_count": 200,
   "id": "6d238b70-de13-455c-bc25-fff63e84793a",
   "metadata": {},
   "outputs": [],
   "source": [
    "# #reshape pred_test_set\n",
    "# pred_test_set = np.array(pred_test_set)\n",
    "# pred_test_set = pred_test_set.reshape(pred_test_set.shape[0], pred_test_set.shape[1])\n",
    "# # pred_test_set\n",
    "\n",
    "# pred_test_set = np.array(pred_test_set)\n",
    "# pred_test_set = pred_test_set.reshape(pred_test_set.shape[0], pred_test_set.shape[2])\n"
   ]
  },
  {
   "cell_type": "code",
   "execution_count": 201,
   "id": "8b16026d-35b5-485c-ab19-1aa579754fa0",
   "metadata": {
    "scrolled": true
   },
   "outputs": [
    {
     "data": {
      "text/plain": [
       "array([[ 1.16200568e+11, -2.37229395e+09,  8.08684768e+09,\n",
       "        -1.20603445e+10, -5.40680204e+09,  3.66718216e+09,\n",
       "         9.42301951e+09, -8.94432576e+10,  9.78249865e+10,\n",
       "        -1.54161474e+10,  1.34392778e+10, -1.48657122e+10,\n",
       "         1.24706754e+10],\n",
       "       [-4.54132897e+10,  6.20844976e+09, -2.37229395e+09,\n",
       "         8.08684768e+09, -1.20603445e+10, -5.40680204e+09,\n",
       "         3.66718216e+09,  9.42301951e+09, -8.94432576e+10,\n",
       "         9.78249865e+10, -1.54161474e+10,  1.34392778e+10,\n",
       "        -1.48657122e+10],\n",
       "       [ 1.75659376e+10,  1.04587745e+10,  6.20844976e+09,\n",
       "        -2.37229395e+09,  8.08684768e+09, -1.20603445e+10,\n",
       "        -5.40680204e+09,  3.66718216e+09,  9.42301951e+09,\n",
       "        -8.94432576e+10,  9.78249865e+10, -1.54161474e+10,\n",
       "         1.34392778e+10],\n",
       "       [ 3.98581494e+10, -1.07626489e+10,  1.04587745e+10,\n",
       "         6.20844976e+09, -2.37229395e+09,  8.08684768e+09,\n",
       "        -1.20603445e+10, -5.40680204e+09,  3.66718216e+09,\n",
       "         9.42301951e+09, -8.94432576e+10,  9.78249865e+10,\n",
       "        -1.54161474e+10],\n",
       "       [-1.48173403e+10,  1.79669430e+10, -1.07626489e+10,\n",
       "         1.04587745e+10,  6.20844976e+09, -2.37229395e+09,\n",
       "         8.08684768e+09, -1.20603445e+10, -5.40680204e+09,\n",
       "         3.66718216e+09,  9.42301951e+09, -8.94432576e+10,\n",
       "         9.78249865e+10],\n",
       "       [ 1.25479930e+10,  1.01594940e+09,  1.79669430e+10,\n",
       "        -1.07626489e+10,  1.04587745e+10,  6.20844976e+09,\n",
       "        -2.37229395e+09,  8.08684768e+09, -1.20603445e+10,\n",
       "        -5.40680204e+09,  3.66718216e+09,  9.42301951e+09,\n",
       "        -8.94432576e+10]])"
      ]
     },
     "execution_count": 201,
     "metadata": {},
     "output_type": "execute_result"
    }
   ],
   "source": [
    "#inverse transform\n",
    "pred_test_set_inverted = scaler.inverse_transform(pred_test_set)\n",
    "# len(pred_test_set_inverted)\n",
    "pred_test_set_inverted"
   ]
  },
  {
   "cell_type": "code",
   "execution_count": 203,
   "id": "5ee7fdf7-49e5-44c2-84ef-e9bfe01c9d69",
   "metadata": {},
   "outputs": [
    {
     "data": {
      "text/html": [
       "<div>\n",
       "<style scoped>\n",
       "    .dataframe tbody tr th:only-of-type {\n",
       "        vertical-align: middle;\n",
       "    }\n",
       "\n",
       "    .dataframe tbody tr th {\n",
       "        vertical-align: top;\n",
       "    }\n",
       "\n",
       "    .dataframe thead th {\n",
       "        text-align: right;\n",
       "    }\n",
       "</style>\n",
       "<table border=\"1\" class=\"dataframe\">\n",
       "  <thead>\n",
       "    <tr style=\"text-align: right;\">\n",
       "      <th></th>\n",
       "      <th>pred_value</th>\n",
       "      <th>date</th>\n",
       "    </tr>\n",
       "  </thead>\n",
       "  <tbody>\n",
       "    <tr>\n",
       "      <th>0</th>\n",
       "      <td>159503777691</td>\n",
       "      <td>2023-07-01</td>\n",
       "    </tr>\n",
       "    <tr>\n",
       "      <th>1</th>\n",
       "      <td>4098369991</td>\n",
       "      <td>2023-08-01</td>\n",
       "    </tr>\n",
       "    <tr>\n",
       "      <th>2</th>\n",
       "      <td>77536371767</td>\n",
       "      <td>2023-09-01</td>\n",
       "    </tr>\n",
       "    <tr>\n",
       "      <th>3</th>\n",
       "      <td>89065934611</td>\n",
       "      <td>2023-10-01</td>\n",
       "    </tr>\n",
       "    <tr>\n",
       "      <th>4</th>\n",
       "      <td>52357387921</td>\n",
       "      <td>2023-11-01</td>\n",
       "    </tr>\n",
       "    <tr>\n",
       "      <th>5</th>\n",
       "      <td>80738670597</td>\n",
       "      <td>2023-12-01</td>\n",
       "    </tr>\n",
       "  </tbody>\n",
       "</table>\n",
       "</div>"
      ],
      "text/plain": [
       "     pred_value       date\n",
       "0  159503777691 2023-07-01\n",
       "1    4098369991 2023-08-01\n",
       "2   77536371767 2023-09-01\n",
       "3   89065934611 2023-10-01\n",
       "4   52357387921 2023-11-01\n",
       "5   80738670597 2023-12-01"
      ]
     },
     "execution_count": 203,
     "metadata": {},
     "output_type": "execute_result"
    }
   ],
   "source": [
    "#create dataframe that shows the predicted sales\n",
    "result_list = []\n",
    "sales_dates = list(monthly_sum[-7:].date)\n",
    "act_sales = list(monthly_sum[-7:].actual_worth)\n",
    "for index in range(0,len(pred_test_set_inverted)):\n",
    "    result_dict = {}\n",
    "    result_dict['pred_value'] = int(pred_test_set_inverted[index][0] + act_sales[index])\n",
    "    result_dict['date'] = sales_dates[index+1]\n",
    "    result_list.append(result_dict)\n",
    "    # result_list = result_dict.copy()\n",
    "    \n",
    "df_result = pd.DataFrame(result_list)\n",
    "# # for multistep prediction, replace act_sales with the predicted sales\n",
    "# # int(pred_test_set_inverted[index][0] + act_sales[index])\n",
    "# sales_dates[index+1]+\n",
    "df_result"
   ]
  },
  {
   "cell_type": "code",
   "execution_count": 208,
   "id": "5fd1b8f3-58ed-42b9-b1b4-1366a01aac39",
   "metadata": {},
   "outputs": [
    {
     "data": {
      "application/vnd.plotly.v1+json": {
       "config": {
        "linkText": "Export to plot.ly",
        "plotlyServerURL": "https://plot.ly",
        "showLink": false
       },
       "data": [
        {
         "name": "actual",
         "type": "scatter",
         "x": [
          "2012-01-01T00:00:00",
          "2012-02-01T00:00:00",
          "2012-03-01T00:00:00",
          "2012-04-01T00:00:00",
          "2012-05-01T00:00:00",
          "2012-06-01T00:00:00",
          "2012-07-01T00:00:00",
          "2012-08-01T00:00:00",
          "2012-09-01T00:00:00",
          "2012-10-01T00:00:00",
          "2012-11-01T00:00:00",
          "2012-12-01T00:00:00",
          "2013-01-01T00:00:00",
          "2013-02-01T00:00:00",
          "2013-03-01T00:00:00",
          "2013-04-01T00:00:00",
          "2013-05-01T00:00:00",
          "2013-06-01T00:00:00",
          "2013-07-01T00:00:00",
          "2013-08-01T00:00:00",
          "2013-09-01T00:00:00",
          "2013-10-01T00:00:00",
          "2013-11-01T00:00:00",
          "2013-12-01T00:00:00",
          "2014-01-01T00:00:00",
          "2014-02-01T00:00:00",
          "2014-03-01T00:00:00",
          "2014-04-01T00:00:00",
          "2014-05-01T00:00:00",
          "2014-06-01T00:00:00",
          "2014-07-01T00:00:00",
          "2014-08-01T00:00:00",
          "2014-09-01T00:00:00",
          "2014-10-01T00:00:00",
          "2014-11-01T00:00:00",
          "2014-12-01T00:00:00",
          "2015-01-01T00:00:00",
          "2015-02-01T00:00:00",
          "2015-03-01T00:00:00",
          "2015-04-01T00:00:00",
          "2015-05-01T00:00:00",
          "2015-06-01T00:00:00",
          "2015-07-01T00:00:00",
          "2015-08-01T00:00:00",
          "2015-09-01T00:00:00",
          "2015-10-01T00:00:00",
          "2015-11-01T00:00:00",
          "2015-12-01T00:00:00",
          "2016-01-01T00:00:00",
          "2016-02-01T00:00:00",
          "2016-03-01T00:00:00",
          "2016-04-01T00:00:00",
          "2016-05-01T00:00:00",
          "2016-06-01T00:00:00",
          "2016-07-01T00:00:00",
          "2016-08-01T00:00:00",
          "2016-09-01T00:00:00",
          "2016-10-01T00:00:00",
          "2016-11-01T00:00:00",
          "2016-12-01T00:00:00",
          "2017-01-01T00:00:00",
          "2017-02-01T00:00:00",
          "2017-03-01T00:00:00",
          "2017-04-01T00:00:00",
          "2017-05-01T00:00:00",
          "2017-06-01T00:00:00",
          "2017-07-01T00:00:00",
          "2017-08-01T00:00:00",
          "2017-09-01T00:00:00",
          "2017-10-01T00:00:00",
          "2017-11-01T00:00:00",
          "2017-12-01T00:00:00",
          "2018-01-01T00:00:00",
          "2018-02-01T00:00:00",
          "2018-03-01T00:00:00",
          "2018-04-01T00:00:00",
          "2018-05-01T00:00:00",
          "2018-06-01T00:00:00",
          "2018-07-01T00:00:00",
          "2018-08-01T00:00:00",
          "2018-09-01T00:00:00",
          "2018-10-01T00:00:00",
          "2018-11-01T00:00:00",
          "2018-12-01T00:00:00",
          "2019-01-01T00:00:00",
          "2019-02-01T00:00:00",
          "2019-03-01T00:00:00",
          "2019-04-01T00:00:00",
          "2019-05-01T00:00:00",
          "2019-06-01T00:00:00",
          "2019-07-01T00:00:00",
          "2019-08-01T00:00:00",
          "2019-09-01T00:00:00",
          "2019-10-01T00:00:00",
          "2019-11-01T00:00:00",
          "2019-12-01T00:00:00",
          "2020-01-01T00:00:00",
          "2020-02-01T00:00:00",
          "2020-03-01T00:00:00",
          "2020-04-01T00:00:00",
          "2020-05-01T00:00:00",
          "2020-06-01T00:00:00",
          "2020-07-01T00:00:00",
          "2020-08-01T00:00:00",
          "2020-09-01T00:00:00",
          "2020-10-01T00:00:00",
          "2020-11-01T00:00:00",
          "2020-12-01T00:00:00",
          "2021-01-01T00:00:00",
          "2021-02-01T00:00:00",
          "2021-03-01T00:00:00",
          "2021-04-01T00:00:00",
          "2021-05-01T00:00:00",
          "2021-06-01T00:00:00",
          "2021-07-01T00:00:00",
          "2021-08-01T00:00:00",
          "2021-09-01T00:00:00",
          "2021-10-01T00:00:00",
          "2021-11-01T00:00:00",
          "2021-12-01T00:00:00",
          "2022-01-01T00:00:00",
          "2022-02-01T00:00:00",
          "2022-03-01T00:00:00",
          "2022-04-01T00:00:00",
          "2022-05-01T00:00:00",
          "2022-06-01T00:00:00",
          "2022-07-01T00:00:00",
          "2022-08-01T00:00:00",
          "2022-09-01T00:00:00",
          "2022-10-01T00:00:00",
          "2022-11-01T00:00:00",
          "2022-12-01T00:00:00",
          "2023-01-01T00:00:00",
          "2023-02-01T00:00:00",
          "2023-03-01T00:00:00",
          "2023-04-01T00:00:00",
          "2023-05-01T00:00:00",
          "2023-06-01T00:00:00",
          "2023-07-01T00:00:00",
          "2023-08-01T00:00:00",
          "2023-09-01T00:00:00",
          "2023-10-01T00:00:00",
          "2023-11-01T00:00:00",
          "2023-12-01T00:00:00"
         ],
         "y": [
          8941117280,
          9480179765,
          8641261828,
          17905174931,
          15066203049,
          34680026944,
          20032251065,
          7023233987,
          9308104436,
          23506817186,
          20273197983,
          11999559204,
          15562869235,
          18322245256,
          19503752778,
          17993169330,
          18219738297,
          24732404835,
          26324454442,
          16212488882,
          21712081269,
          22311561657,
          18577057723,
          46825513012,
          21682558361,
          24366076854,
          23736310368,
          23511898710,
          16920922612,
          19680765142,
          17857103157,
          17297795782,
          22457310575,
          18441651718,
          18676256703,
          28915835934,
          22439200782,
          16555205797,
          31647627661,
          25708999021,
          19306135231,
          21345601891,
          16705560813,
          19029813648,
          27822843169,
          16448186083,
          21973007462,
          22092816220,
          21683144340,
          19128748992,
          20042389444,
          20990569044,
          21646925710,
          25872150922,
          16451073189,
          23266300262,
          12077015157,
          37748527919,
          25078223109,
          20902105607,
          24321067816,
          23810852537,
          23890477948,
          21612631657,
          23160681031,
          13712047995,
          18014518032,
          27254249728,
          15241949914,
          20331029340,
          26276813784,
          31571903509,
          16911604720,
          18926051719,
          20246980241,
          17177321238,
          19478248502,
          14977234558,
          21620171058,
          13097368480,
          11959671350,
          19383902557,
          13638185895,
          29070962725,
          12990957411,
          24935601324,
          13701356500,
          29380519062,
          16672826272,
          11882578332,
          17550379741,
          9054248078,
          15206292692,
          22377187632,
          17344734301,
          23240991146,
          13933633567,
          17135558385,
          15779080358,
          5709205172,
          5963140130,
          11694896733,
          27145474757,
          11139072257,
          18389000360,
          14383712349,
          13837578602,
          15484542080,
          28096323869,
          15895718393,
          24140549459,
          21742003332,
          18518177274,
          30248467154,
          18527789914,
          25602612911,
          30512191925,
          24510180627,
          28447698973,
          27410750815,
          21787454879,
          22390108585,
          42230216807,
          27081203603,
          26810050050,
          37955778518,
          50426453951,
          35560741723,
          49000019494,
          33583872072,
          131408858619,
          41965601058,
          51388620565,
          55055802728,
          49649000685,
          37588656148,
          45675503831,
          43303209884,
          49511659647,
          59970434143,
          49207785206,
          67174728232,
          68190677630,
          57055228149
         ]
        },
        {
         "name": "predicted",
         "type": "scatter",
         "x": [
          "2012-01-01T00:00:00",
          "2012-02-01T00:00:00",
          "2012-03-01T00:00:00",
          "2012-04-01T00:00:00",
          "2012-05-01T00:00:00",
          "2012-06-01T00:00:00",
          "2012-07-01T00:00:00",
          "2012-08-01T00:00:00",
          "2012-09-01T00:00:00",
          "2012-10-01T00:00:00",
          "2012-11-01T00:00:00",
          "2012-12-01T00:00:00",
          "2013-01-01T00:00:00",
          "2013-02-01T00:00:00",
          "2013-03-01T00:00:00",
          "2013-04-01T00:00:00",
          "2013-05-01T00:00:00",
          "2013-06-01T00:00:00",
          "2013-07-01T00:00:00",
          "2013-08-01T00:00:00",
          "2013-09-01T00:00:00",
          "2013-10-01T00:00:00",
          "2013-11-01T00:00:00",
          "2013-12-01T00:00:00",
          "2014-01-01T00:00:00",
          "2014-02-01T00:00:00",
          "2014-03-01T00:00:00",
          "2014-04-01T00:00:00",
          "2014-05-01T00:00:00",
          "2014-06-01T00:00:00",
          "2014-07-01T00:00:00",
          "2014-08-01T00:00:00",
          "2014-09-01T00:00:00",
          "2014-10-01T00:00:00",
          "2014-11-01T00:00:00",
          "2014-12-01T00:00:00",
          "2015-01-01T00:00:00",
          "2015-02-01T00:00:00",
          "2015-03-01T00:00:00",
          "2015-04-01T00:00:00",
          "2015-05-01T00:00:00",
          "2015-06-01T00:00:00",
          "2015-07-01T00:00:00",
          "2015-08-01T00:00:00",
          "2015-09-01T00:00:00",
          "2015-10-01T00:00:00",
          "2015-11-01T00:00:00",
          "2015-12-01T00:00:00",
          "2016-01-01T00:00:00",
          "2016-02-01T00:00:00",
          "2016-03-01T00:00:00",
          "2016-04-01T00:00:00",
          "2016-05-01T00:00:00",
          "2016-06-01T00:00:00",
          "2016-07-01T00:00:00",
          "2016-08-01T00:00:00",
          "2016-09-01T00:00:00",
          "2016-10-01T00:00:00",
          "2016-11-01T00:00:00",
          "2016-12-01T00:00:00",
          "2017-01-01T00:00:00",
          "2017-02-01T00:00:00",
          "2017-03-01T00:00:00",
          "2017-04-01T00:00:00",
          "2017-05-01T00:00:00",
          "2017-06-01T00:00:00",
          "2017-07-01T00:00:00",
          "2017-08-01T00:00:00",
          "2017-09-01T00:00:00",
          "2017-10-01T00:00:00",
          "2017-11-01T00:00:00",
          "2017-12-01T00:00:00",
          "2018-01-01T00:00:00",
          "2018-02-01T00:00:00",
          "2018-03-01T00:00:00",
          "2018-04-01T00:00:00",
          "2018-05-01T00:00:00",
          "2018-06-01T00:00:00",
          "2018-07-01T00:00:00",
          "2018-08-01T00:00:00",
          "2018-09-01T00:00:00",
          "2018-10-01T00:00:00",
          "2018-11-01T00:00:00",
          "2018-12-01T00:00:00",
          "2019-01-01T00:00:00",
          "2019-02-01T00:00:00",
          "2019-03-01T00:00:00",
          "2019-04-01T00:00:00",
          "2019-05-01T00:00:00",
          "2019-06-01T00:00:00",
          "2019-07-01T00:00:00",
          "2019-08-01T00:00:00",
          "2019-09-01T00:00:00",
          "2019-10-01T00:00:00",
          "2019-11-01T00:00:00",
          "2019-12-01T00:00:00",
          "2020-01-01T00:00:00",
          "2020-02-01T00:00:00",
          "2020-03-01T00:00:00",
          "2020-04-01T00:00:00",
          "2020-05-01T00:00:00",
          "2020-06-01T00:00:00",
          "2020-07-01T00:00:00",
          "2020-08-01T00:00:00",
          "2020-09-01T00:00:00",
          "2020-10-01T00:00:00",
          "2020-11-01T00:00:00",
          "2020-12-01T00:00:00",
          "2021-01-01T00:00:00",
          "2021-02-01T00:00:00",
          "2021-03-01T00:00:00",
          "2021-04-01T00:00:00",
          "2021-05-01T00:00:00",
          "2021-06-01T00:00:00",
          "2021-07-01T00:00:00",
          "2021-08-01T00:00:00",
          "2021-09-01T00:00:00",
          "2021-10-01T00:00:00",
          "2021-11-01T00:00:00",
          "2021-12-01T00:00:00",
          "2022-01-01T00:00:00",
          "2022-02-01T00:00:00",
          "2022-03-01T00:00:00",
          "2022-04-01T00:00:00",
          "2022-05-01T00:00:00",
          "2022-06-01T00:00:00",
          "2022-07-01T00:00:00",
          "2022-08-01T00:00:00",
          "2022-09-01T00:00:00",
          "2022-10-01T00:00:00",
          "2022-11-01T00:00:00",
          "2022-12-01T00:00:00",
          "2023-01-01T00:00:00",
          "2023-02-01T00:00:00",
          "2023-03-01T00:00:00",
          "2023-04-01T00:00:00",
          "2023-05-01T00:00:00",
          "2023-06-01T00:00:00",
          "2023-07-01T00:00:00",
          "2023-08-01T00:00:00",
          "2023-09-01T00:00:00",
          "2023-10-01T00:00:00",
          "2023-11-01T00:00:00",
          "2023-12-01T00:00:00"
         ],
         "y": [
          null,
          null,
          null,
          null,
          null,
          null,
          null,
          null,
          null,
          null,
          null,
          null,
          null,
          null,
          null,
          null,
          null,
          null,
          null,
          null,
          null,
          null,
          null,
          null,
          null,
          null,
          null,
          null,
          null,
          null,
          null,
          null,
          null,
          null,
          null,
          null,
          null,
          null,
          null,
          null,
          null,
          null,
          null,
          null,
          null,
          null,
          null,
          null,
          null,
          null,
          null,
          null,
          null,
          null,
          null,
          null,
          null,
          null,
          null,
          null,
          null,
          null,
          null,
          null,
          null,
          null,
          null,
          null,
          null,
          null,
          null,
          null,
          null,
          null,
          null,
          null,
          null,
          null,
          null,
          null,
          null,
          null,
          null,
          null,
          null,
          null,
          null,
          null,
          null,
          null,
          null,
          null,
          null,
          null,
          null,
          null,
          null,
          null,
          null,
          null,
          null,
          null,
          null,
          null,
          null,
          null,
          null,
          null,
          null,
          null,
          null,
          null,
          null,
          null,
          null,
          null,
          null,
          null,
          null,
          null,
          null,
          null,
          null,
          null,
          null,
          null,
          null,
          null,
          null,
          null,
          null,
          null,
          null,
          null,
          null,
          null,
          null,
          null,
          159503777691,
          4098369991,
          77536371767,
          89065934611,
          52357387921,
          80738670597
         ]
        }
       ],
       "layout": {
        "autosize": true,
        "template": {
         "data": {
          "bar": [
           {
            "error_x": {
             "color": "#2a3f5f"
            },
            "error_y": {
             "color": "#2a3f5f"
            },
            "marker": {
             "line": {
              "color": "#E5ECF6",
              "width": 0.5
             },
             "pattern": {
              "fillmode": "overlay",
              "size": 10,
              "solidity": 0.2
             }
            },
            "type": "bar"
           }
          ],
          "barpolar": [
           {
            "marker": {
             "line": {
              "color": "#E5ECF6",
              "width": 0.5
             },
             "pattern": {
              "fillmode": "overlay",
              "size": 10,
              "solidity": 0.2
             }
            },
            "type": "barpolar"
           }
          ],
          "carpet": [
           {
            "aaxis": {
             "endlinecolor": "#2a3f5f",
             "gridcolor": "white",
             "linecolor": "white",
             "minorgridcolor": "white",
             "startlinecolor": "#2a3f5f"
            },
            "baxis": {
             "endlinecolor": "#2a3f5f",
             "gridcolor": "white",
             "linecolor": "white",
             "minorgridcolor": "white",
             "startlinecolor": "#2a3f5f"
            },
            "type": "carpet"
           }
          ],
          "choropleth": [
           {
            "colorbar": {
             "outlinewidth": 0,
             "ticks": ""
            },
            "type": "choropleth"
           }
          ],
          "contour": [
           {
            "colorbar": {
             "outlinewidth": 0,
             "ticks": ""
            },
            "colorscale": [
             [
              0,
              "#0d0887"
             ],
             [
              0.1111111111111111,
              "#46039f"
             ],
             [
              0.2222222222222222,
              "#7201a8"
             ],
             [
              0.3333333333333333,
              "#9c179e"
             ],
             [
              0.4444444444444444,
              "#bd3786"
             ],
             [
              0.5555555555555556,
              "#d8576b"
             ],
             [
              0.6666666666666666,
              "#ed7953"
             ],
             [
              0.7777777777777778,
              "#fb9f3a"
             ],
             [
              0.8888888888888888,
              "#fdca26"
             ],
             [
              1,
              "#f0f921"
             ]
            ],
            "type": "contour"
           }
          ],
          "contourcarpet": [
           {
            "colorbar": {
             "outlinewidth": 0,
             "ticks": ""
            },
            "type": "contourcarpet"
           }
          ],
          "heatmap": [
           {
            "colorbar": {
             "outlinewidth": 0,
             "ticks": ""
            },
            "colorscale": [
             [
              0,
              "#0d0887"
             ],
             [
              0.1111111111111111,
              "#46039f"
             ],
             [
              0.2222222222222222,
              "#7201a8"
             ],
             [
              0.3333333333333333,
              "#9c179e"
             ],
             [
              0.4444444444444444,
              "#bd3786"
             ],
             [
              0.5555555555555556,
              "#d8576b"
             ],
             [
              0.6666666666666666,
              "#ed7953"
             ],
             [
              0.7777777777777778,
              "#fb9f3a"
             ],
             [
              0.8888888888888888,
              "#fdca26"
             ],
             [
              1,
              "#f0f921"
             ]
            ],
            "type": "heatmap"
           }
          ],
          "heatmapgl": [
           {
            "colorbar": {
             "outlinewidth": 0,
             "ticks": ""
            },
            "colorscale": [
             [
              0,
              "#0d0887"
             ],
             [
              0.1111111111111111,
              "#46039f"
             ],
             [
              0.2222222222222222,
              "#7201a8"
             ],
             [
              0.3333333333333333,
              "#9c179e"
             ],
             [
              0.4444444444444444,
              "#bd3786"
             ],
             [
              0.5555555555555556,
              "#d8576b"
             ],
             [
              0.6666666666666666,
              "#ed7953"
             ],
             [
              0.7777777777777778,
              "#fb9f3a"
             ],
             [
              0.8888888888888888,
              "#fdca26"
             ],
             [
              1,
              "#f0f921"
             ]
            ],
            "type": "heatmapgl"
           }
          ],
          "histogram": [
           {
            "marker": {
             "pattern": {
              "fillmode": "overlay",
              "size": 10,
              "solidity": 0.2
             }
            },
            "type": "histogram"
           }
          ],
          "histogram2d": [
           {
            "colorbar": {
             "outlinewidth": 0,
             "ticks": ""
            },
            "colorscale": [
             [
              0,
              "#0d0887"
             ],
             [
              0.1111111111111111,
              "#46039f"
             ],
             [
              0.2222222222222222,
              "#7201a8"
             ],
             [
              0.3333333333333333,
              "#9c179e"
             ],
             [
              0.4444444444444444,
              "#bd3786"
             ],
             [
              0.5555555555555556,
              "#d8576b"
             ],
             [
              0.6666666666666666,
              "#ed7953"
             ],
             [
              0.7777777777777778,
              "#fb9f3a"
             ],
             [
              0.8888888888888888,
              "#fdca26"
             ],
             [
              1,
              "#f0f921"
             ]
            ],
            "type": "histogram2d"
           }
          ],
          "histogram2dcontour": [
           {
            "colorbar": {
             "outlinewidth": 0,
             "ticks": ""
            },
            "colorscale": [
             [
              0,
              "#0d0887"
             ],
             [
              0.1111111111111111,
              "#46039f"
             ],
             [
              0.2222222222222222,
              "#7201a8"
             ],
             [
              0.3333333333333333,
              "#9c179e"
             ],
             [
              0.4444444444444444,
              "#bd3786"
             ],
             [
              0.5555555555555556,
              "#d8576b"
             ],
             [
              0.6666666666666666,
              "#ed7953"
             ],
             [
              0.7777777777777778,
              "#fb9f3a"
             ],
             [
              0.8888888888888888,
              "#fdca26"
             ],
             [
              1,
              "#f0f921"
             ]
            ],
            "type": "histogram2dcontour"
           }
          ],
          "mesh3d": [
           {
            "colorbar": {
             "outlinewidth": 0,
             "ticks": ""
            },
            "type": "mesh3d"
           }
          ],
          "parcoords": [
           {
            "line": {
             "colorbar": {
              "outlinewidth": 0,
              "ticks": ""
             }
            },
            "type": "parcoords"
           }
          ],
          "pie": [
           {
            "automargin": true,
            "type": "pie"
           }
          ],
          "scatter": [
           {
            "fillpattern": {
             "fillmode": "overlay",
             "size": 10,
             "solidity": 0.2
            },
            "type": "scatter"
           }
          ],
          "scatter3d": [
           {
            "line": {
             "colorbar": {
              "outlinewidth": 0,
              "ticks": ""
             }
            },
            "marker": {
             "colorbar": {
              "outlinewidth": 0,
              "ticks": ""
             }
            },
            "type": "scatter3d"
           }
          ],
          "scattercarpet": [
           {
            "marker": {
             "colorbar": {
              "outlinewidth": 0,
              "ticks": ""
             }
            },
            "type": "scattercarpet"
           }
          ],
          "scattergeo": [
           {
            "marker": {
             "colorbar": {
              "outlinewidth": 0,
              "ticks": ""
             }
            },
            "type": "scattergeo"
           }
          ],
          "scattergl": [
           {
            "marker": {
             "colorbar": {
              "outlinewidth": 0,
              "ticks": ""
             }
            },
            "type": "scattergl"
           }
          ],
          "scattermapbox": [
           {
            "marker": {
             "colorbar": {
              "outlinewidth": 0,
              "ticks": ""
             }
            },
            "type": "scattermapbox"
           }
          ],
          "scatterpolar": [
           {
            "marker": {
             "colorbar": {
              "outlinewidth": 0,
              "ticks": ""
             }
            },
            "type": "scatterpolar"
           }
          ],
          "scatterpolargl": [
           {
            "marker": {
             "colorbar": {
              "outlinewidth": 0,
              "ticks": ""
             }
            },
            "type": "scatterpolargl"
           }
          ],
          "scatterternary": [
           {
            "marker": {
             "colorbar": {
              "outlinewidth": 0,
              "ticks": ""
             }
            },
            "type": "scatterternary"
           }
          ],
          "surface": [
           {
            "colorbar": {
             "outlinewidth": 0,
             "ticks": ""
            },
            "colorscale": [
             [
              0,
              "#0d0887"
             ],
             [
              0.1111111111111111,
              "#46039f"
             ],
             [
              0.2222222222222222,
              "#7201a8"
             ],
             [
              0.3333333333333333,
              "#9c179e"
             ],
             [
              0.4444444444444444,
              "#bd3786"
             ],
             [
              0.5555555555555556,
              "#d8576b"
             ],
             [
              0.6666666666666666,
              "#ed7953"
             ],
             [
              0.7777777777777778,
              "#fb9f3a"
             ],
             [
              0.8888888888888888,
              "#fdca26"
             ],
             [
              1,
              "#f0f921"
             ]
            ],
            "type": "surface"
           }
          ],
          "table": [
           {
            "cells": {
             "fill": {
              "color": "#EBF0F8"
             },
             "line": {
              "color": "white"
             }
            },
            "header": {
             "fill": {
              "color": "#C8D4E3"
             },
             "line": {
              "color": "white"
             }
            },
            "type": "table"
           }
          ]
         },
         "layout": {
          "annotationdefaults": {
           "arrowcolor": "#2a3f5f",
           "arrowhead": 0,
           "arrowwidth": 1
          },
          "autotypenumbers": "strict",
          "coloraxis": {
           "colorbar": {
            "outlinewidth": 0,
            "ticks": ""
           }
          },
          "colorscale": {
           "diverging": [
            [
             0,
             "#8e0152"
            ],
            [
             0.1,
             "#c51b7d"
            ],
            [
             0.2,
             "#de77ae"
            ],
            [
             0.3,
             "#f1b6da"
            ],
            [
             0.4,
             "#fde0ef"
            ],
            [
             0.5,
             "#f7f7f7"
            ],
            [
             0.6,
             "#e6f5d0"
            ],
            [
             0.7,
             "#b8e186"
            ],
            [
             0.8,
             "#7fbc41"
            ],
            [
             0.9,
             "#4d9221"
            ],
            [
             1,
             "#276419"
            ]
           ],
           "sequential": [
            [
             0,
             "#0d0887"
            ],
            [
             0.1111111111111111,
             "#46039f"
            ],
            [
             0.2222222222222222,
             "#7201a8"
            ],
            [
             0.3333333333333333,
             "#9c179e"
            ],
            [
             0.4444444444444444,
             "#bd3786"
            ],
            [
             0.5555555555555556,
             "#d8576b"
            ],
            [
             0.6666666666666666,
             "#ed7953"
            ],
            [
             0.7777777777777778,
             "#fb9f3a"
            ],
            [
             0.8888888888888888,
             "#fdca26"
            ],
            [
             1,
             "#f0f921"
            ]
           ],
           "sequentialminus": [
            [
             0,
             "#0d0887"
            ],
            [
             0.1111111111111111,
             "#46039f"
            ],
            [
             0.2222222222222222,
             "#7201a8"
            ],
            [
             0.3333333333333333,
             "#9c179e"
            ],
            [
             0.4444444444444444,
             "#bd3786"
            ],
            [
             0.5555555555555556,
             "#d8576b"
            ],
            [
             0.6666666666666666,
             "#ed7953"
            ],
            [
             0.7777777777777778,
             "#fb9f3a"
            ],
            [
             0.8888888888888888,
             "#fdca26"
            ],
            [
             1,
             "#f0f921"
            ]
           ]
          },
          "colorway": [
           "#636efa",
           "#EF553B",
           "#00cc96",
           "#ab63fa",
           "#FFA15A",
           "#19d3f3",
           "#FF6692",
           "#B6E880",
           "#FF97FF",
           "#FECB52"
          ],
          "font": {
           "color": "#2a3f5f"
          },
          "geo": {
           "bgcolor": "white",
           "lakecolor": "white",
           "landcolor": "#E5ECF6",
           "showlakes": true,
           "showland": true,
           "subunitcolor": "white"
          },
          "hoverlabel": {
           "align": "left"
          },
          "hovermode": "closest",
          "mapbox": {
           "style": "light"
          },
          "paper_bgcolor": "white",
          "plot_bgcolor": "#E5ECF6",
          "polar": {
           "angularaxis": {
            "gridcolor": "white",
            "linecolor": "white",
            "ticks": ""
           },
           "bgcolor": "#E5ECF6",
           "radialaxis": {
            "gridcolor": "white",
            "linecolor": "white",
            "ticks": ""
           }
          },
          "scene": {
           "xaxis": {
            "backgroundcolor": "#E5ECF6",
            "gridcolor": "white",
            "gridwidth": 2,
            "linecolor": "white",
            "showbackground": true,
            "ticks": "",
            "zerolinecolor": "white"
           },
           "yaxis": {
            "backgroundcolor": "#E5ECF6",
            "gridcolor": "white",
            "gridwidth": 2,
            "linecolor": "white",
            "showbackground": true,
            "ticks": "",
            "zerolinecolor": "white"
           },
           "zaxis": {
            "backgroundcolor": "#E5ECF6",
            "gridcolor": "white",
            "gridwidth": 2,
            "linecolor": "white",
            "showbackground": true,
            "ticks": "",
            "zerolinecolor": "white"
           }
          },
          "shapedefaults": {
           "line": {
            "color": "#2a3f5f"
           }
          },
          "ternary": {
           "aaxis": {
            "gridcolor": "white",
            "linecolor": "white",
            "ticks": ""
           },
           "baxis": {
            "gridcolor": "white",
            "linecolor": "white",
            "ticks": ""
           },
           "bgcolor": "#E5ECF6",
           "caxis": {
            "gridcolor": "white",
            "linecolor": "white",
            "ticks": ""
           }
          },
          "title": {
           "x": 0.05
          },
          "xaxis": {
           "automargin": true,
           "gridcolor": "white",
           "linecolor": "white",
           "ticks": "",
           "title": {
            "standoff": 15
           },
           "zerolinecolor": "white",
           "zerolinewidth": 2
          },
          "yaxis": {
           "automargin": true,
           "gridcolor": "white",
           "linecolor": "white",
           "ticks": "",
           "title": {
            "standoff": 15
           },
           "zerolinecolor": "white",
           "zerolinewidth": 2
          }
         }
        },
        "title": {
         "text": "Sales Prediction"
        },
        "xaxis": {
         "autorange": true,
         "range": [
          "2012-01-01",
          "2023-12-01"
         ],
         "type": "date"
        },
        "yaxis": {
         "autorange": true,
         "range": [
          -4535263770.111111,
          168137411452.1111
         ],
         "type": "linear"
        }
       }
      },
      "image/png": "[encoded data removed]",
      "text/html": [
       "<div>                            <div id=\"8ba265aa-eb4a-48f9-9573-a838a228c6aa\" class=\"plotly-graph-div\" style=\"height:525px; width:100%;\"></div>            <script type=\"text/javascript\">                require([\"plotly\"], function(Plotly) {                    window.PLOTLYENV=window.PLOTLYENV || {};                                    if (document.getElementById(\"8ba265aa-eb4a-48f9-9573-a838a228c6aa\")) {                    Plotly.newPlot(                        \"8ba265aa-eb4a-48f9-9573-a838a228c6aa\",                        [{\"name\":\"actual\",\"x\":[\"2012-01-01T00:00:00\",\"2012-02-01T00:00:00\",\"2012-03-01T00:00:00\",\"2012-04-01T00:00:00\",\"2012-05-01T00:00:00\",\"2012-06-01T00:00:00\",\"2012-07-01T00:00:00\",\"2012-08-01T00:00:00\",\"2012-09-01T00:00:00\",\"2012-10-01T00:00:00\",\"2012-11-01T00:00:00\",\"2012-12-01T00:00:00\",\"2013-01-01T00:00:00\",\"2013-02-01T00:00:00\",\"2013-03-01T00:00:00\",\"2013-04-01T00:00:00\",\"2013-05-01T00:00:00\",\"2013-06-01T00:00:00\",\"2013-07-01T00:00:00\",\"2013-08-01T00:00:00\",\"2013-09-01T00:00:00\",\"2013-10-01T00:00:00\",\"2013-11-01T00:00:00\",\"2013-12-01T00:00:00\",\"2014-01-01T00:00:00\",\"2014-02-01T00:00:00\",\"2014-03-01T00:00:00\",\"2014-04-01T00:00:00\",\"2014-05-01T00:00:00\",\"2014-06-01T00:00:00\",\"2014-07-01T00:00:00\",\"2014-08-01T00:00:00\",\"2014-09-01T00:00:00\",\"2014-10-01T00:00:00\",\"2014-11-01T00:00:00\",\"2014-12-01T00:00:00\",\"2015-01-01T00:00:00\",\"2015-02-01T00:00:00\",\"2015-03-01T00:00:00\",\"2015-04-01T00:00:00\",\"2015-05-01T00:00:00\",\"2015-06-01T00:00:00\",\"2015-07-01T00:00:00\",\"2015-08-01T00:00:00\",\"2015-09-01T00:00:00\",\"2015-10-01T00:00:00\",\"2015-11-01T00:00:00\",\"2015-12-01T00:00:00\",\"2016-01-01T00:00:00\",\"2016-02-01T00:00:00\",\"2016-03-01T00:00:00\",\"2016-04-01T00:00:00\",\"2016-05-01T00:00:00\",\"2016-06-01T00:00:00\",\"2016-07-01T00:00:00\",\"2016-08-01T00:00:00\",\"2016-09-01T00:00:00\",\"2016-10-01T00:00:00\",\"2016-11-01T00:00:00\",\"2016-12-01T00:00:00\",\"2017-01-01T00:00:00\",\"2017-02-01T00:00:00\",\"2017-03-01T00:00:00\",\"2017-04-01T00:00:00\",\"2017-05-01T00:00:00\",\"2017-06-01T00:00:00\",\"2017-07-01T00:00:00\",\"2017-08-01T00:00:00\",\"2017-09-01T00:00:00\",\"2017-10-01T00:00:00\",\"2017-11-01T00:00:00\",\"2017-12-01T00:00:00\",\"2018-01-01T00:00:00\",\"2018-02-01T00:00:00\",\"2018-03-01T00:00:00\",\"2018-04-01T00:00:00\",\"2018-05-01T00:00:00\",\"2018-06-01T00:00:00\",\"2018-07-01T00:00:00\",\"2018-08-01T00:00:00\",\"2018-09-01T00:00:00\",\"2018-10-01T00:00:00\",\"2018-11-01T00:00:00\",\"2018-12-01T00:00:00\",\"2019-01-01T00:00:00\",\"2019-02-01T00:00:00\",\"2019-03-01T00:00:00\",\"2019-04-01T00:00:00\",\"2019-05-01T00:00:00\",\"2019-06-01T00:00:00\",\"2019-07-01T00:00:00\",\"2019-08-01T00:00:00\",\"2019-09-01T00:00:00\",\"2019-10-01T00:00:00\",\"2019-11-01T00:00:00\",\"2019-12-01T00:00:00\",\"2020-01-01T00:00:00\",\"2020-02-01T00:00:00\",\"2020-03-01T00:00:00\",\"2020-04-01T00:00:00\",\"2020-05-01T00:00:00\",\"2020-06-01T00:00:00\",\"2020-07-01T00:00:00\",\"2020-08-01T00:00:00\",\"2020-09-01T00:00:00\",\"2020-10-01T00:00:00\",\"2020-11-01T00:00:00\",\"2020-12-01T00:00:00\",\"2021-01-01T00:00:00\",\"2021-02-01T00:00:00\",\"2021-03-01T00:00:00\",\"2021-04-01T00:00:00\",\"2021-05-01T00:00:00\",\"2021-06-01T00:00:00\",\"2021-07-01T00:00:00\",\"2021-08-01T00:00:00\",\"2021-09-01T00:00:00\",\"2021-10-01T00:00:00\",\"2021-11-01T00:00:00\",\"2021-12-01T00:00:00\",\"2022-01-01T00:00:00\",\"2022-02-01T00:00:00\",\"2022-03-01T00:00:00\",\"2022-04-01T00:00:00\",\"2022-05-01T00:00:00\",\"2022-06-01T00:00:00\",\"2022-07-01T00:00:00\",\"2022-08-01T00:00:00\",\"2022-09-01T00:00:00\",\"2022-10-01T00:00:00\",\"2022-11-01T00:00:00\",\"2022-12-01T00:00:00\",\"2023-01-01T00:00:00\",\"2023-02-01T00:00:00\",\"2023-03-01T00:00:00\",\"2023-04-01T00:00:00\",\"2023-05-01T00:00:00\",\"2023-06-01T00:00:00\",\"2023-07-01T00:00:00\",\"2023-08-01T00:00:00\",\"2023-09-01T00:00:00\",\"2023-10-01T00:00:00\",\"2023-11-01T00:00:00\",\"2023-12-01T00:00:00\"],\"y\":[8941117280.0,9480179765.0,8641261828.0,17905174931.0,15066203049.0,34680026944.0,20032251065.0,7023233987.0,9308104436.0,23506817186.0,20273197983.0,11999559204.0,15562869235.0,18322245256.0,19503752778.0,17993169330.0,18219738297.0,24732404835.0,26324454442.0,16212488882.0,21712081269.0,22311561657.0,18577057723.0,46825513012.0,21682558361.0,24366076854.0,23736310368.0,23511898710.0,16920922612.0,19680765142.0,17857103157.0,17297795782.0,22457310575.0,18441651718.0,18676256703.0,28915835934.0,22439200782.0,16555205797.0,31647627661.0,25708999021.0,19306135231.0,21345601891.0,16705560813.0,19029813648.0,27822843169.0,16448186083.0,21973007462.0,22092816220.0,21683144340.0,19128748992.0,20042389444.0,20990569044.0,21646925710.0,25872150922.0,16451073189.0,23266300262.0,12077015157.0,37748527919.0,25078223109.0,20902105607.0,24321067816.0,23810852537.0,23890477948.0,21612631657.0,23160681031.0,13712047995.0,18014518032.0,27254249728.0,15241949914.0,20331029340.0,26276813784.0,31571903509.0,16911604720.0,18926051719.0,20246980241.0,17177321238.0,19478248502.0,14977234558.0,21620171058.0,13097368480.0,11959671350.0,19383902557.0,13638185895.0,29070962725.0,12990957411.0,24935601324.0,13701356500.0,29380519062.0,16672826272.0,11882578332.0,17550379741.0,9054248078.0,15206292692.0,22377187632.0,17344734301.0,23240991146.0,13933633567.0,17135558385.0,15779080358.0,5709205172.0,5963140130.0,11694896733.0,27145474757.0,11139072257.0,18389000360.0,14383712349.0,13837578602.0,15484542080.0,28096323869.0,15895718393.0,24140549459.0,21742003332.0,18518177274.0,30248467154.0,18527789914.0,25602612911.0,30512191925.0,24510180627.0,28447698973.0,27410750815.0,21787454879.0,22390108585.0,42230216807.0,27081203603.0,26810050050.0,37955778518.0,50426453951.0,35560741723.0,49000019494.0,33583872072.0,131408858619.0,41965601058.0,51388620565.0,55055802728.0,49649000685.0,37588656148.0,45675503831.0,43303209884.0,49511659647.0,59970434143.0,49207785206.0,67174728232.0,68190677630.0,57055228149.0],\"type\":\"scatter\"},{\"name\":\"predicted\",\"x\":[\"2012-01-01T00:00:00\",\"2012-02-01T00:00:00\",\"2012-03-01T00:00:00\",\"2012-04-01T00:00:00\",\"2012-05-01T00:00:00\",\"2012-06-01T00:00:00\",\"2012-07-01T00:00:00\",\"2012-08-01T00:00:00\",\"2012-09-01T00:00:00\",\"2012-10-01T00:00:00\",\"2012-11-01T00:00:00\",\"2012-12-01T00:00:00\",\"2013-01-01T00:00:00\",\"2013-02-01T00:00:00\",\"2013-03-01T00:00:00\",\"2013-04-01T00:00:00\",\"2013-05-01T00:00:00\",\"2013-06-01T00:00:00\",\"2013-07-01T00:00:00\",\"2013-08-01T00:00:00\",\"2013-09-01T00:00:00\",\"2013-10-01T00:00:00\",\"2013-11-01T00:00:00\",\"2013-12-01T00:00:00\",\"2014-01-01T00:00:00\",\"2014-02-01T00:00:00\",\"2014-03-01T00:00:00\",\"2014-04-01T00:00:00\",\"2014-05-01T00:00:00\",\"2014-06-01T00:00:00\",\"2014-07-01T00:00:00\",\"2014-08-01T00:00:00\",\"2014-09-01T00:00:00\",\"2014-10-01T00:00:00\",\"2014-11-01T00:00:00\",\"2014-12-01T00:00:00\",\"2015-01-01T00:00:00\",\"2015-02-01T00:00:00\",\"2015-03-01T00:00:00\",\"2015-04-01T00:00:00\",\"2015-05-01T00:00:00\",\"2015-06-01T00:00:00\",\"2015-07-01T00:00:00\",\"2015-08-01T00:00:00\",\"2015-09-01T00:00:00\",\"2015-10-01T00:00:00\",\"2015-11-01T00:00:00\",\"2015-12-01T00:00:00\",\"2016-01-01T00:00:00\",\"2016-02-01T00:00:00\",\"2016-03-01T00:00:00\",\"2016-04-01T00:00:00\",\"2016-05-01T00:00:00\",\"2016-06-01T00:00:00\",\"2016-07-01T00:00:00\",\"2016-08-01T00:00:00\",\"2016-09-01T00:00:00\",\"2016-10-01T00:00:00\",\"2016-11-01T00:00:00\",\"2016-12-01T00:00:00\",\"2017-01-01T00:00:00\",\"2017-02-01T00:00:00\",\"2017-03-01T00:00:00\",\"2017-04-01T00:00:00\",\"2017-05-01T00:00:00\",\"2017-06-01T00:00:00\",\"2017-07-01T00:00:00\",\"2017-08-01T00:00:00\",\"2017-09-01T00:00:00\",\"2017-10-01T00:00:00\",\"2017-11-01T00:00:00\",\"2017-12-01T00:00:00\",\"2018-01-01T00:00:00\",\"2018-02-01T00:00:00\",\"2018-03-01T00:00:00\",\"2018-04-01T00:00:00\",\"2018-05-01T00:00:00\",\"2018-06-01T00:00:00\",\"2018-07-01T00:00:00\",\"2018-08-01T00:00:00\",\"2018-09-01T00:00:00\",\"2018-10-01T00:00:00\",\"2018-11-01T00:00:00\",\"2018-12-01T00:00:00\",\"2019-01-01T00:00:00\",\"2019-02-01T00:00:00\",\"2019-03-01T00:00:00\",\"2019-04-01T00:00:00\",\"2019-05-01T00:00:00\",\"2019-06-01T00:00:00\",\"2019-07-01T00:00:00\",\"2019-08-01T00:00:00\",\"2019-09-01T00:00:00\",\"2019-10-01T00:00:00\",\"2019-11-01T00:00:00\",\"2019-12-01T00:00:00\",\"2020-01-01T00:00:00\",\"2020-02-01T00:00:00\",\"2020-03-01T00:00:00\",\"2020-04-01T00:00:00\",\"2020-05-01T00:00:00\",\"2020-06-01T00:00:00\",\"2020-07-01T00:00:00\",\"2020-08-01T00:00:00\",\"2020-09-01T00:00:00\",\"2020-10-01T00:00:00\",\"2020-11-01T00:00:00\",\"2020-12-01T00:00:00\",\"2021-01-01T00:00:00\",\"2021-02-01T00:00:00\",\"2021-03-01T00:00:00\",\"2021-04-01T00:00:00\",\"2021-05-01T00:00:00\",\"2021-06-01T00:00:00\",\"2021-07-01T00:00:00\",\"2021-08-01T00:00:00\",\"2021-09-01T00:00:00\",\"2021-10-01T00:00:00\",\"2021-11-01T00:00:00\",\"2021-12-01T00:00:00\",\"2022-01-01T00:00:00\",\"2022-02-01T00:00:00\",\"2022-03-01T00:00:00\",\"2022-04-01T00:00:00\",\"2022-05-01T00:00:00\",\"2022-06-01T00:00:00\",\"2022-07-01T00:00:00\",\"2022-08-01T00:00:00\",\"2022-09-01T00:00:00\",\"2022-10-01T00:00:00\",\"2022-11-01T00:00:00\",\"2022-12-01T00:00:00\",\"2023-01-01T00:00:00\",\"2023-02-01T00:00:00\",\"2023-03-01T00:00:00\",\"2023-04-01T00:00:00\",\"2023-05-01T00:00:00\",\"2023-06-01T00:00:00\",\"2023-07-01T00:00:00\",\"2023-08-01T00:00:00\",\"2023-09-01T00:00:00\",\"2023-10-01T00:00:00\",\"2023-11-01T00:00:00\",\"2023-12-01T00:00:00\"],\"y\":[null,null,null,null,null,null,null,null,null,null,null,null,null,null,null,null,null,null,null,null,null,null,null,null,null,null,null,null,null,null,null,null,null,null,null,null,null,null,null,null,null,null,null,null,null,null,null,null,null,null,null,null,null,null,null,null,null,null,null,null,null,null,null,null,null,null,null,null,null,null,null,null,null,null,null,null,null,null,null,null,null,null,null,null,null,null,null,null,null,null,null,null,null,null,null,null,null,null,null,null,null,null,null,null,null,null,null,null,null,null,null,null,null,null,null,null,null,null,null,null,null,null,null,null,null,null,null,null,null,null,null,null,null,null,null,null,null,null,159503777691.0,4098369991.0,77536371767.0,89065934611.0,52357387921.0,80738670597.0],\"type\":\"scatter\"}],                        {\"template\":{\"data\":{\"barpolar\":[{\"marker\":{\"line\":{\"color\":\"#E5ECF6\",\"width\":0.5},\"pattern\":{\"fillmode\":\"overlay\",\"size\":10,\"solidity\":0.2}},\"type\":\"barpolar\"}],\"bar\":[{\"error_x\":{\"color\":\"#2a3f5f\"},\"error_y\":{\"color\":\"#2a3f5f\"},\"marker\":{\"line\":{\"color\":\"#E5ECF6\",\"width\":0.5},\"pattern\":{\"fillmode\":\"overlay\",\"size\":10,\"solidity\":0.2}},\"type\":\"bar\"}],\"carpet\":[{\"aaxis\":{\"endlinecolor\":\"#2a3f5f\",\"gridcolor\":\"white\",\"linecolor\":\"white\",\"minorgridcolor\":\"white\",\"startlinecolor\":\"#2a3f5f\"},\"baxis\":{\"endlinecolor\":\"#2a3f5f\",\"gridcolor\":\"white\",\"linecolor\":\"white\",\"minorgridcolor\":\"white\",\"startlinecolor\":\"#2a3f5f\"},\"type\":\"carpet\"}],\"choropleth\":[{\"colorbar\":{\"outlinewidth\":0,\"ticks\":\"\"},\"type\":\"choropleth\"}],\"contourcarpet\":[{\"colorbar\":{\"outlinewidth\":0,\"ticks\":\"\"},\"type\":\"contourcarpet\"}],\"contour\":[{\"colorbar\":{\"outlinewidth\":0,\"ticks\":\"\"},\"colorscale\":[[0.0,\"#0d0887\"],[0.1111111111111111,\"#46039f\"],[0.2222222222222222,\"#7201a8\"],[0.3333333333333333,\"#9c179e\"],[0.4444444444444444,\"#bd3786\"],[0.5555555555555556,\"#d8576b\"],[0.6666666666666666,\"#ed7953\"],[0.7777777777777778,\"#fb9f3a\"],[0.8888888888888888,\"#fdca26\"],[1.0,\"#f0f921\"]],\"type\":\"contour\"}],\"heatmapgl\":[{\"colorbar\":{\"outlinewidth\":0,\"ticks\":\"\"},\"colorscale\":[[0.0,\"#0d0887\"],[0.1111111111111111,\"#46039f\"],[0.2222222222222222,\"#7201a8\"],[0.3333333333333333,\"#9c179e\"],[0.4444444444444444,\"#bd3786\"],[0.5555555555555556,\"#d8576b\"],[0.6666666666666666,\"#ed7953\"],[0.7777777777777778,\"#fb9f3a\"],[0.8888888888888888,\"#fdca26\"],[1.0,\"#f0f921\"]],\"type\":\"heatmapgl\"}],\"heatmap\":[{\"colorbar\":{\"outlinewidth\":0,\"ticks\":\"\"},\"colorscale\":[[0.0,\"#0d0887\"],[0.1111111111111111,\"#46039f\"],[0.2222222222222222,\"#7201a8\"],[0.3333333333333333,\"#9c179e\"],[0.4444444444444444,\"#bd3786\"],[0.5555555555555556,\"#d8576b\"],[0.6666666666666666,\"#ed7953\"],[0.7777777777777778,\"#fb9f3a\"],[0.8888888888888888,\"#fdca26\"],[1.0,\"#f0f921\"]],\"type\":\"heatmap\"}],\"histogram2dcontour\":[{\"colorbar\":{\"outlinewidth\":0,\"ticks\":\"\"},\"colorscale\":[[0.0,\"#0d0887\"],[0.1111111111111111,\"#46039f\"],[0.2222222222222222,\"#7201a8\"],[0.3333333333333333,\"#9c179e\"],[0.4444444444444444,\"#bd3786\"],[0.5555555555555556,\"#d8576b\"],[0.6666666666666666,\"#ed7953\"],[0.7777777777777778,\"#fb9f3a\"],[0.8888888888888888,\"#fdca26\"],[1.0,\"#f0f921\"]],\"type\":\"histogram2dcontour\"}],\"histogram2d\":[{\"colorbar\":{\"outlinewidth\":0,\"ticks\":\"\"},\"colorscale\":[[0.0,\"#0d0887\"],[0.1111111111111111,\"#46039f\"],[0.2222222222222222,\"#7201a8\"],[0.3333333333333333,\"#9c179e\"],[0.4444444444444444,\"#bd3786\"],[0.5555555555555556,\"#d8576b\"],[0.6666666666666666,\"#ed7953\"],[0.7777777777777778,\"#fb9f3a\"],[0.8888888888888888,\"#fdca26\"],[1.0,\"#f0f921\"]],\"type\":\"histogram2d\"}],\"histogram\":[{\"marker\":{\"pattern\":{\"fillmode\":\"overlay\",\"size\":10,\"solidity\":0.2}},\"type\":\"histogram\"}],\"mesh3d\":[{\"colorbar\":{\"outlinewidth\":0,\"ticks\":\"\"},\"type\":\"mesh3d\"}],\"parcoords\":[{\"line\":{\"colorbar\":{\"outlinewidth\":0,\"ticks\":\"\"}},\"type\":\"parcoords\"}],\"pie\":[{\"automargin\":true,\"type\":\"pie\"}],\"scatter3d\":[{\"line\":{\"colorbar\":{\"outlinewidth\":0,\"ticks\":\"\"}},\"marker\":{\"colorbar\":{\"outlinewidth\":0,\"ticks\":\"\"}},\"type\":\"scatter3d\"}],\"scattercarpet\":[{\"marker\":{\"colorbar\":{\"outlinewidth\":0,\"ticks\":\"\"}},\"type\":\"scattercarpet\"}],\"scattergeo\":[{\"marker\":{\"colorbar\":{\"outlinewidth\":0,\"ticks\":\"\"}},\"type\":\"scattergeo\"}],\"scattergl\":[{\"marker\":{\"colorbar\":{\"outlinewidth\":0,\"ticks\":\"\"}},\"type\":\"scattergl\"}],\"scattermapbox\":[{\"marker\":{\"colorbar\":{\"outlinewidth\":0,\"ticks\":\"\"}},\"type\":\"scattermapbox\"}],\"scatterpolargl\":[{\"marker\":{\"colorbar\":{\"outlinewidth\":0,\"ticks\":\"\"}},\"type\":\"scatterpolargl\"}],\"scatterpolar\":[{\"marker\":{\"colorbar\":{\"outlinewidth\":0,\"ticks\":\"\"}},\"type\":\"scatterpolar\"}],\"scatter\":[{\"fillpattern\":{\"fillmode\":\"overlay\",\"size\":10,\"solidity\":0.2},\"type\":\"scatter\"}],\"scatterternary\":[{\"marker\":{\"colorbar\":{\"outlinewidth\":0,\"ticks\":\"\"}},\"type\":\"scatterternary\"}],\"surface\":[{\"colorbar\":{\"outlinewidth\":0,\"ticks\":\"\"},\"colorscale\":[[0.0,\"#0d0887\"],[0.1111111111111111,\"#46039f\"],[0.2222222222222222,\"#7201a8\"],[0.3333333333333333,\"#9c179e\"],[0.4444444444444444,\"#bd3786\"],[0.5555555555555556,\"#d8576b\"],[0.6666666666666666,\"#ed7953\"],[0.7777777777777778,\"#fb9f3a\"],[0.8888888888888888,\"#fdca26\"],[1.0,\"#f0f921\"]],\"type\":\"surface\"}],\"table\":[{\"cells\":{\"fill\":{\"color\":\"#EBF0F8\"},\"line\":{\"color\":\"white\"}},\"header\":{\"fill\":{\"color\":\"#C8D4E3\"},\"line\":{\"color\":\"white\"}},\"type\":\"table\"}]},\"layout\":{\"annotationdefaults\":{\"arrowcolor\":\"#2a3f5f\",\"arrowhead\":0,\"arrowwidth\":1},\"autotypenumbers\":\"strict\",\"coloraxis\":{\"colorbar\":{\"outlinewidth\":0,\"ticks\":\"\"}},\"colorscale\":{\"diverging\":[[0,\"#8e0152\"],[0.1,\"#c51b7d\"],[0.2,\"#de77ae\"],[0.3,\"#f1b6da\"],[0.4,\"#fde0ef\"],[0.5,\"#f7f7f7\"],[0.6,\"#e6f5d0\"],[0.7,\"#b8e186\"],[0.8,\"#7fbc41\"],[0.9,\"#4d9221\"],[1,\"#276419\"]],\"sequential\":[[0.0,\"#0d0887\"],[0.1111111111111111,\"#46039f\"],[0.2222222222222222,\"#7201a8\"],[0.3333333333333333,\"#9c179e\"],[0.4444444444444444,\"#bd3786\"],[0.5555555555555556,\"#d8576b\"],[0.6666666666666666,\"#ed7953\"],[0.7777777777777778,\"#fb9f3a\"],[0.8888888888888888,\"#fdca26\"],[1.0,\"#f0f921\"]],\"sequentialminus\":[[0.0,\"#0d0887\"],[0.1111111111111111,\"#46039f\"],[0.2222222222222222,\"#7201a8\"],[0.3333333333333333,\"#9c179e\"],[0.4444444444444444,\"#bd3786\"],[0.5555555555555556,\"#d8576b\"],[0.6666666666666666,\"#ed7953\"],[0.7777777777777778,\"#fb9f3a\"],[0.8888888888888888,\"#fdca26\"],[1.0,\"#f0f921\"]]},\"colorway\":[\"#636efa\",\"#EF553B\",\"#00cc96\",\"#ab63fa\",\"#FFA15A\",\"#19d3f3\",\"#FF6692\",\"#B6E880\",\"#FF97FF\",\"#FECB52\"],\"font\":{\"color\":\"#2a3f5f\"},\"geo\":{\"bgcolor\":\"white\",\"lakecolor\":\"white\",\"landcolor\":\"#E5ECF6\",\"showlakes\":true,\"showland\":true,\"subunitcolor\":\"white\"},\"hoverlabel\":{\"align\":\"left\"},\"hovermode\":\"closest\",\"mapbox\":{\"style\":\"light\"},\"paper_bgcolor\":\"white\",\"plot_bgcolor\":\"#E5ECF6\",\"polar\":{\"angularaxis\":{\"gridcolor\":\"white\",\"linecolor\":\"white\",\"ticks\":\"\"},\"bgcolor\":\"#E5ECF6\",\"radialaxis\":{\"gridcolor\":\"white\",\"linecolor\":\"white\",\"ticks\":\"\"}},\"scene\":{\"xaxis\":{\"backgroundcolor\":\"#E5ECF6\",\"gridcolor\":\"white\",\"gridwidth\":2,\"linecolor\":\"white\",\"showbackground\":true,\"ticks\":\"\",\"zerolinecolor\":\"white\"},\"yaxis\":{\"backgroundcolor\":\"#E5ECF6\",\"gridcolor\":\"white\",\"gridwidth\":2,\"linecolor\":\"white\",\"showbackground\":true,\"ticks\":\"\",\"zerolinecolor\":\"white\"},\"zaxis\":{\"backgroundcolor\":\"#E5ECF6\",\"gridcolor\":\"white\",\"gridwidth\":2,\"linecolor\":\"white\",\"showbackground\":true,\"ticks\":\"\",\"zerolinecolor\":\"white\"}},\"shapedefaults\":{\"line\":{\"color\":\"#2a3f5f\"}},\"ternary\":{\"aaxis\":{\"gridcolor\":\"white\",\"linecolor\":\"white\",\"ticks\":\"\"},\"baxis\":{\"gridcolor\":\"white\",\"linecolor\":\"white\",\"ticks\":\"\"},\"bgcolor\":\"#E5ECF6\",\"caxis\":{\"gridcolor\":\"white\",\"linecolor\":\"white\",\"ticks\":\"\"}},\"title\":{\"x\":0.05},\"xaxis\":{\"automargin\":true,\"gridcolor\":\"white\",\"linecolor\":\"white\",\"ticks\":\"\",\"title\":{\"standoff\":15},\"zerolinecolor\":\"white\",\"zerolinewidth\":2},\"yaxis\":{\"automargin\":true,\"gridcolor\":\"white\",\"linecolor\":\"white\",\"ticks\":\"\",\"title\":{\"standoff\":15},\"zerolinecolor\":\"white\",\"zerolinewidth\":2}}},\"title\":{\"text\":\"Sales Prediction\"}},                        {\"responsive\": true}                    ).then(function(){\n",
       "                            \n",
       "var gd = document.getElementById('8ba265aa-eb4a-48f9-9573-a838a228c6aa');\n",
       "var x = new MutationObserver(function (mutations, observer) {{\n",
       "        var display = window.getComputedStyle(gd).display;\n",
       "        if (!display || display === 'none') {{\n",
       "            console.log([gd, 'removed!']);\n",
       "            Plotly.purge(gd);\n",
       "            observer.disconnect();\n",
       "        }}\n",
       "}});\n",
       "\n",
       "// Listen for the removal of the full notebook cells\n",
       "var notebookContainer = gd.closest('#notebook-container');\n",
       "if (notebookContainer) {{\n",
       "    x.observe(notebookContainer, {childList: true});\n",
       "}}\n",
       "\n",
       "// Listen for the clearing of the current output cell\n",
       "var outputEl = gd.closest('.output');\n",
       "if (outputEl) {{\n",
       "    x.observe(outputEl, {childList: true});\n",
       "}}\n",
       "\n",
       "                        })                };                });            </script>        </div>"
      ]
     },
     "metadata": {},
     "output_type": "display_data"
    }
   ],
   "source": [
    "#merge with actual sales dataframe\n",
    "df_sales_pred = pd.merge(monthly_sum,df_result,on='date',how='left')#plot actual and predicted\n",
    "plot_data = [\n",
    "    go.Scatter(\n",
    "        x=df_sales_pred['date'],\n",
    "        y=df_sales_pred['actual_worth'],\n",
    "        name='actual'),\n",
    "        go.Scatter(\n",
    "        x=df_sales_pred['date'],\n",
    "        y=df_sales_pred['pred_value'],\n",
    "        name='predicted'\n",
    "    )]\n",
    "plot_layout = go.Layout(\n",
    "        title='Sales Prediction')\n",
    "fig = go.Figure(data=plot_data, layout=plot_layout)\n",
    "pyoff.iplot(fig)"
   ]
  }
 ],
 "metadata": {
  "kernelspec": {
   "display_name": "Python 3 (ipykernel)",
   "language": "python",
   "name": "python3"
  },
  "language_info": {
   "codemirror_mode": {
    "name": "ipython",
    "version": 3
   },
   "file_extension": ".py",
   "mimetype": "text/x-python",
   "name": "python",
   "nbconvert_exporter": "python",
   "pygments_lexer": "ipython3",
   "version": "3.9.0"
  }
 },
 "nbformat": 4,
 "nbformat_minor": 5
}
